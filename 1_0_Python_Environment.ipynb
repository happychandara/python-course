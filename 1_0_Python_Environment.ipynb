{
 "cells": [
  {
   "cell_type": "markdown",
   "id": "d8f89256",
   "metadata": {},
   "source": [
    "# Python Course - Chapter 0 : Initiation to computers, programming languages and the Python environment\n",
    "\n",
    "## Python Environment\n",
    "\n",
    "In order to write code in Python, we have two options :\n",
    "- Install Python and a code editor (Virtual Studio Code for instance...) on the computer and code locally.\n",
    "- Use an online Python interface (which basically runs a virtual machine to execute the code).\n",
    "\n",
    "For us, the second option will be more practical. We will code on the following website : https://www.online-python.com/."
   ]
  }
 ],
 "metadata": {
  "kernelspec": {
   "display_name": "Python 3 (ipykernel)",
   "language": "python",
   "name": "python3"
  },
  "language_info": {
   "codemirror_mode": {
    "name": "ipython",
    "version": 3
   },
   "file_extension": ".py",
   "mimetype": "text/x-python",
   "name": "python",
   "nbconvert_exporter": "python",
   "pygments_lexer": "ipython3",
   "version": "3.9.12"
  }
 },
 "nbformat": 4,
 "nbformat_minor": 5
}
