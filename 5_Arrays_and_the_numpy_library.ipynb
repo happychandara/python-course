{
 "cells": [
  {
   "cell_type": "markdown",
   "id": "7849f40a",
   "metadata": {},
   "source": [
    "# Python Course - Chapter 5 : Arrays and the numpy library\n",
    "\n",
    "## 1) Discovering the numpy library\n",
    "\n"
   ]
  },
  {
   "cell_type": "markdown",
   "id": "378c6ed9",
   "metadata": {},
   "source": [
    "## 2) Matrix calculation"
   ]
  },
  {
   "cell_type": "code",
   "execution_count": null,
   "id": "1a45d9cc",
   "metadata": {},
   "outputs": [],
   "source": []
  }
 ],
 "metadata": {
  "kernelspec": {
   "display_name": "Python 3 (ipykernel)",
   "language": "python",
   "name": "python3"
  },
  "language_info": {
   "codemirror_mode": {
    "name": "ipython",
    "version": 3
   },
   "file_extension": ".py",
   "mimetype": "text/x-python",
   "name": "python",
   "nbconvert_exporter": "python",
   "pygments_lexer": "ipython3",
   "version": "3.9.12"
  }
 },
 "nbformat": 4,
 "nbformat_minor": 5
}
