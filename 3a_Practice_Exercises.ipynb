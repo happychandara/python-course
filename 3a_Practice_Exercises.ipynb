{
 "cells": [
  {
   "cell_type": "markdown",
   "id": "197b5453",
   "metadata": {},
   "source": [
    "# Python Course - Chapter 3 : Lists\n",
    "\n",
    "## Practice Exercises"
   ]
  },
  {
   "cell_type": "markdown",
   "id": "7d1971b4",
   "metadata": {},
   "source": [
    "### Exercise 1 - Making your own reverse functions\n",
    "\n",
    "Write a function that takes in parameter a list `l` and returns a new list that is the reverse of `l` (the list `l` must not be modified !)."
   ]
  },
  {
   "cell_type": "code",
   "execution_count": null,
   "id": "986995bb",
   "metadata": {},
   "outputs": [],
   "source": []
  },
  {
   "cell_type": "markdown",
   "id": "a2f4c9b8",
   "metadata": {},
   "source": [
    "### Exercise 2 - Classic functions\n",
    "\n",
    "**1)** Write a function that takes in parameter a list `l` of numbers and returns the maximum value of the list.<br>\n",
    "<br>\n",
    "**2)** Write a function that takes in parameter a list `l` of numbers and returns the index of the maximum value of the list.<br>\n",
    "<br>\n",
    "**3)** Write a function that takes in parameters a list `l` and a value `x` and returns `True` if `x` is an element of the list `l` or False otherwise."
   ]
  },
  {
   "cell_type": "code",
   "execution_count": null,
   "id": "e76d7ae1",
   "metadata": {},
   "outputs": [],
   "source": []
  },
  {
   "attachments": {
    "image.png": {
     "image/png": "[encoded data removed]"
    }
   },
   "cell_type": "markdown",
   "id": "7a8785a7",
   "metadata": {},
   "source": [
    "### Exercise 3 - Altitude during a hike\n",
    "\n",
    "An altimeter is a device that measures the vertical distance between a point and a reference height. When hiking in moutains, Alice always uses an altimeter : she sets a reference at her starting point and keeps track of her altitude by making one measure with the altimeter every hour.<br>\n",
    "At the end of her hike, she stores all of the values in a Python list `alt`, as seen in the figure below :<br>\n",
    "<br>\n",
    "![image.png](attachment:image.png)\n",
    "\n",
    "Alice now wishes to calculate some values relative to her hike.<br>\n",
    "<br>\n",
    "**1)** What already existing function would allow Alice to know the duration of her hike ?<br>\n",
    "<br>\n",
    "**2)** Write a function `altmax` taking in parameter a list `alt` of altitudes and returning the value of the maximum altitude reached during the hike (with Alice's list, the result should be `1000`).<br>\n",
    "<br>\n",
    "**3)** Alice now wants to know when she climbed the fastest during her hike. Write a function `climbmax` taking in parameter a list `alt` of altitudes and returning the time at which the biggest height difference between two hours started (with Alice's list, the result should be `3`, corresponding to a height difference of 400 between the 3rd and 4th hours).<br>\n",
    "<br>\n",
    "**4)** Write a function `climbtotal` taking in parameter a list `alt` of altitudes and returning the sum of all the positive height differences during the hike (with Alice's list, the result should be `1200` for instance).<br>\n",
    "<br>\n",
    "**5)** A summit is an altitude that is greater than those of the previous and next points. In Alice's example, three summits were reached at the 4th, 6th and 8th hours, of values 1000, 900 and 600).<br>\n",
    "Write a function `summits` taking in parameter a list `alt` of altitudes and returning a list of all the values of the summits in the order they were reached (for Alice's hike, this function should return `[1000,900,600]`)."
   ]
  },
  {
   "cell_type": "code",
   "execution_count": null,
   "id": "528fda23",
   "metadata": {},
   "outputs": [],
   "source": []
  },
  {
   "cell_type": "markdown",
   "id": "275b862c",
   "metadata": {},
   "source": [
    "### Exercise 4 - Palindromes\n",
    "\n",
    "A palindrome is a word that can be read from left to right or from right to left without changing it at all. For instance, 'madam', 'racecar' and 'tacocat' are palindromes !<br>\n",
    "Write a function `palindrome` that takes a string `s` as parameter and returns `True` if `s` is a palindrome or `False` otherwise."
   ]
  },
  {
   "cell_type": "code",
   "execution_count": null,
   "id": "51213ac8",
   "metadata": {},
   "outputs": [],
   "source": []
  },
  {
   "cell_type": "markdown",
   "id": "3ee8546f",
   "metadata": {},
   "source": [
    "### Exercise 5 - Longest repetition\n",
    "\n",
    "We consider lists of bits, which are lists containing only the values 0 and 1. Here is an example : `[0,0,1,0,1,1,1,0,0,0,0,0,1,1,0,1,1,0,1,1,1,1]`.<br>\n",
    "Write a function that takes a list of bits in parameter and returns the maximum amount of consecutive identical digits. For instance, this function should return 5 for the list above as the maximum amount of consecutive identical digits is five occurences of 0, starting at index 7."
   ]
  },
  {
   "cell_type": "code",
   "execution_count": null,
   "id": "4c59f9ec",
   "metadata": {},
   "outputs": [],
   "source": []
  },
  {
   "cell_type": "markdown",
   "id": "08f1acae",
   "metadata": {},
   "source": [
    "### Exercise 6 - Average amount of missing integers\n",
    "\n",
    "**1)** From the module `numpy.random`, import the function `randint`. Use this function to generate a list of 100 random integers between 0 and 99.<br>\n",
    "<br>\n",
    "**2)** Calculate the amount of integers between 0 and 99 that are missing in this list.<br>\n",
    "<br>\n",
    "**3)** Repeat this experience a large amount of times to estimate the average amount of missing integers (the theoretical value is approximately 36.6)."
   ]
  },
  {
   "cell_type": "code",
   "execution_count": null,
   "id": "1412d0ee",
   "metadata": {},
   "outputs": [],
   "source": []
  },
  {
   "cell_type": "markdown",
   "id": "bdf82bcb",
   "metadata": {},
   "source": [
    "### Exercise 7 - Sieve of Erathostenes\n",
    "\n",
    "The sieve of Erathostenes is a method used by Erathostenes during the 3rd century B.C. to determine prime numbers. The algorithm works as follows :\n",
    "- Create a list of numbers from 2 to N (N can be as large as you want).\n",
    "- 2 is prime so we keep it. We can now eliminate all the multiples of 2 from the list since we know they are not prime.\n",
    "- The next numbers that was not eliminated is necessarily prime : here, it is 3. We can now eliminate all the multiples of 3 from the list.\n",
    "- We keep going until we reach N or until there's no integer left that wasn't eliminated.\n",
    "\n",
    "Implement this method in Python by writing a function `erathostenes(N)` that returns a list of all prime numbers between 2 and N.<br>\n",
    "Use this function to determine all the prime numbers inferior or equal to 10 000."
   ]
  },
  {
   "cell_type": "code",
   "execution_count": null,
   "id": "c13513f3",
   "metadata": {},
   "outputs": [],
   "source": []
  },
  {
   "cell_type": "markdown",
   "id": "3901cdf1",
   "metadata": {},
   "source": [
    "### Exercise 8- Largest product in a grid (Project Euler #11) &#9733;\n",
    "\n",
    "Here is a 20x20 grid containing 400 two digits numbers :<br>\n",
    "<br>\n",
    "08 02 22 97 38 15 00 40 00 75 04 05 07 78 52 12 50 77 91 08<br>\n",
    "49 49 99 40 17 81 18 57 60 87 17 40 98 43 69 48 04 56 62 00<br>\n",
    "81 49 31 73 55 79 14 29 93 71 40 67 53 88 30 03 49 13 36 65<br>\n",
    "52 70 95 23 04 60 11 42 69 24 68 56 01 32 56 71 37 02 36 91<br>\n",
    "22 31 16 71 51 67 63 89 41 92 36 54 22 40 40 28 66 33 13 80<br>\n",
    "24 47 32 60 99 03 45 02 44 75 33 53 78 36 84 20 35 17 12 50<br>\n",
    "32 98 81 28 64 23 67 10 26 38 40 67 59 54 70 66 18 38 64 70<br>\n",
    "67 26 20 68 02 62 12 **20** 95 63 94 39 63 08 40 91 66 49 94 21<br>\n",
    "24 55 58 05 66 73 99 26 **97** 17 78 78 96 83 14 88 34 89 63 72<br>\n",
    "21 36 23 09 75 00 76 44 20 **45** 35 14 00 61 33 97 34 31 33 95<br>\n",
    "78 17 53 28 22 75 31 67 15 94 **03** 80 04 62 16 14 09 53 56 92<br>\n",
    "16 39 05 42 96 35 31 47 55 58 88 24 00 17 54 24 36 29 85 57<br>\n",
    "86 56 00 48 35 71 89 07 05 44 44 37 44 60 21 58 51 54 17 58<br>\n",
    "19 80 81 68 05 94 47 69 28 73 92 13 86 52 17 77 04 89 55 40<br>\n",
    "04 52 08 83 97 35 99 16 07 97 57 32 16 26 26 79 33 27 98 66<br>\n",
    "88 36 68 87 57 62 20 72 03 46 33 67 46 55 12 32 63 93 53 69<br>\n",
    "04 42 16 73 38 25 39 11 24 94 72 18 08 46 29 32 40 62 76 36<br>\n",
    "20 69 36 41 72 30 23 88 34 62 99 69 82 67 59 85 74 04 36 16<br>\n",
    "20 73 35 29 78 31 90 01 74 31 49 71 48 86 81 16 23 57 05 54<br>\n",
    "01 70 54 71 83 51 54 69 16 92 33 48 61 43 52 01 89 19 67 48<br>\n",
    "<br>\n",
    "Four numbers are bolded, their product is $20\\times97\\times45\\times3 = 261900$. Find the maximal product obtained with four consecutive numbers in this grid in any direction (horizontally, vertically or even diagonally).<br>\n",
    "<br>\n",
    "*Hint : Use the `split` method for `string` type objects.*"
   ]
  },
  {
   "cell_type": "code",
   "execution_count": null,
   "id": "751206cd",
   "metadata": {},
   "outputs": [],
   "source": []
  },
  {
   "cell_type": "markdown",
   "id": "752e1ab2",
   "metadata": {},
   "source": [
    "### Exercise 9 - Sikinia's prison &#9733;\n",
    "\n",
    "In the central prison of Sikinia, there are 10 000 cells, all numbered from 1 to 10 000. All of the cells are occupied by a single prisonner and all closed. Each cell can be opened or closed by clicking a single button on the door outside the cell : clicking the button switches the state or the door but there is no way to know if it was opened or closed before and after clicking it. <br>\n",
    "To celebrate the 100th anniversary of the Republic, it was decided to grant a partial amnesty and free a few prisonners.<br>\n",
    "<br>\n",
    "The president orders 10 000 guards to proceed as follows to decide what doors to click the button on :\n",
    "- The first guard clicks the button on every door.\n",
    "- The second guard clicks the button every two door, which means doors n° 2, 4, 6, 8, 10, 12, ...\n",
    "- The third guard clicks the button every three door, which means doors n° 3, 6, 9, 12, 15, 18, ...\n",
    "- ...\n",
    "- The n-th guard clicks the button every n door, which means doors n° n, 2n, 3n, 4n, 5n, 6n, ...\n",
    "- ...\n",
    "- The 10 000th guard clicks the button every 10 000 door (he only clicks the button on door n°10 000).\n",
    "\n",
    "At the end of this process, which doors are left open ?"
   ]
  },
  {
   "cell_type": "code",
   "execution_count": null,
   "id": "94720868",
   "metadata": {},
   "outputs": [],
   "source": []
  }
 ],
 "metadata": {
  "kernelspec": {
   "display_name": "Python 3 (ipykernel)",
   "language": "python",
   "name": "python3"
  },
  "language_info": {
   "codemirror_mode": {
    "name": "ipython",
    "version": 3
   },
   "file_extension": ".py",
   "mimetype": "text/x-python",
   "name": "python",
   "nbconvert_exporter": "python",
   "pygments_lexer": "ipython3",
   "version": "3.9.12"
  }
 },
 "nbformat": 4,
 "nbformat_minor": 5
}
