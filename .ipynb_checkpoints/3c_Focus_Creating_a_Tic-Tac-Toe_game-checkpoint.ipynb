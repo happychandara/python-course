{
 "cells": [
  {
   "cell_type": "markdown",
   "id": "a0e47294",
   "metadata": {},
   "source": [
    "# Python Course - Chapter 3 : Lists\n",
    "\n",
    "## Focus : Creating a Tic-Tac-Toe game\n",
    "\n",
    "In this class, we will create a tic-tac-toe game in Python. The goal is to create two different modes : one where two players play against each other and one where a single player plays against the computer.<br>\n",
    "The grid will be displayed in the shell after each move and the game will ask players where they want to play. When someone wins, a message will announce the winner and if the game is a draw, a message will de displayed as well.<br>\n",
    "<br>\n",
    "You're free to code the game however you like ! Make use of functions, loops, conditional statements, lists and everything else that you have learnt until now in order to do so. :)"
   ]
  },
  {
   "cell_type": "markdown",
   "id": "316f4539",
   "metadata": {},
   "source": [
    "If you're lost, here are some tips on how to code the game :\n",
    "\n",
    "- Proceed step by step : start thinking of a way to represent the grid and to display it, then identify the winning combination, then think of how to make the players play turn by turn, etc...\n",
    "- Start by only coding the 2 players mode (do you necessarily need to proceed differently during the turns of player 1 and player 2 ?), then adapt the code for the single player mode.\n",
    "- If you want to do a specific thing but don't know any function that allows you to do so : do research ! \n",
    "- Implement upgrades once you have a functionnal game : ensure the player enters a valid cell number, add some cosmetics, a cool opening screen, etc...\n",
    "- Most importantly : have fun and feel free to add any other feature that you think would be interesting, make the game your own !"
   ]
  },
  {
   "cell_type": "markdown",
   "id": "e53e7854",
   "metadata": {},
   "source": [
    "If you enjoyed coding the game of tic-tac-toe, here are some other game ideas that can be implemented in Python using the shell rather easily :\n",
    "- Hangman game\n",
    "- Wordle\n",
    "- Connect 4\n",
    "- Your own original game ?\n",
    "\n",
    "If you want to go further and learn to make more complicated and polished games, look into the `pygame` library !"
   ]
  }
 ],
 "metadata": {
  "kernelspec": {
   "display_name": "Python 3 (ipykernel)",
   "language": "python",
   "name": "python3"
  },
  "language_info": {
   "codemirror_mode": {
    "name": "ipython",
    "version": 3
   },
   "file_extension": ".py",
   "mimetype": "text/x-python",
   "name": "python",
   "nbconvert_exporter": "python",
   "pygments_lexer": "ipython3",
   "version": "3.9.12"
  }
 },
 "nbformat": 4,
 "nbformat_minor": 5
}
