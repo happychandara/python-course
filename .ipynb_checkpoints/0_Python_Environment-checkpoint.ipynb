{
 "cells": [
  {
   "cell_type": "markdown",
   "id": "d8f89256",
   "metadata": {},
   "source": [
    "# Python Course - Chapter 0 : Initiation to computers, programming languages and the Python environment\n",
    "\n",
    "## Python Environment\n",
    "\n",
    "In order to write code in Python, we have two options :\n",
    "- Use an online Python interface (which basically runs a virtual machine to execute the code).\n",
    "- Install Python and a code editor on the computer and code locally.\n",
    "\n",
    "We will first code online using the following website : https://www.online-python.com/.<br>\n",
    "<br>\n",
    "However, the main issue with this kind of online interface is that you don't have access to all the additional features that you would want (in other words, you can't customize your Python environment). For some of our activities, we will need some specific libraries that will require a Python environment : therefore, we will quickly learn how to install Python on a computer and how to start coding on our computer."
   ]
  }
 ],
 "metadata": {
  "kernelspec": {
   "display_name": "Python 3 (ipykernel)",
   "language": "python",
   "name": "python3"
  },
  "language_info": {
   "codemirror_mode": {
    "name": "ipython",
    "version": 3
   },
   "file_extension": ".py",
   "mimetype": "text/x-python",
   "name": "python",
   "nbconvert_exporter": "python",
   "pygments_lexer": "ipython3",
   "version": "3.9.12"
  }
 },
 "nbformat": 4,
 "nbformat_minor": 5
}
