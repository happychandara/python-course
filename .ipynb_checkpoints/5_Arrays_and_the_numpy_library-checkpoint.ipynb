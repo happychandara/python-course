{
 "cells": [
  {
   "cell_type": "markdown",
   "id": "7849f40a",
   "metadata": {},
   "source": [
    "# Python Course - Chapter 5 : Arrays and the numpy library\n",
    "\n",
    "## 1) Discovering the numpy library\n",
    "\n",
    "The `numpy` library is used to represent vectors and matrix in Python. It is mostly used for linear algebra but before anything, it is a way better way to represent lists of numbers and allows to do operations on these 'lists' (which are actually converted to arrays, a type specific to the numpy library). It is also used to represent lists of lists as matrix which are two-dimensional arrays.<br>\n",
    "<br>\n",
    "When importing the `numpy` library, its name is usually shortened to `np` :"
   ]
  },
  {
   "cell_type": "code",
   "execution_count": 2,
   "id": "98c51fbe",
   "metadata": {},
   "outputs": [],
   "source": [
    "import numpy as np"
   ]
  },
  {
   "cell_type": "markdown",
   "id": "866e7868",
   "metadata": {},
   "source": [
    "We can then call the functions of the `numpy` library using the syntax `np.function_name`, as usual.<br>\n",
    "In order to convert a list to an array, we can use the function `np.array` :"
   ]
  },
  {
   "cell_type": "code",
   "execution_count": 7,
   "id": "c4d1e577",
   "metadata": {
    "scrolled": true
   },
   "outputs": [
    {
     "name": "stdout",
     "output_type": "stream",
     "text": [
      "[[ 1  2  3  4]\n",
      " [ 5  6  7  8]\n",
      " [ 9 10 11 12]]\n"
     ]
    }
   ],
   "source": [
    "a = np.array([[1, 2, 3, 4], [5, 6, 7, 8], [9, 10, 11, 12]])\n",
    "print(a)"
   ]
  },
  {
   "cell_type": "code",
   "execution_count": 8,
   "id": "cd956b2e",
   "metadata": {
    "scrolled": true
   },
   "outputs": [
    {
     "name": "stdout",
     "output_type": "stream",
     "text": [
      "<class 'numpy.ndarray'>\n"
     ]
    }
   ],
   "source": [
    "print(type(a))"
   ]
  },
  {
   "cell_type": "code",
   "execution_count": 12,
   "id": "98451b9d",
   "metadata": {},
   "outputs": [
    {
     "name": "stdout",
     "output_type": "stream",
     "text": [
      "(3, 4)\n"
     ]
    }
   ],
   "source": [
    "print(np.shape(a))"
   ]
  },
  {
   "cell_type": "markdown",
   "id": "e88efb7d",
   "metadata": {},
   "source": [
    "Here, we created a matrix of `int` objects, of size $3 \\times 4$, using the `np.array` function. If we want to create a list of `float` objects instead, we can avoid any ambiguity by precising the type of the array using the optional parameter `dtype` (data type) in the `np.array` function :"
   ]
  },
  {
   "cell_type": "code",
   "execution_count": 13,
   "id": "e36b0542",
   "metadata": {},
   "outputs": [
    {
     "name": "stdout",
     "output_type": "stream",
     "text": [
      "[[ 1.  2.  3.  4.]\n",
      " [ 5.  6.  7.  8.]\n",
      " [ 9. 10. 11. 12.]]\n"
     ]
    }
   ],
   "source": [
    "a = np.array([[1, 2, 3, 4], [5, 6, 7, 8], [9, 10, 11, 12]], dtype = float)\n",
    "print(a)"
   ]
  },
  {
   "cell_type": "markdown",
   "id": "f3dc40d0",
   "metadata": {},
   "source": []
  },
  {
   "cell_type": "markdown",
   "id": "378c6ed9",
   "metadata": {},
   "source": [
    "## 2) Matrix calculation"
   ]
  },
  {
   "cell_type": "code",
   "execution_count": null,
   "id": "1a45d9cc",
   "metadata": {},
   "outputs": [],
   "source": []
  }
 ],
 "metadata": {
  "kernelspec": {
   "display_name": "Python 3 (ipykernel)",
   "language": "python",
   "name": "python3"
  },
  "language_info": {
   "codemirror_mode": {
    "name": "ipython",
    "version": 3
   },
   "file_extension": ".py",
   "mimetype": "text/x-python",
   "name": "python",
   "nbconvert_exporter": "python",
   "pygments_lexer": "ipython3",
   "version": "3.9.12"
  }
 },
 "nbformat": 4,
 "nbformat_minor": 5
}
