{
 "cells": [
  {
   "cell_type": "markdown",
   "id": "f936df13",
   "metadata": {},
   "source": [
    "# Python Course - Chapter 1 : Introduction to Python\n",
    "\n",
    "## Practice Exercises - Correction"
   ]
  },
  {
   "cell_type": "markdown",
   "id": "4ea17c40",
   "metadata": {},
   "source": [
    "### Exercise 1 - Using variables in the print function\n",
    "For each block of code, predict what it will display when executed :<br>\n",
    "<br>\n",
    "**1\\)**\n",
    "```python\n",
    "print(\"1 + 1 =\", 1 + 1)\n",
    "```\n",
    "\n",
    "**2\\)**\n",
    "```python\n",
    "age = 18\n",
    "print('I am', age, 'years old.')\n",
    "```\n",
    "\n",
    "**3\\)**\n",
    "```python\n",
    "n_sisters, n_brothers = 3, 2\n",
    "print('I have', n_sisters, 'sisters and', n_brothers, 'brothers!')\n",
    "```"
   ]
  },
  {
   "cell_type": "markdown",
   "id": "d38e0852",
   "metadata": {},
   "source": [
    "*Solution :*<br>\n",
    "<br>\n",
    "**1)** 1 + 1 = 2<br>\n",
    "**2)** I am 18 years old.<br>\n",
    "**3)** I have 3 sisters and 2 brothers!"
   ]
  },
  {
   "cell_type": "markdown",
   "id": "9a6ae8df",
   "metadata": {},
   "source": [
    "### Exercise 2 - Evaluating boolean expression\n",
    "We assign the following values to three variables. For each boolean expression, predict their value.\n",
    "\n",
    "```python\n",
    "a, b, c = 5, 3, 8\n",
    "```\n",
    "\n",
    "**1)** `a < c`<br>\n",
    "**2)** `2 * a**2 + 2 * b**2 <= c**2`<br>\n",
    "**3)** `not a != b or 2*(a + b) == c and 1 != 2`<br>\n",
    "**4)** `not not a != b and c == a + b`<br>\n",
    "**5)** `a == b or c != a + b or 1 == 2 or b**2 - 2 == c`"
   ]
  },
  {
   "cell_type": "markdown",
   "id": "e6ba33ff",
   "metadata": {},
   "source": [
    "*Solution :*<br>\n",
    "<br>\n",
    "**1)** True<br>\n",
    "**2)** False<br>\n",
    "**3)** False<br>\n",
    "**4)** True<br>\n",
    "**5)** False"
   ]
  },
  {
   "cell_type": "markdown",
   "id": "1cfdaee7",
   "metadata": {},
   "source": [
    "### Exercise 3 - Testing a function from the numpy module\n",
    "From the `numpy` module, import the function `rint`. Try applying it to various numbers (not only integers !) and guess what it does."
   ]
  },
  {
   "cell_type": "markdown",
   "id": "2db87e2a",
   "metadata": {},
   "source": [
    "*Solution :*<br>\n",
    "<br>\n",
    "The `rint` function rounds a float to the nearest int."
   ]
  },
  {
   "cell_type": "markdown",
   "id": "1da4175a",
   "metadata": {},
   "source": [
    "### Lesson - User input\n",
    "In Python, you can request the user to give an **input** using the function `input`. This function takes in argument a `string` type object which is the message displayed to the user when asking for his input.<br>\n",
    "Here is an example :"
   ]
  },
  {
   "cell_type": "code",
   "execution_count": null,
   "id": "2d5080f4",
   "metadata": {},
   "outputs": [],
   "source": [
    "input('How are you today ? ')\n",
    "print('Okay !')"
   ]
  },
  {
   "cell_type": "markdown",
   "id": "23e48751",
   "metadata": {},
   "source": [
    "You can store the value of the input in a **variable** to use it in the code later. Just keep in mind that the value the user gives will **ALWAYS** be a **`string`** ! If you want the user to give an `int` or a `float` value, you will have to use **explicit conversion** with the `int` or the `float` functions !"
   ]
  },
  {
   "cell_type": "code",
   "execution_count": null,
   "id": "14b2760f",
   "metadata": {},
   "outputs": [],
   "source": [
    "n = input('Give me a number. ')\n",
    "print('The double of your number is', 2*n, '!')"
   ]
  },
  {
   "cell_type": "code",
   "execution_count": null,
   "id": "5e9ee5bf",
   "metadata": {},
   "outputs": [],
   "source": [
    "n = int(input('Give me a number. ')) \n",
    "print('The double of your number is', 2*n, '!')"
   ]
  },
  {
   "cell_type": "markdown",
   "id": "2940b2e7",
   "metadata": {},
   "source": [
    "### Exercise 4 - Temperature conversion\n",
    "Write a program that asks the user to give a temperature in Celsius degrees, and then prints the associated temperature in Farenheit degrees.<br>\n",
    "Here is the formula to convert temparature from Celsius degrees to Farenheit degrees :\n",
    "$$T_{\\text{°F}} = \\frac{9}{5} T_{\\text{°C}} + 32.$$"
   ]
  },
  {
   "cell_type": "code",
   "execution_count": 7,
   "id": "ca0f7dbb",
   "metadata": {},
   "outputs": [
    {
     "name": "stdout",
     "output_type": "stream",
     "text": [
      "Temperature (in °C) : 20\n",
      "Temperature (in °F) : 68.0\n"
     ]
    }
   ],
   "source": [
    "# Solution\n",
    "\n",
    "T_celsius = int(input(\"Temperature (in °C) : \"))\n",
    "T_farenheit = 9/5 * T_celsius + 32\n",
    "print(\"Temperature (in °F) :\", T_farenheit)"
   ]
  },
  {
   "cell_type": "markdown",
   "id": "a89e2a0b",
   "metadata": {},
   "source": [
    "### Exercise 5 - Furniture Salesperson\n",
    "As the manager of a small furnitures sale business, you often need to calculate the price of an order of chairs, tables and lamps for custommers. Here is the table containing the prices of each item :\n",
    "\n",
    "| Chair | Table | Lamp |\n",
    "| :-: | :-: | :-: |\n",
    "| 10\\$ | 30\\$ | 7\\$ |\n",
    "\n",
    "Write a program that asks the user how many chairs, tables and lamps he wants and prints the total price of the order."
   ]
  },
  {
   "cell_type": "code",
   "execution_count": 4,
   "id": "bd80c017",
   "metadata": {},
   "outputs": [
    {
     "name": "stdout",
     "output_type": "stream",
     "text": [
      "How many chairs ? 4\n",
      "How many tables ? 1\n",
      "How many lamps ? 4\n",
      "Your order's price is 98 $\n"
     ]
    }
   ],
   "source": [
    "# Solution\n",
    "\n",
    "n_chair = int(input(\"How many chairs ? \"))\n",
    "n_table = int(input(\"How many tables ? \"))\n",
    "n_lamp = int(input(\"How many lamps ? \"))\n",
    "print(\"Your order's price is\", 10*n_chair + 30*n_table + 7*n_lamp, \"$\")"
   ]
  },
  {
   "cell_type": "markdown",
   "id": "dde18985",
   "metadata": {},
   "source": [
    "### Exercise 6 - A not so magical trick\n",
    "A magician comes to you saying he can guess what number you're thinking of !<br>\n",
    "<br>\n",
    "_\"Think of your age and calculate its double and its triple. You have two numbers now : add 10 to the first one and multiply it by 3, then substract 6 from the second one and multiply it by 2. Now take the difference between the first number and the second number... You're thinking of the number 42, right ?\"_<br>\n",
    "<br>\n",
    "Write a program that asks for an age and then prints the results of the calculation the magician asked you to do. Test it for different values for the age : what do you notice ?<br>\n",
    "Can you prove mathematically why this happens ?"
   ]
  },
  {
   "cell_type": "code",
   "execution_count": 6,
   "id": "b1eed43f",
   "metadata": {},
   "outputs": [
    {
     "name": "stdout",
     "output_type": "stream",
     "text": [
      "What is your age ? 19\n",
      "42\n"
     ]
    }
   ],
   "source": [
    "# Solution\n",
    "\n",
    "age = int(input(\"What is your age ? \"))\n",
    "x, y = 2 * age, 3 * age\n",
    "x, y = (x + 10)*3, (y - 6)*2\n",
    "res = x - y\n",
    "print(res)"
   ]
  },
  {
   "cell_type": "markdown",
   "id": "19a191a8",
   "metadata": {},
   "source": [
    "The result is always $42$. Indeed, if we denote by $a$ your age, the result calculated is :\n",
    "$$\n",
    "3(2a + 10) - 2(3a - 6) = 6a + 30 - 6a + 12 = 42.\n",
    "$$"
   ]
  },
  {
   "cell_type": "markdown",
   "id": "979e4f30",
   "metadata": {},
   "source": [
    "### Exercise 7 - Perimeter of a triangle &#9733;\n",
    "Write a program that asks the user the lengths of the three sides of a triangle and prints its area.<br>\n",
    "To calculate the area of a triangle of sides $a$, $b$, and $c$, we can use Heron's formula :<br>\n",
    "<br>\n",
    "$$ \\mathcal{A} = \\sqrt{s(s-a)(s-b)(s-c)},\\space \\text{where} \\space s = \\tfrac{a+b+c}{2} \\space \\text{is the semi-perimeter of the triangle}.$$\n",
    "<br>\n",
    "*Bonus : Feel free to try to prove this formula !*"
   ]
  },
  {
   "cell_type": "code",
   "execution_count": 9,
   "id": "e2be709a",
   "metadata": {},
   "outputs": [
    {
     "name": "stdout",
     "output_type": "stream",
     "text": [
      "Length of the first side (a) : 3\n",
      "Length of the second side (b) : 4\n",
      "Length of the third side (c) : 5\n",
      "Area of the triangle : 6.0\n"
     ]
    }
   ],
   "source": [
    "# Solution\n",
    "\n",
    "from math import sqrt\n",
    "\n",
    "a = int(input(\"Length of the first side (a) : \"))\n",
    "b = int(input(\"Length of the second side (b) : \"))\n",
    "c = int(input(\"Length of the third side (c) : \"))\n",
    "\n",
    "s = (a + b + c) / 2\n",
    "\n",
    "print(\"Area of the triangle :\", sqrt(s * (s-a) * (s-b) * (s-c)))"
   ]
  },
  {
   "cell_type": "markdown",
   "id": "e9f3e0b8",
   "metadata": {},
   "source": [
    "### Exercise 8 - Interchanging variables without parallel assignment &#9733;\n",
    "Assign the values `0` and `1` to two variables `a` and `b` and exchange the values of `a` and `b` without using parallel assignment."
   ]
  },
  {
   "cell_type": "code",
   "execution_count": 12,
   "id": "1b7adc48",
   "metadata": {},
   "outputs": [
    {
     "name": "stdout",
     "output_type": "stream",
     "text": [
      "0 1\n",
      "1 0\n"
     ]
    }
   ],
   "source": [
    "# Solution\n",
    "\n",
    "a = 0\n",
    "b = 1\n",
    "print(a, b)\n",
    "\n",
    "c = a # We use an intermediate variable to hold the value of a before changing it !\n",
    "a = b\n",
    "b = c # Here, c is still equal to the previous value of a\n",
    "print(a, b)"
   ]
  },
  {
   "attachments": {
    "heron-2.png": {
     "image/png": "[encoded data removed]"
    }
   },
   "cell_type": "markdown",
   "id": "20cfd47f",
   "metadata": {},
   "source": [
    "### Bonus - Proof of the formula given in Exercise 7\n",
    "\n",
    "We draw the figure below :\n",
    "\n",
    "![heron-2.png](attachment:heron-2.png)\n",
    "\n",
    "From Pythagoras' theorem, $h^2 = c^2 - x^2 = b^2 - (a-x)^2$ which leads to $x = \\tfrac{a^2 + c^2 - b^2}{2a}$ and then to $h^2 = c^2 - \\left(\\tfrac{a^2 + c^2 - b^2}{2a}\\right)^2$.<br>\n",
    "Since the area $\\mathcal{A}$ of the triangle is calculated by $\\mathcal{A} = \\tfrac{1}{2}ah$, we obtain :\n",
    "$$\n",
    "\\mathcal{A}^2 = \\frac{a^2 h^2}{4} = \\frac{a^2 c^2}{4} - \\frac{(a^2 + c^2 - b^2)^2}{16} = \\frac{(a+b+c)(-a+b+c)(a-b+c)(a+b-c)}{16}.\n",
    "$$\n",
    "By considering $s = \\tfrac{a+b+c}{2}$, this becomes :\n",
    "$$\n",
    "\\mathcal{A}^2 = \\frac{2s(2s-2a)(2s-2b)(2s-2c)}{16}=s(s-a)(s-b)(s-c).\n",
    "$$"
   ]
  },
  {
   "cell_type": "code",
   "execution_count": null,
   "id": "917c7dab",
   "metadata": {},
   "outputs": [],
   "source": []
  }
 ],
 "metadata": {
  "kernelspec": {
   "display_name": "Python 3 (ipykernel)",
   "language": "python",
   "name": "python3"
  },
  "language_info": {
   "codemirror_mode": {
    "name": "ipython",
    "version": 3
   },
   "file_extension": ".py",
   "mimetype": "text/x-python",
   "name": "python",
   "nbconvert_exporter": "python",
   "pygments_lexer": "ipython3",
   "version": "3.9.12"
  }
 },
 "nbformat": 4,
 "nbformat_minor": 5
}
