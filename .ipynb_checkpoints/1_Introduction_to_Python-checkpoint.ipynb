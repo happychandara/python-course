{
 "cells": [
  {
   "cell_type": "markdown",
   "id": "f529ab9a",
   "metadata": {},
   "source": [
    "# Python Course - Chapter 1 : Introduction to Python\n",
    "\n",
    "## 1) Types in Python\n",
    "\n",
    "A fundamental notion in Python is the notion of **types**. All objects manipulated in Python have a type, which indicates what kind of object they are and determines what operations can be done with these objects.<br>\n",
    "The most common types are the following :<br>\n",
    "- **int** : This is the type of the integers in Python, `0`, `7`, `64`, `-42` are objects of type int in Python.\n",
    "- **float** : This is the type of all real numbers, `1.23`, `9.999`, `7/3`, `math.pi` are objetcs of type float in Python.\n",
    "- **complex** : This is the type of all complex numbers, any number in the form `a + bj` (where `a` and `b` are float objects) are objects of type complex in Python. Notice that the complex unit is written 'j' in Python and not 'i' !\n",
    "<br> <br>\n",
    "- **bool** : This is the type of statements. A bool object only has two possible values : True or False. We will see more about these objects later.\n",
    "<br> <br>\n",
    "- **string** : This is the type of succession of characters between apostrophes or quotation marks, `'hello'`, `\"Happy Chandara School\"`, `'^p£0µ7_:)'` are objects of type string in Python."
   ]
  },
  {
   "cell_type": "markdown",
   "id": "a41d4608",
   "metadata": {},
   "source": [
    "### Exercise 1\n",
    "Try to guess the type of each of the following objects."
   ]
  },
  {
   "cell_type": "code",
   "execution_count": 1,
   "id": "5454c910",
   "metadata": {},
   "outputs": [
    {
     "data": {
      "text/plain": [
       "int"
      ]
     },
     "execution_count": 1,
     "metadata": {},
     "output_type": "execute_result"
    }
   ],
   "source": [
    "type(4)"
   ]
  },
  {
   "cell_type": "code",
   "execution_count": 2,
   "id": "bace3fcd",
   "metadata": {},
   "outputs": [
    {
     "data": {
      "text/plain": [
       "float"
      ]
     },
     "execution_count": 2,
     "metadata": {},
     "output_type": "execute_result"
    }
   ],
   "source": [
    "type(4.0)"
   ]
  },
  {
   "cell_type": "code",
   "execution_count": null,
   "id": "e88664ce",
   "metadata": {},
   "outputs": [],
   "source": [
    "type(4.0 + 0.0j)"
   ]
  },
  {
   "cell_type": "code",
   "execution_count": null,
   "id": "fdf06c30",
   "metadata": {},
   "outputs": [],
   "source": [
    "type(2 + 2)"
   ]
  },
  {
   "cell_type": "code",
   "execution_count": null,
   "id": "113263f3",
   "metadata": {},
   "outputs": [],
   "source": [
    "type(2 + 2.0)"
   ]
  },
  {
   "cell_type": "code",
   "execution_count": null,
   "id": "1c7db731",
   "metadata": {},
   "outputs": [],
   "source": [
    "type('Hello, World!')"
   ]
  },
  {
   "cell_type": "code",
   "execution_count": null,
   "id": "61d81848",
   "metadata": {},
   "outputs": [],
   "source": [
    "type(' ')"
   ]
  },
  {
   "cell_type": "code",
   "execution_count": null,
   "id": "41c4a725",
   "metadata": {},
   "outputs": [],
   "source": [
    "type('252')"
   ]
  },
  {
   "cell_type": "code",
   "execution_count": null,
   "id": "2583640d",
   "metadata": {},
   "outputs": [],
   "source": [
    "type(int('252'))"
   ]
  },
  {
   "cell_type": "code",
   "execution_count": null,
   "id": "7b8e4f24",
   "metadata": {},
   "outputs": [],
   "source": [
    "type(print('Hello, World!'))"
   ]
  },
  {
   "cell_type": "markdown",
   "id": "d37d8e31",
   "metadata": {},
   "source": [
    "## 2) Numbers\n",
    "\n",
    "As we saw earlier, there are 3 types to represent numbers in Python, **int**, **float** and **complex**.<br>\n",
    "<br>\n",
    "However, not every integer can be represented in Python ! This is because there are infinitely many integer while our computer has a finite memory and can only stock finite information.<br>\n",
    "For the same reason, real number with infinite decimals can only be represented by an approximation, as a float object.<br>\n",
    "<br>\n",
    "All the usual mathematical **operations** can be applied to objects of type int, float and complex, here is a non-exhaustive list of these operations :<br>\n",
    "\n",
    "| Syntax | Result |\n",
    "| :-:| :- |\n",
    "| `x + y` | Sum of x and y |\n",
    "| `x - y` | Difference of x and y |\n",
    "| `x * y` | Product of x and y |\n",
    "| `x / y` | Quotient of x by y |\n",
    "| `x ** y` | x to the power of y |\n",
    "| `x % y` | Remainder in the euclidian division of x by y |\n",
    "| `x // y` | Quotient in the euclidian division of x by y |\n",
    "| `abs(x)` | Absolute value of x |\n",
    "\n",
    "There are many other operations which can be used by adding the libraries **math** and **numpy**.<br>\n",
    "In order to import these numpy, we can type the line of code `import numpy`. The function `sqrt` of the library `numpy`, which gives the square root of a number, can then be used by typing `numpy.sqrt`.<br>\n",
    "To avoid writing numpy everytime before calling a function, we can rename the library when importing it : after the line `import numpy as np`, the same function can be called using `np.sqrt`. Another solution is to import only the functions that are useful to us : in this case, we can simply write `from numpy import sqrt` and the function can be called using `sqrt` without any library name in front of it.<br>\n",
    "<br>\n",
    "Other than the operations concerning the euclidian division, all the operations presented in the table can be applied to int, float or complex type objects. We can even add an int object to a float object for instance : what Python does in this case is called an **implicit conversion**. Python automatically converts the objects to the most general type implied in the operation. These conversions can only be done in this order : **int &#8594; float &#8594; complex**.<br>\n",
    "To convert a float back to an int object, we have to force the conversion using the function `int`. For instance, `int(4.0)` will return 4. This process is called **explicit conversion**."
   ]
  },
  {
   "cell_type": "markdown",
   "id": "3faf8077",
   "metadata": {},
   "source": [
    "### Exercise 2\n",
    "Try to guess the result (value and type) of each of the following operations."
   ]
  },
  {
   "cell_type": "code",
   "execution_count": null,
   "id": "12afc794",
   "metadata": {},
   "outputs": [],
   "source": [
    "3 + 5"
   ]
  },
  {
   "cell_type": "code",
   "execution_count": null,
   "id": "d44d75b4",
   "metadata": {},
   "outputs": [],
   "source": [
    "1.3 * 5.0"
   ]
  },
  {
   "cell_type": "code",
   "execution_count": null,
   "id": "9b64e041",
   "metadata": {},
   "outputs": [],
   "source": [
    "2 ** 4"
   ]
  },
  {
   "cell_type": "code",
   "execution_count": null,
   "id": "a2498690",
   "metadata": {},
   "outputs": [],
   "source": [
    "7 % 3"
   ]
  },
  {
   "cell_type": "code",
   "execution_count": null,
   "id": "a378d890",
   "metadata": {},
   "outputs": [],
   "source": [
    "24 // 6"
   ]
  },
  {
   "cell_type": "code",
   "execution_count": null,
   "id": "97a5a626",
   "metadata": {},
   "outputs": [],
   "source": [
    "24 / 6"
   ]
  },
  {
   "cell_type": "code",
   "execution_count": null,
   "id": "96ac93e6",
   "metadata": {},
   "outputs": [],
   "source": [
    "20 / 3"
   ]
  },
  {
   "cell_type": "code",
   "execution_count": null,
   "id": "46805c4c",
   "metadata": {},
   "outputs": [],
   "source": [
    "abs(-6.2)"
   ]
  },
  {
   "cell_type": "code",
   "execution_count": null,
   "id": "2fe59697",
   "metadata": {},
   "outputs": [],
   "source": [
    "2.0 + 4"
   ]
  },
  {
   "cell_type": "code",
   "execution_count": null,
   "id": "d41a509a",
   "metadata": {},
   "outputs": [],
   "source": [
    "int(2.0 + 4)"
   ]
  },
  {
   "cell_type": "code",
   "execution_count": null,
   "id": "453dd959",
   "metadata": {},
   "outputs": [],
   "source": [
    "1 / 0"
   ]
  },
  {
   "cell_type": "code",
   "execution_count": null,
   "id": "b8a7fe5d",
   "metadata": {},
   "outputs": [],
   "source": [
    "from numpy import int64\n",
    "int64(2**63)"
   ]
  },
  {
   "cell_type": "code",
   "execution_count": null,
   "id": "6156de94",
   "metadata": {},
   "outputs": [],
   "source": [
    "int(1.00000000000000042 * 100000000000000000)"
   ]
  },
  {
   "cell_type": "markdown",
   "id": "371e211a",
   "metadata": {},
   "source": [
    "### Exercise 3 (Priority order for operations with numbers)\n",
    "Try to guess the result of each of the following operations involving int objects."
   ]
  },
  {
   "cell_type": "code",
   "execution_count": null,
   "id": "7c634094",
   "metadata": {},
   "outputs": [],
   "source": [
    "4 + 4 * 3"
   ]
  },
  {
   "cell_type": "code",
   "execution_count": null,
   "id": "612cc967",
   "metadata": {},
   "outputs": [],
   "source": [
    "(4 + 4) * 3"
   ]
  },
  {
   "cell_type": "code",
   "execution_count": null,
   "id": "ca3778aa",
   "metadata": {},
   "outputs": [],
   "source": [
    "2 ** 3 * 3"
   ]
  },
  {
   "cell_type": "code",
   "execution_count": null,
   "id": "a3df49f5",
   "metadata": {},
   "outputs": [],
   "source": [
    "2 ** (3 * 3)"
   ]
  },
  {
   "cell_type": "code",
   "execution_count": null,
   "id": "3e9faa69",
   "metadata": {},
   "outputs": [],
   "source": [
    "(2 * 4) * (2 ** 3 + 7)"
   ]
  },
  {
   "cell_type": "markdown",
   "id": "b82d24e2",
   "metadata": {},
   "source": [
    "## 3) Booleans\n",
    "\n",
    "One of the most used objects in Python is booleans : they are used as conditions to check if a statement is True or False. We will see many applications to these objects later in the course. <br>\n",
    "<br>\n",
    "For now, we will introduce some operations that can turn numbers into booleans by comparing them :<br>\n",
    "\n",
    "| Syntax | Result |\n",
    "| :-:| :- |\n",
    "| `x < y` | `True` if x < y, `False` otherwise |\n",
    "| `x <= y` | `True` if x &#8804; y, `False` otherwise |\n",
    "| `x > y` | `True` if x > y, `False` otherwise |\n",
    "| `x >= y` | `True` if x &#8805; y, `False` otherwise |\n",
    "| `x == y` | `True` if x is equal to y, `False` otherwise |\n",
    "| `x != y` | `True` if x is different from y, `False` otherwise |\n",
    "\n",
    "Moreover, we can apply operations to several booleans using logical operators :<br>\n",
    "\n",
    "| Syntax | Result |\n",
    "| :-:| :- |\n",
    "| `not a` | `True` if a is false, `False` if a is true |\n",
    "| `a and b` | `True` if the booleans a and b are both true, `False` if any of them is false |\n",
    "| `a or b` | `True` if any of the two booleans a and b is true, `False` if both of them are false |"
   ]
  },
  {
   "cell_type": "markdown",
   "id": "7757fa27",
   "metadata": {},
   "source": [
    "### Exercise 4\n",
    "Try to guess the result of each of these operations involving comparison of numbers."
   ]
  },
  {
   "cell_type": "code",
   "execution_count": null,
   "id": "a34e5b1d",
   "metadata": {},
   "outputs": [],
   "source": [
    "3 < 7"
   ]
  },
  {
   "cell_type": "code",
   "execution_count": null,
   "id": "27d01012",
   "metadata": {},
   "outputs": [],
   "source": [
    "4.1 >= 4.2"
   ]
  },
  {
   "cell_type": "code",
   "execution_count": null,
   "id": "1a5042f9",
   "metadata": {},
   "outputs": [],
   "source": [
    "4.1 != 4.2"
   ]
  },
  {
   "cell_type": "code",
   "execution_count": null,
   "id": "544d8009",
   "metadata": {},
   "outputs": [],
   "source": [
    "3 == 3.0"
   ]
  },
  {
   "cell_type": "code",
   "execution_count": null,
   "id": "13511e3e",
   "metadata": {},
   "outputs": [],
   "source": [
    "3 == 3.0 + 0.0j"
   ]
  },
  {
   "cell_type": "code",
   "execution_count": null,
   "id": "65b2dad4",
   "metadata": {},
   "outputs": [],
   "source": [
    "import math\n",
    "math.pi == 3.141592653589793"
   ]
  },
  {
   "cell_type": "code",
   "execution_count": null,
   "id": "9760693c",
   "metadata": {},
   "outputs": [],
   "source": [
    "3 = 2"
   ]
  },
  {
   "cell_type": "code",
   "execution_count": null,
   "id": "52e3454b",
   "metadata": {},
   "outputs": [],
   "source": [
    "0.1 + 0.2 == 0.3"
   ]
  },
  {
   "cell_type": "markdown",
   "id": "30169b93",
   "metadata": {},
   "source": [
    "### Exercise 5 (Priority order for operations with booleans)\n",
    "Try to guess the result of each of these operations involving boolean operations."
   ]
  },
  {
   "cell_type": "code",
   "execution_count": null,
   "id": "80f48fb3",
   "metadata": {},
   "outputs": [],
   "source": [
    "(2 < 3) and (6 > 7)"
   ]
  },
  {
   "cell_type": "code",
   "execution_count": null,
   "id": "428765e8",
   "metadata": {},
   "outputs": [],
   "source": [
    "(1 == 0) or (8 != 7)"
   ]
  },
  {
   "cell_type": "code",
   "execution_count": null,
   "id": "9a1a9e53",
   "metadata": {},
   "outputs": [],
   "source": [
    "not (5 != 6)"
   ]
  },
  {
   "cell_type": "code",
   "execution_count": null,
   "id": "14b01763",
   "metadata": {},
   "outputs": [],
   "source": [
    "True and False"
   ]
  },
  {
   "cell_type": "code",
   "execution_count": null,
   "id": "3fcb5666",
   "metadata": {},
   "outputs": [],
   "source": [
    "True or True and False"
   ]
  },
  {
   "cell_type": "code",
   "execution_count": null,
   "id": "dbc901fd",
   "metadata": {},
   "outputs": [],
   "source": [
    "(True or True) and False"
   ]
  },
  {
   "cell_type": "code",
   "execution_count": null,
   "id": "d1b52f8f",
   "metadata": {},
   "outputs": [],
   "source": [
    "not True and False"
   ]
  },
  {
   "cell_type": "code",
   "execution_count": null,
   "id": "e46ddeb5",
   "metadata": {},
   "outputs": [],
   "source": [
    "not (True and False)"
   ]
  },
  {
   "cell_type": "code",
   "execution_count": null,
   "id": "14d9c791",
   "metadata": {},
   "outputs": [],
   "source": [
    "not 5 < 3 and 4 != 3 or not (1 != 1 or 3 == 3)"
   ]
  },
  {
   "cell_type": "markdown",
   "id": "ee1ca7c1",
   "metadata": {},
   "source": [
    "### Exercise 6 (Bonus)\n",
    "Try to guess the result of these two operations."
   ]
  },
  {
   "cell_type": "code",
   "execution_count": null,
   "id": "411a62d2",
   "metadata": {},
   "outputs": [],
   "source": [
    "(1 == 1) or (1 / 0 <= 7)"
   ]
  },
  {
   "cell_type": "code",
   "execution_count": 2,
   "id": "7e79dd70",
   "metadata": {},
   "outputs": [
    {
     "data": {
      "text/plain": [
       "True"
      ]
     },
     "execution_count": 2,
     "metadata": {},
     "output_type": "execute_result"
    }
   ],
   "source": [
    "'Happy Chandara School' > 'Everything'"
   ]
  },
  {
   "cell_type": "markdown",
   "id": "a052bcb9",
   "metadata": {},
   "source": [
    "## 4) print Function\n",
    "\n",
    "The print function is used to **display objects** in the shell (or somewhere else). It does **NOT** give the result of an operation, it simply prints its argument in the shell. <br>\n",
    "Unlike the previous operations we presented, the `print` function can be typed in the text editor and display its argument in the shell. Keep in mind that even if `print(3)` displays `3` in the shell, the object `print(3)` in itself isn't equal to the int object `3` : it is an object of type None which is a type used when we don't want to show a function to return any result.<br>\n",
    "<br>\n",
    "From now on, we will stop systematically typing in the shell and rather use the text editor above.<br>\n",
    "<br>\n",
    "If needed, it is possible to print several objects at the same time by separating them with commas : the command `print('Hello', 2025, ':D')` will display \"Hello 2025 :D\", separating each object printed with a space."
   ]
  },
  {
   "cell_type": "markdown",
   "id": "6e005b44",
   "metadata": {},
   "source": [
    "### Exercise 7\n",
    "Try to predict what will be displayed in the shell after executing each of the following programs."
   ]
  },
  {
   "cell_type": "code",
   "execution_count": null,
   "id": "d1b7b95e",
   "metadata": {},
   "outputs": [],
   "source": [
    "print(23)"
   ]
  },
  {
   "cell_type": "code",
   "execution_count": null,
   "id": "9a8afbc5",
   "metadata": {},
   "outputs": [],
   "source": [
    "23\n",
    "print(23)"
   ]
  },
  {
   "cell_type": "code",
   "execution_count": null,
   "id": "a179e445",
   "metadata": {},
   "outputs": [],
   "source": [
    "print('Hello, World!')"
   ]
  },
  {
   "cell_type": "code",
   "execution_count": null,
   "id": "3f1086f8",
   "metadata": {},
   "outputs": [],
   "source": [
    "print('I am', 18, 'years old')"
   ]
  },
  {
   "cell_type": "code",
   "execution_count": null,
   "id": "86fd22d5",
   "metadata": {},
   "outputs": [],
   "source": [
    "print(1 + 1)"
   ]
  },
  {
   "cell_type": "code",
   "execution_count": null,
   "id": "25b1cc28",
   "metadata": {
    "scrolled": true
   },
   "outputs": [],
   "source": [
    "print(1) + 1"
   ]
  },
  {
   "cell_type": "code",
   "execution_count": null,
   "id": "f1bea203",
   "metadata": {},
   "outputs": [],
   "source": [
    "print(1) + print(2)"
   ]
  },
  {
   "cell_type": "code",
   "execution_count": null,
   "id": "87b60311",
   "metadata": {},
   "outputs": [],
   "source": [
    "print(type(print(23)))"
   ]
  },
  {
   "cell_type": "markdown",
   "id": "dd839ef9",
   "metadata": {},
   "source": [
    "## 5) Variables\n",
    "\n",
    "Until now, we could only do operations in a single line and were unable to store the results of the different operations (except by printing it...) : in order to solve this problem, we need the help of **variables**.<br>\n",
    "The variables are the basis of any code : we will use them in every single program we write after this chapter !<br>\n",
    "<br>\n",
    "A **variable** is a way of stocking information to later use in code. It has a **name**, a **type** and a **value** :<br>\n",
    "- **Name :** The name of the variable is given by the user when declaring the variable : it usually contains **letters** (a-z, A-Z), **numbers** (0-9) and eventually some symbols *(you can use the underscore _ if needed)*. Try to avoid using any other character.\n",
    "- **Type :** The type of the variable is automatically defined when declaring the variable : it corresponds to the  type of its value.\n",
    "- **Value :** The value of the variable is defined by the user when declaring the variable : it is the information stocked in the variable and can be used to do other operations later in the code.\n",
    "\n",
    "To declare a variable, we proceed as follows : `variable_name = value`.<br>\n",
    "For instance, if we type `toto = 5`, we create a variable named bob, of type int, associated to the integer value 5. Variables' names are **case sensitive** which means the variables `toto`, `Toto`, `TOTO` and `tOTo` are **NOT** the same variable !<br>\n",
    "Keep in mind that variable names have to start with letters and should not be named after an existing function. You can not use any symbol that is used for operations when naming a variable (+, -, \\*, /, ...) and you can not use spaces neither.<br>\n",
    "<br>\n",
    "After creating a variable, we can reassign a different value to it. We can even use the previous value of the variable or the values of other variables to define the new one."
   ]
  },
  {
   "cell_type": "markdown",
   "id": "3b77ebd9",
   "metadata": {},
   "source": [
    "### Exercise 8\n",
    "Try to guess what will be printed in the shell after executing each of the following programs."
   ]
  },
  {
   "cell_type": "code",
   "execution_count": null,
   "id": "87a8f4c1",
   "metadata": {},
   "outputs": [],
   "source": [
    "toto = 5\n",
    "print(toto)"
   ]
  },
  {
   "cell_type": "code",
   "execution_count": null,
   "id": "20a27c5a",
   "metadata": {},
   "outputs": [],
   "source": [
    "toto = 4\n",
    "Toto = 6\n",
    "print(toto)"
   ]
  },
  {
   "cell_type": "code",
   "execution_count": null,
   "id": "d2847dad",
   "metadata": {},
   "outputs": [],
   "source": [
    "toto = 4\n",
    "toto = 6\n",
    "print(toto)"
   ]
  },
  {
   "cell_type": "code",
   "execution_count": null,
   "id": "773a296b",
   "metadata": {},
   "outputs": [],
   "source": [
    "toto = 4\n",
    "toto = 6\n",
    "print(tOto)"
   ]
  },
  {
   "cell_type": "code",
   "execution_count": null,
   "id": "b8dacafa",
   "metadata": {
    "scrolled": true
   },
   "outputs": [],
   "source": [
    "this_is_a_variable_with_an_extremely_long_name_that_may_generate_errors_when_typing_it_again = 0\n",
    "print(this_is_a_variable_with_an_extremely_long_name_that_may_generate_erorrs_when_typing_it_again)"
   ]
  },
  {
   "cell_type": "code",
   "execution_count": null,
   "id": "7417c231",
   "metadata": {},
   "outputs": [],
   "source": [
    "n = 4\n",
    "n = n + 1\n",
    "print(n)"
   ]
  },
  {
   "cell_type": "code",
   "execution_count": null,
   "id": "2fd9c5ea",
   "metadata": {},
   "outputs": [],
   "source": [
    "n = 4\n",
    "n += 1\n",
    "print(n)"
   ]
  },
  {
   "cell_type": "code",
   "execution_count": null,
   "id": "ab36247c",
   "metadata": {},
   "outputs": [],
   "source": [
    "a = 4\n",
    "a = a * 3\n",
    "print(a)"
   ]
  },
  {
   "cell_type": "code",
   "execution_count": null,
   "id": "9f08ef13",
   "metadata": {},
   "outputs": [],
   "source": [
    "a = 4\n",
    "a *= 3\n",
    "print(a)"
   ]
  },
  {
   "cell_type": "markdown",
   "id": "530cede2",
   "metadata": {},
   "source": [
    "### Exercise 9 (Several variables)\n",
    "Try to guess what will be printed in the shell after executing each of the following programs."
   ]
  },
  {
   "cell_type": "code",
   "execution_count": null,
   "id": "2abd683f",
   "metadata": {},
   "outputs": [],
   "source": [
    "toto = 2\n",
    "tata = 5\n",
    "print(toto * tata)"
   ]
  },
  {
   "cell_type": "code",
   "execution_count": null,
   "id": "3bdf2f10",
   "metadata": {},
   "outputs": [],
   "source": [
    "toto = 10\n",
    "tata = 4\n",
    "toto = tata\n",
    "print(toto)"
   ]
  },
  {
   "cell_type": "code",
   "execution_count": null,
   "id": "6566b36d",
   "metadata": {},
   "outputs": [],
   "source": [
    "a = 1\n",
    "b = 2\n",
    "c = a + b\n",
    "print(a)"
   ]
  },
  {
   "cell_type": "code",
   "execution_count": null,
   "id": "85db1197",
   "metadata": {},
   "outputs": [],
   "source": [
    "x = 4\n",
    "y = 5\n",
    "z = 2 * x + 2 * (y + 1)\n",
    "print(z // 2)"
   ]
  },
  {
   "cell_type": "code",
   "execution_count": null,
   "id": "c29fccfc",
   "metadata": {},
   "outputs": [],
   "source": [
    "boolean1 = True\n",
    "boolean2 = False\n",
    "print(not boolean1 or not boolean2)"
   ]
  },
  {
   "cell_type": "markdown",
   "id": "9bba828f",
   "metadata": {},
   "source": [
    "As we can see, it can be a bit fastidious to write a new line every time we need to define a new variable.<br>\n",
    "To simplify the process of defining new variables, we can declare several variables in the same line by separating each variable with commas. This is called **parallel assignment**.<br>\n",
    "<br>\n",
    "For instance, by typing `toto, tata = 1, 2`, we define two variables : `toto` containing the value `1` and `tata` containing the value `2`."
   ]
  },
  {
   "cell_type": "markdown",
   "id": "cc4c04d5",
   "metadata": {},
   "source": [
    "### Exercise 10 (Parallel assignment)\n",
    "Try to guess what will be printed in the shell after executing each of the following programs."
   ]
  },
  {
   "cell_type": "code",
   "execution_count": null,
   "id": "312232ed",
   "metadata": {},
   "outputs": [],
   "source": [
    "a, b, c = 1, 2, 3\n",
    "c = c + (a - b)\n",
    "print(b == c)"
   ]
  },
  {
   "cell_type": "code",
   "execution_count": null,
   "id": "a3256436",
   "metadata": {},
   "outputs": [],
   "source": [
    "x, y, z, t = 5, 10, 50, 400\n",
    "a = (z // y) * x\n",
    "print(t // a)"
   ]
  },
  {
   "cell_type": "code",
   "execution_count": null,
   "id": "c5952c2e",
   "metadata": {},
   "outputs": [],
   "source": [
    "n, p = 0, 1\n",
    "print(n, p)\n",
    "n, p = p, n\n",
    "print(n, p)"
   ]
  }
 ],
 "metadata": {
  "kernelspec": {
   "display_name": "Python 3 (ipykernel)",
   "language": "python",
   "name": "python3"
  },
  "language_info": {
   "codemirror_mode": {
    "name": "ipython",
    "version": 3
   },
   "file_extension": ".py",
   "mimetype": "text/x-python",
   "name": "python",
   "nbconvert_exporter": "python",
   "pygments_lexer": "ipython3",
   "version": "3.9.12"
  }
 },
 "nbformat": 4,
 "nbformat_minor": 5
}
