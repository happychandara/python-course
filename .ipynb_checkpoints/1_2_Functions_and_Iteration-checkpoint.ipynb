{
 "cells": [
  {
   "cell_type": "markdown",
   "id": "9e13a24a",
   "metadata": {},
   "source": [
    "# Python Course - Chapter 2 : Functions and Iteration\n",
    "\n",
    "## 1) Indentation\n",
    "\n",
    "One of the most important elements in Python's syntax is **indentation**. Indentation allows to structure our code and define instruction blocks using specific words called **headings** (`def`, `if`, `for`, `while`, ...). These words indicate what kind of block is defined.<br>\n",
    "<br>\n",
    "Some other programming languages use characters to delimit such blocks : C++ uses brackets { } to define blocks, while Fortran uses keywords.<br>\n",
    "Python takes another approach by using indentation and favors readability. A block is always defined using this syntax :\n",
    "\n",
    "```python\n",
    "heading:\n",
    "    instruction....\n",
    "    ...............\n",
    "    block..........\n",
    "```\n",
    "\n",
    "As you can see, the body of the block is indented by a **fixed space** : returning back to the level of the heading marks the end of the block.<br>\n",
    "It is possible to nest several indented blocks :\n",
    "\n",
    "```python\n",
    "heading1:\n",
    "    instruction........\n",
    "    ...................\n",
    "    ...................\n",
    "    heading2:\n",
    "        instruction....\n",
    "        ...............\n",
    "        block..........\n",
    "    ...................\n",
    "    ...................\n",
    "    block..............\n",
    "```\n",
    "\n",
    "This syntax is fundamental in Python : it is used to define functions, test conditions or repeat instruction multiple times."
   ]
  },
  {
   "cell_type": "markdown",
   "id": "82a467c2",
   "metadata": {},
   "source": [
    "## 2) Defining Functions\n",
    "\n",
    "Since the beginning of this Python course , we actually manipulated **functions**. Indeed, when we use `type`, `print` or even `math.sqrt` from the math module, we use functions that were pre-defined !<br>\n",
    "In fact, we can also define our own functions ! It is very useful when we need to repeat certain actions with different initial values or simply to make the code cleaner and easier to understand.<br>\n",
    "Functions have a **name**, like any other object in Python, and take **parameters** which are the input necessary for the operations they need to do. The function then returns a **result** as an output after doing the operations indicated in its definition. Depending on the operations ran inside of the function definition, Python automatically guesses the type of the different parameters.<br>\n",
    "<br>\n",
    "The syntax to define a function is as follows. Notice that there is a gap between the left border and the text inside the definition of the function : this is the **indentation** we talked about in the previous section.\n",
    "\n",
    "```python\n",
    "def function_name(parameters):\n",
    "    ...\n",
    "    ...\n",
    "    ...\n",
    "    return result\n",
    "```\n",
    "\n",
    "Note that a function can either take one single parameter or several parameters, separated with commas. We can even add optional parameters as we'll see during the practice exercises !<br>\n",
    "Also note that any variable defined inside the definition of the function is a **local variable** : it is not defined outside of the function definition, as contrary to **global variables** that are defined in the main body of the program.<br>\n",
    "<br>\n",
    "Finally, returning a value at the end of a function is optional : some function do not return any result and are only used for **effects**. This is the case of the `print` function for example and as we saw earlier, the value returned by such functions is actually the object `None`."
   ]
  },
  {
   "cell_type": "markdown",
   "id": "936713e9",
   "metadata": {},
   "source": [
    "### Exercise 1\n",
    "Try to guess what each of the following functions does."
   ]
  },
  {
   "cell_type": "code",
   "execution_count": null,
   "id": "4903548c",
   "metadata": {},
   "outputs": [],
   "source": [
    "def mystery_function1(x):\n",
    "    x = 3*x\n",
    "    return x"
   ]
  },
  {
   "cell_type": "code",
   "execution_count": null,
   "id": "c17a220d",
   "metadata": {},
   "outputs": [],
   "source": [
    "def mystery_function2(n):\n",
    "    r = n % 2\n",
    "    return r == 0"
   ]
  },
  {
   "cell_type": "code",
   "execution_count": null,
   "id": "21a81912",
   "metadata": {},
   "outputs": [],
   "source": [
    "def mystery_function3(x,y):\n",
    "    return (x + y)/2"
   ]
  },
  {
   "cell_type": "markdown",
   "id": "e1a3a58a",
   "metadata": {},
   "source": [
    "### Exercise 2\n",
    "Try to guess what will be printed in the shell after executing each of the following programs."
   ]
  },
  {
   "cell_type": "code",
   "execution_count": null,
   "id": "e36642b9",
   "metadata": {},
   "outputs": [],
   "source": [
    "def sum_squares(x,y):\n",
    "    a = x**2 + y**2\n",
    "    return a\n",
    "sum_squares(2,2)\n",
    "print(a)"
   ]
  },
  {
   "cell_type": "code",
   "execution_count": null,
   "id": "74c6fdec",
   "metadata": {},
   "outputs": [],
   "source": [
    "def sum_squares(x,y):\n",
    "    a = x**2 + y**2\n",
    "    return a\n",
    "print(sum_squares(2,2))"
   ]
  },
  {
   "cell_type": "code",
   "execution_count": null,
   "id": "c9ce393d",
   "metadata": {},
   "outputs": [],
   "source": [
    "def sum_squares(x,y):\n",
    "    a = x**2 + y**2\n",
    "    print(a)\n",
    "sum_squares(2,2)\n",
    "print(sum_squares(2,2))"
   ]
  },
  {
   "cell_type": "code",
   "execution_count": null,
   "id": "2481aebe",
   "metadata": {},
   "outputs": [],
   "source": [
    "def my_function(a):\n",
    "    res = 3 * a + 7\n",
    "    return res\n",
    "print(my_function(2) * my_function(-1))"
   ]
  },
  {
   "cell_type": "markdown",
   "id": "e11e1d3f",
   "metadata": {},
   "source": [
    "As you could notice, it is not always easy to understand what a function is made for. In order to make things clearer, we can add **comments** in our code.<br>\n",
    "Comments are block of texts that the computer ignores when the program is executed : it simply exists to explain something to the user and make the code easier to read.<br>\n",
    "<br>\n",
    "There is two ways to add comments : either as a **comment block** by adding three apostrophes `'''` on the top and on the bottom of the comment block, or as an **inline comment** using the character `#`. Here is an example of a function with comments :\n",
    "\n",
    "```python\n",
    "def sum_squares(x,y):\n",
    "    '''\n",
    "    Parameters : x, y of type int, float or complex.\n",
    "    Result : The sum of the squares of x and y.\n",
    "    '''\n",
    "    a = x**2 + y**2 #This is the calculation of the sum of squares\n",
    "    return a\n",
    "```"
   ]
  },
  {
   "cell_type": "markdown",
   "id": "298f4e96",
   "metadata": {},
   "source": [
    "## 3) Conditional Statements\n",
    "\n",
    "Thanks to **conditional statements**, we can ask the computer to execute some parts of a program only if a specific condition is true.<br>\n",
    "A conditional statement is marked by one of the **keywords** : `if`, `elif` or `else`. Note that `elif` and `else` statements can only exist if there was an `if` statement previously. Similarly to the definition of a function, conditional statements are arranged in blocks of code and thererfore, we need to mark the **indentation**.<br>\n",
    "Here is the syntax for an `if` statement :\n",
    "```python\n",
    "if condition:\n",
    "    ...\n",
    "    ...\n",
    "    ...\n",
    "```\n",
    "Once the instructions inside of the `if` statement are finished, simply write the code back at the beginning of the lines, without indentation."
   ]
  },
  {
   "cell_type": "markdown",
   "id": "c79437aa",
   "metadata": {},
   "source": [
    "### Exercise 3\n",
    "Try to guess what will be printed in the shell after executing each of the following programs."
   ]
  },
  {
   "cell_type": "code",
   "execution_count": null,
   "id": "704fa122",
   "metadata": {},
   "outputs": [],
   "source": [
    "x = 3\n",
    "if x < 5:\n",
    "    x *= 2\n",
    "print(x)"
   ]
  },
  {
   "cell_type": "code",
   "execution_count": null,
   "id": "6511d4ad",
   "metadata": {},
   "outputs": [],
   "source": [
    "x = 3\n",
    "if x >= 5:\n",
    "    x *= 2\n",
    "print(x)"
   ]
  },
  {
   "cell_type": "code",
   "execution_count": null,
   "id": "56bc258e",
   "metadata": {},
   "outputs": [],
   "source": [
    "x = 3\n",
    "if x >= 5:\n",
    "    x *= 2\n",
    "    print(x)"
   ]
  },
  {
   "cell_type": "code",
   "execution_count": null,
   "id": "7cca1d45",
   "metadata": {},
   "outputs": [],
   "source": [
    "x = 10\n",
    "if x != 5:\n",
    "    y = x**2\n",
    "print(y)"
   ]
  },
  {
   "cell_type": "code",
   "execution_count": null,
   "id": "f0b702e7",
   "metadata": {},
   "outputs": [],
   "source": [
    "x = 10\n",
    "if x == 5:\n",
    "    z = x**2\n",
    "print(z)"
   ]
  },
  {
   "cell_type": "markdown",
   "id": "851c3d9f",
   "metadata": {},
   "source": [
    "An `if` statement is sometimes followed by an **`else` statement** to state what to do when the condition is false. If we want to add more cases, we can even use **`elif` statements** !"
   ]
  },
  {
   "cell_type": "markdown",
   "id": "2d51e2ff",
   "metadata": {},
   "source": [
    "It is possible to **stack several indentation blocks**, putting an `if` statement inside of a function definition for instance. It's important to always keep track of the indentation to know which block of code you are working with.<br>\n",
    "When defining a function, we can even return the result while inside an `if` statement block ! This allows use to make different cases in our function. However, be carreful to return a result in all cases considered if your function is supposed to return a value.<br>\n",
    "<br>\n",
    "Below are two examples of functions defined using conditional statements. Can you guess how they work ?\n",
    "\n",
    "```python\n",
    "def invert(x):\n",
    "    if x == 0.0:\n",
    "        return 0.0\n",
    "    else:\n",
    "        return 1/x\n",
    "```\n",
    "\n",
    "```python\n",
    "def which_school(grade):\n",
    "    if 1 <= grade <= 5:\n",
    "        return('primary school')\n",
    "    elif 6 <= grade <= 9:\n",
    "        return('secondary school')\n",
    "    else:\n",
    "        return('high school')\n",
    "```\n",
    "\n",
    "Notice that we don't need to write the else statement in the first function `invert(x)`, since when entering the `if` statement, `0.0` is returned and the rest of the function definition isn't read. We can simply write instead :\n",
    "\n",
    "```python\n",
    "def invert(x):\n",
    "    if x == 0.0:\n",
    "        return 0.0\n",
    "    return 1/x\n",
    "```"
   ]
  },
  {
   "cell_type": "markdown",
   "id": "d2f99c5a",
   "metadata": {},
   "source": [
    "### Exercise 4\n",
    "Try to guess what the following function does. What is wrong about the way this function is written ? How would you write it better ?"
   ]
  },
  {
   "cell_type": "code",
   "execution_count": null,
   "id": "c8867040",
   "metadata": {},
   "outputs": [],
   "source": [
    "def mystery_function4(n):\n",
    "    if n % 2 == 0:\n",
    "        return True\n",
    "    else:\n",
    "        return False"
   ]
  },
  {
   "cell_type": "markdown",
   "id": "56a5d390",
   "metadata": {},
   "source": [
    "## 4) for Loops\n",
    "\n",
    "In order to repeat operations many times, **loops** are used.<br>\n",
    "But before defining what a loop is, we must look at the **`range` function**. The function `range(n)` creates a list of numbers from 0 to n-1. Keep in mind that n isn't included in this list as it only goes up to n-1 !"
   ]
  },
  {
   "cell_type": "code",
   "execution_count": null,
   "id": "7b64a54b",
   "metadata": {},
   "outputs": [],
   "source": [
    "list(range(5))"
   ]
  },
  {
   "cell_type": "markdown",
   "id": "7257298e",
   "metadata": {},
   "source": [
    "In fact, the `range` function have two more optional arguments. The complete syntax is actually `range(start=0, stop, step=1)`.<br>\n",
    "The optional variable `start` allows to start creating the list from another starting point than 0.<br>\n",
    "The optional variable `step` allows to browse the numbers in the range not one by one, but two by two, three by three, or more...<br>"
   ]
  },
  {
   "cell_type": "markdown",
   "id": "0bf1a59e",
   "metadata": {},
   "source": [
    "### Exercise 5\n",
    "Try to guess what list will the following entries for the `range` function generate."
   ]
  },
  {
   "cell_type": "code",
   "execution_count": null,
   "id": "1f4adfbc",
   "metadata": {},
   "outputs": [],
   "source": [
    "list(range(3,7))"
   ]
  },
  {
   "cell_type": "code",
   "execution_count": null,
   "id": "f581cc14",
   "metadata": {},
   "outputs": [],
   "source": [
    "list(range(-2,3))"
   ]
  },
  {
   "cell_type": "code",
   "execution_count": null,
   "id": "52586c77",
   "metadata": {},
   "outputs": [],
   "source": [
    "list(range(0,5,2))"
   ]
  },
  {
   "cell_type": "code",
   "execution_count": null,
   "id": "aad34c7e",
   "metadata": {},
   "outputs": [],
   "source": [
    "list(range(5,1))"
   ]
  },
  {
   "cell_type": "code",
   "execution_count": null,
   "id": "43f0e865",
   "metadata": {},
   "outputs": [],
   "source": [
    "list(range(5,1,-1))"
   ]
  },
  {
   "cell_type": "markdown",
   "id": "3d826277",
   "metadata": {},
   "source": [
    "We will speak more about the lists in the next chapter but for now, only remember that it is an ordered set of numbers.<br>\n",
    "<br>\n",
    "Once we know how to use the `range` function, we can define our very first **`for` loop** ! A `for` loop is used to repeat the same operation several times while changing the value of a variable, called the **iterator** : it takes all the values contained in a collection (here, a range) turn by turn at each iteration.<br>\n",
    "The syntax to create a `for` loop is the following :\n",
    "\n",
    "```python\n",
    "for iterator in range(n):\n",
    "    ...\n",
    "    ...\n",
    "    ...\n",
    "```\n",
    "\n",
    "As for the `if` statement blocks and the function definition blocks, we can nest `for` loops inside other blocks and nest other blocks inside a `for` loop."
   ]
  },
  {
   "cell_type": "markdown",
   "id": "68d53866",
   "metadata": {},
   "source": [
    "### Exercise 6\n",
    "Try to guess what will be printed in the shell after executing each of the following programs."
   ]
  },
  {
   "cell_type": "code",
   "execution_count": null,
   "id": "143389d1",
   "metadata": {},
   "outputs": [],
   "source": [
    "for k in range(10):\n",
    "    print(k)"
   ]
  },
  {
   "cell_type": "code",
   "execution_count": null,
   "id": "96fb271a",
   "metadata": {},
   "outputs": [],
   "source": [
    "for x in range(5):\n",
    "    print(' ' * x + 'Happy Chandara School')"
   ]
  },
  {
   "cell_type": "code",
   "execution_count": null,
   "id": "2430b6ce",
   "metadata": {},
   "outputs": [],
   "source": [
    "for k in range(10):\n",
    "    for _ in range(k):\n",
    "        print(k, end='')"
   ]
  },
  {
   "cell_type": "markdown",
   "id": "3b29e8ab",
   "metadata": {},
   "source": [
    "### Exercise 7\n",
    "Try to guess what the following function does. Do you know another way to obtain the same result faster ?"
   ]
  },
  {
   "cell_type": "code",
   "execution_count": null,
   "id": "0b837652",
   "metadata": {},
   "outputs": [],
   "source": [
    "def mystery_function5(n):\n",
    "    s = 0\n",
    "    for k in range(n+1):\n",
    "        s += k\n",
    "    return s"
   ]
  },
  {
   "cell_type": "markdown",
   "id": "44084cbd",
   "metadata": {},
   "source": [
    "## 5) while Loops\n",
    "\n",
    "In addition to the `for` loops, which iterate over a finite list of possible values, there exist another type of loops which keep iterate while a given condition remains true : the **`while` loops**.<br>\n",
    "There is no iterator in a `while` loop but a **condition** which is a boolean : the program keeps executing the block of code inside of the `while` loop as long as the value of this boolean is `True`.<br>\n",
    "The syntax of a `while` loop is as follows :\n",
    "\n",
    "```python\n",
    "while condition:\n",
    "    ...\n",
    "    ...\n",
    "    ...\n",
    "```\n",
    "\n",
    "Be cautious when using a `while` loop as if the condition remains true, it will end up looping forever. For this reason, if it is possible to use `for` loops instead of `while` loops, use this option instead.<br>\n",
    "<br>\n",
    "It is always possible to forcefully exit a loop (whether it's a `for` or a `while` loop) by using the keyword `break` but its use should be restricted to only some very specific cases."
   ]
  },
  {
   "cell_type": "markdown",
   "id": "c21343ba",
   "metadata": {},
   "source": [
    "### Exercise 8\n",
    "Try to guess what will be printed in the shell after executing each of the following programs. Do you recognize the last algorithm ?"
   ]
  },
  {
   "cell_type": "code",
   "execution_count": null,
   "id": "e06e7f6e",
   "metadata": {},
   "outputs": [],
   "source": [
    "a = 0\n",
    "while a <= 10:\n",
    "    a = a + 5\n",
    "print(a)"
   ]
  },
  {
   "cell_type": "code",
   "execution_count": null,
   "id": "95a635a8",
   "metadata": {},
   "outputs": [],
   "source": [
    "N = 224\n",
    "while N % 2 == 0:\n",
    "    N = N // 2\n",
    "print(N)"
   ]
  },
  {
   "cell_type": "code",
   "execution_count": null,
   "id": "03b7cecb",
   "metadata": {},
   "outputs": [],
   "source": [
    "x, y = 150, 42\n",
    "while y != 0:\n",
    "    x, y = y, x % y\n",
    "print(x)"
   ]
  },
  {
   "cell_type": "markdown",
   "id": "5cd0663b",
   "metadata": {},
   "source": [
    "### Exercise 9\n",
    "Look at the following program. Does it look familiar ?"
   ]
  },
  {
   "cell_type": "code",
   "execution_count": null,
   "id": "3432aa81",
   "metadata": {},
   "outputs": [],
   "source": [
    "k = 0\n",
    "while k < 10:\n",
    "    print(k)\n",
    "    k += 1"
   ]
  }
 ],
 "metadata": {
  "kernelspec": {
   "display_name": "Python 3 (ipykernel)",
   "language": "python",
   "name": "python3"
  },
  "language_info": {
   "codemirror_mode": {
    "name": "ipython",
    "version": 3
   },
   "file_extension": ".py",
   "mimetype": "text/x-python",
   "name": "python",
   "nbconvert_exporter": "python",
   "pygments_lexer": "ipython3",
   "version": "3.9.12"
  }
 },
 "nbformat": 4,
 "nbformat_minor": 5
}
