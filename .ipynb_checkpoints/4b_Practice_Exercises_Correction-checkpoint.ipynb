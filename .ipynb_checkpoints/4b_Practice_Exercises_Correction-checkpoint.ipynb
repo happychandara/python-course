{
 "cells": [
  {
   "cell_type": "markdown",
   "id": "ee1546cf",
   "metadata": {},
   "source": [
    "# Python Course - Chapter 4 : First numerical algorithms\n",
    "\n",
    "## Practice Exercises - Correction"
   ]
  },
  {
   "cell_type": "markdown",
   "id": "86dda2ef",
   "metadata": {},
   "source": [
    "### Exercise 1 - Solving an equation\n",
    "\n",
    "Show that the equation $x\\ln(x) = 1$ has a unique solution in $\\mathbb{R}_+^*$. Calculate an approximate value of the solution."
   ]
  },
  {
   "cell_type": "code",
   "execution_count": 3,
   "id": "d8ec739b",
   "metadata": {},
   "outputs": [
    {
     "name": "stdout",
     "output_type": "stream",
     "text": [
      "1.7632228350266814\n"
     ]
    }
   ],
   "source": [
    "from math import log\n",
    "\n",
    "# We define the bisect function as done previously during class\n",
    "def bisect(f, a, b, epsilon = 1e-9):\n",
    "    '''\n",
    "    Parameter : function f, floats a, b, float epsilon\n",
    "    Result : zero of the function f in the segment [a,b]\n",
    "    '''\n",
    "    while b - a > 2 * epsilon:\n",
    "        m = (a + b) / 2\n",
    "        if f(a)*f(m) < 0:\n",
    "            a, b = a, m\n",
    "        else:\n",
    "            a, b = m, b\n",
    "    return (a + b) / 2\n",
    "\n",
    "# We want to find a zero of x*ln(x) - 1\n",
    "# Since 1*ln(1) - 1 < 0 and 2*ln(2) - 1 > 0, the intermediate values theorem ensures that the zero is between 1 and 2\n",
    "print(bisect(lambda x : x*log(x) - 1, 1, 2))"
   ]
  },
  {
   "cell_type": "markdown",
   "id": "e16190bd",
   "metadata": {},
   "source": [
    "### Exercise 2 - Approximating roots of numbers\n",
    "\n",
    "**1)** Using the bisection method, find an approximate value of $\\sqrt{2}$.<br>\n",
    "<br>\n",
    "**2)** Generalize this method and write a function that calculates an approximate value of $\\sqrt[p]{n}$."
   ]
  },
  {
   "cell_type": "code",
   "execution_count": 17,
   "id": "e875368d",
   "metadata": {},
   "outputs": [
    {
     "name": "stdout",
     "output_type": "stream",
     "text": [
      "1.4142135614529252\n",
      "sqrt(2) : 1.4142135614529252\n",
      "cbrt(7) : 1.9129311830038205\n"
     ]
    }
   ],
   "source": [
    "# 1)\n",
    "# We define the bisect function as done previously during class\n",
    "def bisect(f, a, b, epsilon = 1e-9):\n",
    "    '''\n",
    "    Parameter : function f, floats a, b, float epsilon\n",
    "    Result : zero of the function f in the segment [a,b]\n",
    "    '''\n",
    "    while b - a > 2 * epsilon:\n",
    "        m = (a + b) / 2\n",
    "        if f(a)*f(m) < 0:\n",
    "            a, b = a, m\n",
    "        else:\n",
    "            a, b = m, b\n",
    "    return (a + b) / 2\n",
    "\n",
    "# To find the value of sqrt(2), we can see it as the solution of the equation x**2 - 2 = 0\n",
    "print(bisect(lambda x : x**2 - 2, 0, 2))\n",
    "\n",
    "#2)\n",
    "# To find the value of the p-th root of n, we can simply solve x**p - n = 0\n",
    "def root(n, p = 2, epsilon = 1e-9):\n",
    "    '''\n",
    "    Parameters : int p, n, float epsilon\n",
    "    Result : approximate value of the p-th root of n, with an error inferior to epsilon\n",
    "    '''\n",
    "    return bisect(lambda x : x**p - n, 0, n)\n",
    "\n",
    "# Test\n",
    "print('sqrt(2) :', root(2))\n",
    "print('cbrt(7) :', root(7,3))"
   ]
  },
  {
   "cell_type": "markdown",
   "id": "b6d458f1",
   "metadata": {},
   "source": [
    "### Exercise 3 - Fixed point of a function\n",
    "\n",
    "A fixed point of a real function $f$ is a real number $x$ such that $f(x) = x$.<br>\n",
    "Write a function `fixed_point(f, a, b, epsilon)` that takes in parameter a function `f` and two floats `a` and `b` and returns an approximate value of a fixed point of $f$ in $[a,b]$, if it exists."
   ]
  },
  {
   "cell_type": "code",
   "execution_count": 18,
   "id": "f0f698dd",
   "metadata": {},
   "outputs": [
    {
     "name": "stdout",
     "output_type": "stream",
     "text": [
      "0.7390851331874728\n"
     ]
    }
   ],
   "source": [
    "# We define the bisect function as done previously during class\n",
    "def bisect(f, a, b, epsilon = 1e-9):\n",
    "    '''\n",
    "    Parameter : function f, floats a, b, float epsilon\n",
    "    Result : zero of the function f in the segment [a,b]\n",
    "    '''\n",
    "    while b - a > 2 * epsilon:\n",
    "        m = (a + b) / 2\n",
    "        if f(a)*f(m) < 0:\n",
    "            a, b = a, m\n",
    "        else:\n",
    "            a, b = m, b\n",
    "    return (a + b) / 2\n",
    "\n",
    "# We define a function that calculates the fixed point of f in [a,b], i.e. solves f(x) - x = 0\n",
    "def fixed_point(f, a, b, epsilon = 1e-9):\n",
    "    '''\n",
    "    Parameter : function f, floats a, b, float epsilon\n",
    "    Result : fixed point of f in the segment [a,b]\n",
    "    '''\n",
    "    return bisect(lambda x : f(x) - x, a, b, epsilon)\n",
    "\n",
    "# Test\n",
    "from math import cos\n",
    "print(fixed_point(cos, 0, 1))"
   ]
  },
  {
   "cell_type": "markdown",
   "id": "c9267343",
   "metadata": {},
   "source": [
    "### Exercise 4 - Approximation of $\\ln(2)$\n",
    "\n",
    "Choosing an appropriate integral and using the rectangle method, calculate an approximate value of $\\ln(2)$."
   ]
  },
  {
   "cell_type": "code",
   "execution_count": 49,
   "id": "c4c2da98",
   "metadata": {},
   "outputs": [
    {
     "name": "stdout",
     "output_type": "stream",
     "text": [
      "0.6931471805599453\n",
      "0.6931471805599179\n"
     ]
    }
   ],
   "source": [
    "# We can integrate 1/x over [1,2] in order to approximate ln(2)\n",
    "\n",
    "# We define the rectangle function implementing the rectangle method\n",
    "def rectangle(f, a, b, N):\n",
    "    '''\n",
    "    Parameters : function f, floats a, b, int N\n",
    "    Result : approximation of the integral of f over [a,b] with a sum of N rectangles\n",
    "    '''\n",
    "    res = 0\n",
    "    dx = (b - a) / N\n",
    "    for k in range(N):\n",
    "        x = a + (k+1/2)*(b-a)/N\n",
    "        res += f(x) * dx\n",
    "    return res\n",
    "\n",
    "import math\n",
    "print(math.log(2))\n",
    "print(rectangle(lambda t : 1/t, 1, 2, 1000000))"
   ]
  },
  {
   "cell_type": "markdown",
   "id": "459d0e7f",
   "metadata": {},
   "source": [
    "### Exercise 5 - Gaussian integral\n",
    "\n",
    "Find an approximate value of the following integral :\n",
    "$$ \\int_{-\\infty}^{+\\infty} \\exp(-x^2)dx.$$\n",
    "\n",
    "Compare the obtained value to $\\sqrt{\\pi}$."
   ]
  },
  {
   "cell_type": "code",
   "execution_count": 50,
   "id": "39f4c6fd",
   "metadata": {},
   "outputs": [
    {
     "name": "stdout",
     "output_type": "stream",
     "text": [
      "1.7724538509055159\n",
      "1.7724538509055148\n"
     ]
    }
   ],
   "source": [
    "# The main issue here is that the interval of integration is infinite\n",
    "# A solution is to consider a big number A > 0 and integrate over [-A,A]\n",
    "\n",
    "# We define the rectangle function implementing the rectangle method\n",
    "def rectangle(f, a, b, N):\n",
    "    '''\n",
    "    Parameters : function f, floats a, b, int N\n",
    "    Result : approximation of the integral of f over [a,b] with a sum of N rectangles\n",
    "    '''\n",
    "    res = 0\n",
    "    dx = (b - a) / N\n",
    "    for k in range(N):\n",
    "        x = a + (k+1/2)*(b-a)/N\n",
    "        res += f(x) * dx\n",
    "    return res\n",
    "\n",
    "import math\n",
    "A = 10000\n",
    "N = 1000000\n",
    "print(math.sqrt(math.pi))\n",
    "print(rectangle(lambda t : math.exp(-t**2), -A, A, N))"
   ]
  },
  {
   "cell_type": "markdown",
   "id": "2a216a47",
   "metadata": {},
   "source": [
    "### Lesson - scipy library\n",
    "\n",
    "All of these functions we wrote are actually available in a library called `scipy` !\n",
    "\n",
    "- In `scipy.optimize`, you can find a lot of functions to find zeros, and way more.\n",
    "- In `scipy.integrate`, you can find functions to approximate integrals with various methods that are more efficient than the rectangle method (and therefore gives better approximations !)."
   ]
  },
  {
   "cell_type": "code",
   "execution_count": 7,
   "id": "f14b4876",
   "metadata": {},
   "outputs": [
    {
     "name": "stdout",
     "output_type": "stream",
     "text": [
      "1.4142135623730951\n",
      "1.4142135623715149\n"
     ]
    }
   ],
   "source": [
    "import scipy\n",
    "print(math.sqrt(2))\n",
    "print(scipy.optimize.bisect(lambda x : x**2 - 2, 0, 2))"
   ]
  },
  {
   "cell_type": "code",
   "execution_count": 8,
   "id": "beb48d09",
   "metadata": {},
   "outputs": [
    {
     "name": "stdout",
     "output_type": "stream",
     "text": [
      "1.7724538509055159\n",
      "(1.7724538509055159, 1.4202636756659625e-08)\n"
     ]
    }
   ],
   "source": [
    "import math, numpy as np, scipy\n",
    "print(math.sqrt(math.pi))\n",
    "print(scipy.integrate.quad(lambda x : math.exp(-x**2), -np.inf, +np.inf))"
   ]
  },
  {
   "cell_type": "markdown",
   "id": "19c82660",
   "metadata": {},
   "source": [
    "Here, the second number correspond to an approximation of the error made when calculating the integral using `scipy.integrate.quad`."
   ]
  },
  {
   "cell_type": "markdown",
   "id": "23cbc9fb",
   "metadata": {},
   "source": [
    "### Exercise 6 - Newton's method to find zeros of functions &#9733;\n",
    "\n",
    "As you should know, the derivative of a function $f$ is defined by\n",
    "\n",
    "$$ f'(x) := \\lim_{h \\rightarrow 0} \\frac{f(x+h) - f(x)}{h} = \\lim_{h \\rightarrow 0} \\frac{f(x+h) - f(x-h)}{2h}.$$\n",
    "\n",
    "Therefore, the derivative of a function can be approximated by using a small value of $h > 0$ in\n",
    "\n",
    "$$ f'(x) \\approx \\frac{f(x+h) - f(x-h)}{2h}.$$\n",
    "\n",
    "**1)** Write a function `derivative(f, x, h = 1e-6)` that takes in parameter a function `f` and a float `x` and returns the value of $f'(x)$.<br>\n",
    "<br>\n",
    "Another method than the bissect method in order to calculate the zero of a function is Newton's method : it uses the derivative to \"run down the slope\" of a function. The idea is that the tangeant to the curve of $f$ at the point $(x_n,f(x_n))$ that intersects the x-axis at $x = x_{n+1}$ has a slope of :\n",
    "\n",
    "$$f'(x_n) = \\frac{f(x_n)}{x_n - x_{n+1}}$$.\n",
    "\n",
    "Therefore, we can define a sequence $(x_n)$ by considering the relation\n",
    "\n",
    "$$x_{n+1} = x_n - \\frac{f(x_n)}{f'(x_n)}$$.\n",
    "\n",
    "We start this process at $x = x_0$ and continue until the values of $x_n$ and $x_{n+1}$ are close enough i.e. $\\vert x_{n+1} - x_n \\vert \\leq \\varepsilon$. The closer the initial value $x_0$ is to the actual zero, the more efficient the algorithm will be.<br>\n",
    "<br>\n",
    "**2)** Write a function `newton(f, x_0, epsilon)` that implements Newton's method.<br>\n",
    "<br>\n",
    "**3)** Test Newton's method to find the zero of a function of your choice."
   ]
  },
  {
   "cell_type": "code",
   "execution_count": 58,
   "id": "409bfc6b",
   "metadata": {},
   "outputs": [
    {
     "name": "stdout",
     "output_type": "stream",
     "text": [
      "1.4142135628728434\n"
     ]
    }
   ],
   "source": [
    "# 1)\n",
    "def derivative(f, x, h = 1e-6):\n",
    "    '''\n",
    "    Parameters : function f, float x, float h\n",
    "    Result : value of f'(x)\n",
    "    '''\n",
    "    return (f(x+h) - f(x-h) / (2*h))\n",
    "\n",
    "# 2)\n",
    "def newton(f, x_0, epsilon = 1e-9):\n",
    "    '''\n",
    "    Parameters : function f, float x_0, float epsilon\n",
    "    Result : zero of the function f using Newton's method starting from x_0\n",
    "    '''\n",
    "    x, y = x_0, x_0 - f(x_0) / derivative(f,x_0)\n",
    "    while abs(y - x) > epsilon:\n",
    "        x, y = y, y - f(y) / derivative(f,y)\n",
    "    return y\n",
    "\n",
    "# 3)\n",
    "# Testing Newton's method to calculate the square root of 2 again\n",
    "print(newton(lambda x : x**2 - 2, 1))"
   ]
  }
 ],
 "metadata": {
  "kernelspec": {
   "display_name": "Python 3 (ipykernel)",
   "language": "python",
   "name": "python3"
  },
  "language_info": {
   "codemirror_mode": {
    "name": "ipython",
    "version": 3
   },
   "file_extension": ".py",
   "mimetype": "text/x-python",
   "name": "python",
   "nbconvert_exporter": "python",
   "pygments_lexer": "ipython3",
   "version": "3.9.12"
  }
 },
 "nbformat": 4,
 "nbformat_minor": 5
}
