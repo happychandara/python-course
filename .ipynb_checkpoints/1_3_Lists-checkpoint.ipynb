{
 "cells": [
  {
   "cell_type": "markdown",
   "id": "af338973",
   "metadata": {},
   "source": [
    "# Python Course - Chapter 3 : Lists\n",
    "\n",
    "## 1) Focus on string objects\n",
    "\n",
    "In Chapter 1, we introduced the `string` type and in Chapter 2, we discovered some operations that could be performed on `string` objects. In this chapter, we will learn even more operations with these objects.<br>\n",
    "<br>\n",
    "Another way to see `string` objects is to consider that they are a list of individual characters. The length of this list can be accessed throught the function `len`.<br>\n",
    "It is possible to access individual characters of a string `s` at an index `i` using the method `s[i]`. Be careful, the numbering of indexes starts at 0 ! For instance, his means the second character of `s` is the character of index 1, and can be accessed using `s[1]` (and not `s[2]` !)."
   ]
  },
  {
   "cell_type": "markdown",
   "id": "518576ac",
   "metadata": {},
   "source": [
    "### Exercise 1\n",
    "Try to guess the result of each of the following programs."
   ]
  },
  {
   "cell_type": "code",
   "execution_count": 8,
   "id": "af50d2a0",
   "metadata": {},
   "outputs": [
    {
     "data": {
      "text/plain": [
       "'o'"
      ]
     },
     "execution_count": 8,
     "metadata": {},
     "output_type": "execute_result"
    }
   ],
   "source": [
    "s = \"Hello, world!\"\n",
    "s[4]"
   ]
  },
  {
   "cell_type": "code",
   "execution_count": 9,
   "id": "25926f71",
   "metadata": {},
   "outputs": [
    {
     "data": {
      "text/plain": [
       "'@'"
      ]
     },
     "execution_count": 9,
     "metadata": {},
     "output_type": "execute_result"
    }
   ],
   "source": [
    "\"H@ppy Chandar@ School\"[13]"
   ]
  },
  {
   "cell_type": "code",
   "execution_count": 10,
   "id": "983b6a7e",
   "metadata": {},
   "outputs": [
    {
     "data": {
      "text/plain": [
       "'b'"
      ]
     },
     "execution_count": 10,
     "metadata": {},
     "output_type": "execute_result"
    }
   ],
   "source": [
    "s = 'abc' * 1000\n",
    "s[289]"
   ]
  },
  {
   "cell_type": "code",
   "execution_count": 23,
   "id": "6c2f751b",
   "metadata": {},
   "outputs": [
    {
     "data": {
      "text/plain": [
       "'!'"
      ]
     },
     "execution_count": 23,
     "metadata": {},
     "output_type": "execute_result"
    }
   ],
   "source": [
    "s = 'Hello, world!'\n",
    "s[-1]"
   ]
  },
  {
   "cell_type": "code",
   "execution_count": 29,
   "id": "9297067e",
   "metadata": {},
   "outputs": [
    {
     "data": {
      "text/plain": [
       "'HCS'"
      ]
     },
     "execution_count": 29,
     "metadata": {},
     "output_type": "execute_result"
    }
   ],
   "source": [
    "s = 'Happy Chandara School'\n",
    "s[0] + s[6] + s[15]"
   ]
  },
  {
   "cell_type": "markdown",
   "id": "3718494e",
   "metadata": {},
   "source": [
    "More than simply accessing single characters of a string, we can actually access any sub-string of a string using **slicing**. When slicing a string `s`, the syntax is as follows :\n",
    "\n",
    "```python\n",
    "s[start:stop]\n",
    "```\n",
    "\n",
    "You may notice that the syntax is very similar to the syntax for the `range` function, only with colons ':' instead of commas ',' to separate parameters. The role of each parameter is similar : `start` defines the index of the first character to include in the slicing and `stop` defines the index of the first character that is not included in the slicing.<br>\n",
    "Actually, we can add a third optional variable `step` that has the same role as in the `range` function.<br>\n",
    "<br>\n",
    "In fact, we can even skip indicating the `start` or the `stop` variables to start from the beginning or go until the end of the string."
   ]
  },
  {
   "cell_type": "markdown",
   "id": "48165782",
   "metadata": {},
   "source": [
    "### Exercise 2\n",
    "Try to guess the result of each of the following programs."
   ]
  },
  {
   "cell_type": "code",
   "execution_count": 12,
   "id": "f3317473",
   "metadata": {},
   "outputs": [
    {
     "data": {
      "text/plain": [
       "'world'"
      ]
     },
     "execution_count": 12,
     "metadata": {},
     "output_type": "execute_result"
    }
   ],
   "source": [
    "s = 'Hello, world!'\n",
    "s[7:12]"
   ]
  },
  {
   "cell_type": "code",
   "execution_count": 18,
   "id": "3de649f2",
   "metadata": {},
   "outputs": [
    {
     "data": {
      "text/plain": [
       "'pyCad'"
      ]
     },
     "execution_count": 18,
     "metadata": {},
     "output_type": "execute_result"
    }
   ],
   "source": [
    "s = 'Happy Chandara School'\n",
    "s[2:11:2]"
   ]
  },
  {
   "cell_type": "code",
   "execution_count": 21,
   "id": "68298105",
   "metadata": {},
   "outputs": [
    {
     "data": {
      "text/plain": [
       "'School'"
      ]
     },
     "execution_count": 21,
     "metadata": {},
     "output_type": "execute_result"
    }
   ],
   "source": [
    "s = 'Happy Chandara School'\n",
    "s[15:]"
   ]
  },
  {
   "cell_type": "code",
   "execution_count": 15,
   "id": "da980ced",
   "metadata": {},
   "outputs": [
    {
     "data": {
      "text/plain": [
       "'I like cat'"
      ]
     },
     "execution_count": 15,
     "metadata": {},
     "output_type": "execute_result"
    }
   ],
   "source": [
    "s = 'I like caterpillars'\n",
    "s[:10]"
   ]
  },
  {
   "cell_type": "code",
   "execution_count": 89,
   "id": "4e7f7e25",
   "metadata": {},
   "outputs": [
    {
     "data": {
      "text/plain": [
       "'It makes more sense now'"
      ]
     },
     "execution_count": 89,
     "metadata": {},
     "output_type": "execute_result"
    }
   ],
   "source": [
    "s = 'IMt! Am6aXk!eIs6 Pm4oRrYeO !sUe9nTsle! qn!oew!'\n",
    "s[::2]"
   ]
  },
  {
   "cell_type": "code",
   "execution_count": 44,
   "id": "d5b64192",
   "metadata": {},
   "outputs": [
    {
     "data": {
      "text/plain": [
       "'wolf'"
      ]
     },
     "execution_count": 44,
     "metadata": {},
     "output_type": "execute_result"
    }
   ],
   "source": [
    "s = 'flow'\n",
    "s[::-1]"
   ]
  },
  {
   "cell_type": "code",
   "execution_count": 45,
   "id": "bb0ab7ed",
   "metadata": {},
   "outputs": [
    {
     "data": {
      "text/plain": [
       "'amp'"
      ]
     },
     "execution_count": 45,
     "metadata": {},
     "output_type": "execute_result"
    }
   ],
   "source": [
    "s = 'Example'\n",
    "s[2:-2]"
   ]
  },
  {
   "cell_type": "markdown",
   "id": "3b125754",
   "metadata": {},
   "source": [
    "## 2) Creating lists\n",
    "\n",
    "A **list** is a linear data structure : it is a collection of objects that are enclosed by square brackets and separated by commas. For instance,\n",
    "```python\n",
    "l = [1, 'a', True, 75.3, 'bc', -5]\n",
    "```\n",
    "is a list containing 6 elements. As you can see, a list can contain different types of elements. They can even contain other lists (since lists are an object just like any other one !).<br>\n",
    "A list can also be empty ! Here is the empty list : `[]`<br>\n",
    "<br>\n",
    "The same operations that work on `string` objects can be used for list : concatenation of two list via + and replication via \\*.<br>\n",
    "<br>\n",
    "We can access individual elements using the same syntax as for `string` object : `l[i]` corresponds to the element of index `i` in the list `l`.<br>\n",
    "Similarly to the `string` objects, we can know the length of a list using the function `len`.<br>\n",
    "<br>\n",
    "The main advantage of `list` objects compared to `string` objects is that we can modify the value of the elements at each index `i` using the syntax :\n",
    "```python\n",
    "l[i] = new_value\n",
    "```"
   ]
  },
  {
   "cell_type": "markdown",
   "id": "5dd87ee4",
   "metadata": {},
   "source": [
    "### Exercise 3\n",
    "Try to guess the result of each of the following programs."
   ]
  },
  {
   "cell_type": "code",
   "execution_count": 32,
   "id": "4174c5c3",
   "metadata": {},
   "outputs": [
    {
     "data": {
      "text/plain": [
       "3"
      ]
     },
     "execution_count": 32,
     "metadata": {},
     "output_type": "execute_result"
    }
   ],
   "source": [
    "l = [1,2,3,4]\n",
    "l[2]"
   ]
  },
  {
   "cell_type": "code",
   "execution_count": 33,
   "id": "3a2fb2dc",
   "metadata": {},
   "outputs": [
    {
     "ename": "IndexError",
     "evalue": "list index out of range",
     "output_type": "error",
     "traceback": [
      "\u001b[1;31m---------------------------------------------------------------------------\u001b[0m",
      "\u001b[1;31mIndexError\u001b[0m                                Traceback (most recent call last)",
      "Input \u001b[1;32mIn [33]\u001b[0m, in \u001b[0;36m<cell line: 2>\u001b[1;34m()\u001b[0m\n\u001b[0;32m      1\u001b[0m l \u001b[38;5;241m=\u001b[39m [\u001b[38;5;241m1\u001b[39m,\u001b[38;5;241m2\u001b[39m,\u001b[38;5;241m3\u001b[39m,\u001b[38;5;241m4\u001b[39m]\n\u001b[1;32m----> 2\u001b[0m \u001b[43ml\u001b[49m\u001b[43m[\u001b[49m\u001b[38;5;241;43m4\u001b[39;49m\u001b[43m]\u001b[49m\n",
      "\u001b[1;31mIndexError\u001b[0m: list index out of range"
     ]
    }
   ],
   "source": [
    "l = [1,2,3,4]\n",
    "l[4]"
   ]
  },
  {
   "cell_type": "code",
   "execution_count": 34,
   "id": "b2c1365d",
   "metadata": {},
   "outputs": [
    {
     "data": {
      "text/plain": [
       "4"
      ]
     },
     "execution_count": 34,
     "metadata": {},
     "output_type": "execute_result"
    }
   ],
   "source": [
    "a = [[0,1], [2,4], [5,7]]\n",
    "a[1][1]"
   ]
  },
  {
   "cell_type": "code",
   "execution_count": 35,
   "id": "17cf61a5",
   "metadata": {},
   "outputs": [
    {
     "data": {
      "text/plain": [
       "3"
      ]
     },
     "execution_count": 35,
     "metadata": {},
     "output_type": "execute_result"
    }
   ],
   "source": [
    "a = [[0,1], [2,4], [5,7]]\n",
    "len(a)"
   ]
  },
  {
   "cell_type": "code",
   "execution_count": 36,
   "id": "ba90b71f",
   "metadata": {},
   "outputs": [
    {
     "data": {
      "text/plain": [
       "[2, 1]"
      ]
     },
     "execution_count": 36,
     "metadata": {},
     "output_type": "execute_result"
    }
   ],
   "source": [
    "b = [0,1]\n",
    "b[0] = 2\n",
    "b"
   ]
  },
  {
   "cell_type": "code",
   "execution_count": 37,
   "id": "f912b886",
   "metadata": {},
   "outputs": [
    {
     "data": {
      "text/plain": [
       "[0, 0, 2, 2, 4, 4, 6, 6, 8, 8]"
      ]
     },
     "execution_count": 37,
     "metadata": {},
     "output_type": "execute_result"
    }
   ],
   "source": [
    "c = [0,1,2,3,4,5,6,7,8,9]\n",
    "for k in range(1,10,2):\n",
    "    c[k] = c[k-1]\n",
    "c"
   ]
  },
  {
   "cell_type": "markdown",
   "id": "f92aab91",
   "metadata": {},
   "source": [
    "Just like for `string` objects, we can use **slicing** with lists to create sub-lists. The syntax to slice a list `l` is exactely the same :\n",
    "```python\n",
    "l[start:stop:step=1]\n",
    "```\n",
    "We can skip parameters as for `string` slicing if needed.<br>\n",
    "<br>\n",
    "One notable thing from list slicing is that it creates a completely new list, and not a pointer that refers to the same object in memory. Let's use the next exercise to explain what this means."
   ]
  },
  {
   "cell_type": "markdown",
   "id": "9580fdbd",
   "metadata": {},
   "source": [
    "### Exercise 4\n",
    "Try to understand what happens in the following examples."
   ]
  },
  {
   "cell_type": "code",
   "execution_count": 46,
   "id": "47bf0ada",
   "metadata": {},
   "outputs": [
    {
     "data": {
      "text/plain": [
       "2"
      ]
     },
     "execution_count": 46,
     "metadata": {},
     "output_type": "execute_result"
    }
   ],
   "source": [
    "a = [0,1]\n",
    "b = a\n",
    "a[0] = 2\n",
    "b[0]"
   ]
  },
  {
   "cell_type": "code",
   "execution_count": 47,
   "id": "eaaab998",
   "metadata": {},
   "outputs": [
    {
     "data": {
      "text/plain": [
       "0"
      ]
     },
     "execution_count": 47,
     "metadata": {},
     "output_type": "execute_result"
    }
   ],
   "source": [
    "a = [0,1]\n",
    "b = a[::]\n",
    "a[0] = 2\n",
    "b[0]"
   ]
  },
  {
   "cell_type": "code",
   "execution_count": 48,
   "id": "4823d66a",
   "metadata": {},
   "outputs": [
    {
     "data": {
      "text/plain": [
       "0"
      ]
     },
     "execution_count": 48,
     "metadata": {},
     "output_type": "execute_result"
    }
   ],
   "source": [
    "a = [0,1]\n",
    "b = a.copy()\n",
    "a[0] = 2\n",
    "b[0]"
   ]
  },
  {
   "cell_type": "markdown",
   "id": "0b1f51fc",
   "metadata": {},
   "source": [
    "Slicing can even be used to modify multiple elements at a time, using the syntax \n",
    "```python\n",
    "l[i:j] = t\n",
    "```\n",
    "replaces all elements of indexes `i` to `j-1` with the elements of the sequence `t` (which can be another list, a tuple, a range, a string, ...).<br>\n",
    "Note that these sequences (tuple, range, string) can be converted to a list by using the function `list`.<br>\n",
    "<br>\n",
    "Here are some examples :"
   ]
  },
  {
   "cell_type": "code",
   "execution_count": 81,
   "id": "d8cfa673",
   "metadata": {},
   "outputs": [
    {
     "data": {
      "text/plain": [
       "[0, 1, 7, 8, 9, 5, 6, 7, 8, 9]"
      ]
     },
     "execution_count": 81,
     "metadata": {},
     "output_type": "execute_result"
    }
   ],
   "source": [
    "l = list(range(10))\n",
    "l[2:5] = l[7:10] # with a list\n",
    "l"
   ]
  },
  {
   "cell_type": "code",
   "execution_count": 82,
   "id": "89c7283d",
   "metadata": {},
   "outputs": [
    {
     "data": {
      "text/plain": [
       "[0, 1, True, False, True, 5, 6, 7, 8, 9]"
      ]
     },
     "execution_count": 82,
     "metadata": {},
     "output_type": "execute_result"
    }
   ],
   "source": [
    "l = list(range(10))\n",
    "l[2:5] = (True, False, True) # with a tuple\n",
    "l"
   ]
  },
  {
   "cell_type": "code",
   "execution_count": 83,
   "id": "28a92b14",
   "metadata": {},
   "outputs": [
    {
     "data": {
      "text/plain": [
       "[0, 1, 0, 1, 2, 5, 6, 7, 8, 9]"
      ]
     },
     "execution_count": 83,
     "metadata": {},
     "output_type": "execute_result"
    }
   ],
   "source": [
    "l = list(range(10))\n",
    "l[2:5] = range(3) # with a range\n",
    "l"
   ]
  },
  {
   "cell_type": "code",
   "execution_count": 84,
   "id": "d3ee53bc",
   "metadata": {},
   "outputs": [
    {
     "data": {
      "text/plain": [
       "[0, 1, 'a', 'b', 'c', 5, 6, 7, 8, 9]"
      ]
     },
     "execution_count": 84,
     "metadata": {},
     "output_type": "execute_result"
    }
   ],
   "source": [
    "l = list(range(10))\n",
    "l[2:5] = 'abc' # with a string\n",
    "l"
   ]
  },
  {
   "cell_type": "markdown",
   "id": "8383c7e7",
   "metadata": {},
   "source": [
    "## 3) Methods with lists\n",
    "\n",
    "Some function have to be placed at the end of the name of the variable and modify the value of the variable without creating a new one : such functions are called **methods**. We'll see some of them that can be applied to lists.<br>\n",
    "<br>\n",
    "One of the most used methods with lists is the `append` method : it adds an element at the end of a list using the syntax :\n",
    "```python\n",
    "l.append(element)\n",
    "```\n",
    "If we want to add an element somewhere else than at the very end of a list, we can instead use the method `insert` to add an element at a specific index in a list :\n",
    "```python\n",
    "l.insert(index, element)\n",
    "```"
   ]
  },
  {
   "cell_type": "markdown",
   "id": "de55e5bd",
   "metadata": {},
   "source": [
    "### Exercise 5\n",
    "Try to guess the result of each of the following programs."
   ]
  },
  {
   "cell_type": "code",
   "execution_count": 49,
   "id": "281bfa4a",
   "metadata": {},
   "outputs": [],
   "source": [
    "a = ['a', 'b', 'c', 'd']\n",
    "a.append('x')"
   ]
  },
  {
   "cell_type": "code",
   "execution_count": 50,
   "id": "a712d30b",
   "metadata": {},
   "outputs": [
    {
     "data": {
      "text/plain": [
       "['a', 'b', 'c', 'd', 'x']"
      ]
     },
     "execution_count": 50,
     "metadata": {},
     "output_type": "execute_result"
    }
   ],
   "source": [
    "a = ['a', 'b', 'c', 'd']\n",
    "a.append('x')\n",
    "a"
   ]
  },
  {
   "cell_type": "code",
   "execution_count": 51,
   "id": "69fd7c83",
   "metadata": {},
   "outputs": [
    {
     "ename": "TypeError",
     "evalue": "insert expected 2 arguments, got 1",
     "output_type": "error",
     "traceback": [
      "\u001b[1;31m---------------------------------------------------------------------------\u001b[0m",
      "\u001b[1;31mTypeError\u001b[0m                                 Traceback (most recent call last)",
      "Input \u001b[1;32mIn [51]\u001b[0m, in \u001b[0;36m<cell line: 2>\u001b[1;34m()\u001b[0m\n\u001b[0;32m      1\u001b[0m a \u001b[38;5;241m=\u001b[39m [\u001b[38;5;124m'\u001b[39m\u001b[38;5;124ma\u001b[39m\u001b[38;5;124m'\u001b[39m, \u001b[38;5;124m'\u001b[39m\u001b[38;5;124mb\u001b[39m\u001b[38;5;124m'\u001b[39m, \u001b[38;5;124m'\u001b[39m\u001b[38;5;124mc\u001b[39m\u001b[38;5;124m'\u001b[39m, \u001b[38;5;124m'\u001b[39m\u001b[38;5;124md\u001b[39m\u001b[38;5;124m'\u001b[39m]\n\u001b[1;32m----> 2\u001b[0m \u001b[43ma\u001b[49m\u001b[38;5;241;43m.\u001b[39;49m\u001b[43minsert\u001b[49m\u001b[43m(\u001b[49m\u001b[38;5;124;43m'\u001b[39;49m\u001b[38;5;124;43mx\u001b[39;49m\u001b[38;5;124;43m'\u001b[39;49m\u001b[43m)\u001b[49m\n\u001b[0;32m      3\u001b[0m a\n",
      "\u001b[1;31mTypeError\u001b[0m: insert expected 2 arguments, got 1"
     ]
    }
   ],
   "source": [
    "a = ['a', 'b', 'c', 'd']\n",
    "a.insert('x')\n",
    "a"
   ]
  },
  {
   "cell_type": "code",
   "execution_count": 61,
   "id": "2ac7d246",
   "metadata": {},
   "outputs": [
    {
     "data": {
      "text/plain": [
       "['a', 'b', 'x', 'c', 'd']"
      ]
     },
     "execution_count": 61,
     "metadata": {},
     "output_type": "execute_result"
    }
   ],
   "source": [
    "a = ['a', 'b', 'c', 'd']\n",
    "a.insert(2,'x')\n",
    "a"
   ]
  },
  {
   "cell_type": "code",
   "execution_count": 67,
   "id": "98cce4e5",
   "metadata": {},
   "outputs": [
    {
     "data": {
      "text/plain": [
       "['a', 'x', 'b', 'x', 'c', 'd']"
      ]
     },
     "execution_count": 67,
     "metadata": {},
     "output_type": "execute_result"
    }
   ],
   "source": [
    "a = ['a', 'b', 'c', 'd']\n",
    "a.insert(1,'x')\n",
    "a.insert(3,'x')\n",
    "a"
   ]
  },
  {
   "cell_type": "code",
   "execution_count": 69,
   "id": "53206cce",
   "metadata": {},
   "outputs": [
    {
     "data": {
      "text/plain": [
       "[0, 1, 2, 3, 4, 5, 'test']"
      ]
     },
     "execution_count": 69,
     "metadata": {},
     "output_type": "execute_result"
    }
   ],
   "source": [
    "b = [0, 1, 2, 3, 4, 5]\n",
    "b.insert(727, 'test')\n",
    "b"
   ]
  },
  {
   "cell_type": "code",
   "execution_count": 17,
   "id": "40eeeee7",
   "metadata": {},
   "outputs": [
    {
     "data": {
      "text/plain": [
       "[3, 7, 12]"
      ]
     },
     "execution_count": 17,
     "metadata": {},
     "output_type": "execute_result"
    }
   ],
   "source": [
    "l = []\n",
    "l.append(3)\n",
    "l.append(7)\n",
    "l.append(12)\n",
    "l"
   ]
  },
  {
   "cell_type": "markdown",
   "id": "b1e57c8e",
   "metadata": {},
   "source": [
    "On top of adding elements to a list, we can also delete some elements from one.<br>\n",
    "To delete the element of index `i` in a list, we can use the `pop` method : `l.pop(i)`. Note that this method actually returns the element that was deleted as a result, meaning it is possible to store it in a variable if needed ! By default, `l.pop()` deletes the element at the end of the list.<br>\n",
    "<br>\n",
    "To delete the first apparition of the value `x` in a list, we can instead use the `remove` method : `l.remove(x)`. This method however just has an effect and doesn't return any value. If the value `x` isn't found in the list, this method returns an error."
   ]
  },
  {
   "cell_type": "markdown",
   "id": "e01ee345",
   "metadata": {},
   "source": [
    "### Exercise 6\n",
    "Try to guess the result of each of the following programs."
   ]
  },
  {
   "cell_type": "code",
   "execution_count": 3,
   "id": "b3e3bd1e",
   "metadata": {},
   "outputs": [
    {
     "data": {
      "text/plain": [
       "[1, 3]"
      ]
     },
     "execution_count": 3,
     "metadata": {},
     "output_type": "execute_result"
    }
   ],
   "source": [
    "l = [1,2,3]\n",
    "l.pop(1)\n",
    "l"
   ]
  },
  {
   "cell_type": "code",
   "execution_count": 4,
   "id": "ee2cc899",
   "metadata": {},
   "outputs": [
    {
     "data": {
      "text/plain": [
       "2"
      ]
     },
     "execution_count": 4,
     "metadata": {},
     "output_type": "execute_result"
    }
   ],
   "source": [
    "l = [1,2,3]\n",
    "l.pop(1)"
   ]
  },
  {
   "cell_type": "code",
   "execution_count": 8,
   "id": "801a7d0f",
   "metadata": {},
   "outputs": [
    {
     "data": {
      "text/plain": [
       "[2, 3]"
      ]
     },
     "execution_count": 8,
     "metadata": {},
     "output_type": "execute_result"
    }
   ],
   "source": [
    "l = [1,2,3]\n",
    "l.remove(1)\n",
    "l"
   ]
  },
  {
   "cell_type": "code",
   "execution_count": 12,
   "id": "7b9fb3ab",
   "metadata": {},
   "outputs": [
    {
     "data": {
      "text/plain": [
       "[2, 1, 3, 1, 1]"
      ]
     },
     "execution_count": 12,
     "metadata": {},
     "output_type": "execute_result"
    }
   ],
   "source": [
    "l = [1,2,1,3,1,1]\n",
    "l.remove(1)\n",
    "l"
   ]
  },
  {
   "cell_type": "code",
   "execution_count": 6,
   "id": "d54aec60",
   "metadata": {},
   "outputs": [
    {
     "data": {
      "text/plain": [
       "[1, 2]"
      ]
     },
     "execution_count": 6,
     "metadata": {},
     "output_type": "execute_result"
    }
   ],
   "source": [
    "l = [1,2,3]\n",
    "l.pop()\n",
    "l"
   ]
  },
  {
   "cell_type": "markdown",
   "id": "f731888a",
   "metadata": {},
   "source": [
    "There exists a lot of other methods concerning lists but we'll only present two more that can be useful.<br>\n",
    "<br>\n",
    "The method `reverse` reverts a list, returning the list obtaining by reading the original list from right to left. The syntax is `l.reverse()`. Note that this method modifies the list and doesn't create a new one, just like any other method.<br>\n",
    "<br>\n",
    "Finally, the method `sort` can be applied to a list of numbers to order it in ascending ordrer. The syntax is `l.sort()`. If you wish to create a new sorted list instead of modifying the original list, you can use the function `sorted` instead : `sorted(l)`."
   ]
  },
  {
   "cell_type": "markdown",
   "id": "a3135e3f",
   "metadata": {},
   "source": [
    "### Exercise 7\n",
    "Try to guess the result of each of the following programs."
   ]
  },
  {
   "cell_type": "code",
   "execution_count": 14,
   "id": "db45ce2b",
   "metadata": {},
   "outputs": [
    {
     "data": {
      "text/plain": [
       "[5, 4, 3, 2, 1]"
      ]
     },
     "execution_count": 14,
     "metadata": {},
     "output_type": "execute_result"
    }
   ],
   "source": [
    "a = [1,2,3,4,5]\n",
    "a.reverse()\n",
    "a"
   ]
  },
  {
   "cell_type": "code",
   "execution_count": 11,
   "id": "2dcef2f7",
   "metadata": {},
   "outputs": [
    {
     "data": {
      "text/plain": [
       "[6, 4, 3, 8, 1]"
      ]
     },
     "execution_count": 11,
     "metadata": {},
     "output_type": "execute_result"
    }
   ],
   "source": [
    "a = [1,2,3,4,5]\n",
    "a[1] = 8\n",
    "a.reverse()\n",
    "a[0] = 6\n",
    "a"
   ]
  },
  {
   "cell_type": "code",
   "execution_count": 13,
   "id": "b1b83d55",
   "metadata": {},
   "outputs": [
    {
     "data": {
      "text/plain": [
       "['b', 'r', 'a', 'v', 'o']"
      ]
     },
     "execution_count": 13,
     "metadata": {},
     "output_type": "execute_result"
    }
   ],
   "source": [
    "a = [1,2,3,4,5]\n",
    "a[::2] = 'bco'\n",
    "a.reverse()\n",
    "a[1:4] = 'var'\n",
    "a.reverse()\n",
    "a"
   ]
  },
  {
   "cell_type": "code",
   "execution_count": 15,
   "id": "d464e48b",
   "metadata": {},
   "outputs": [
    {
     "data": {
      "text/plain": [
       "[-7, 1, 3, 4, 6, 42]"
      ]
     },
     "execution_count": 15,
     "metadata": {},
     "output_type": "execute_result"
    }
   ],
   "source": [
    "b = [6,1,4,-7,3,42]\n",
    "b.sort()\n",
    "b"
   ]
  },
  {
   "cell_type": "code",
   "execution_count": 16,
   "id": "63627347",
   "metadata": {},
   "outputs": [
    {
     "data": {
      "text/plain": [
       "[-7, 1, 3, 4, 6, 42]"
      ]
     },
     "execution_count": 16,
     "metadata": {},
     "output_type": "execute_result"
    }
   ],
   "source": [
    "b = [6,1,4,-7,3,42]\n",
    "sorted(b)"
   ]
  },
  {
   "cell_type": "markdown",
   "id": "79ebe514",
   "metadata": {},
   "source": [
    "## 4) Browsing a list\n",
    "\n",
    "Just like strings and ranges, lists can be browsed during a `for` loop ! The iterator will take the values of the elements of the list one by one. The syntax is as follows :\n",
    "\n",
    "```python\n",
    "for element in l:\n",
    "    instruction...\n",
    "    ..............\n",
    "    block.........\n",
    "```\n",
    "\n",
    "Most of the algorithms using list are based on `for` loops to browse the list. You will have the occasion to discover various applications of this technique in the practice exercises."
   ]
  },
  {
   "cell_type": "code",
   "execution_count": 3,
   "id": "7d85ffb8",
   "metadata": {},
   "outputs": [
    {
     "name": "stdout",
     "output_type": "stream",
     "text": [
      "1 9 25 49 81 121 169 225 289 361 "
     ]
    }
   ],
   "source": [
    "l = [1, 3, 5, 7, 9, 11, 13, 15, 17, 19]\n",
    "for x in l:\n",
    "    print(x**2, end=' ')"
   ]
  },
  {
   "cell_type": "markdown",
   "id": "439a961d",
   "metadata": {},
   "source": [
    "## 5) List comprehension\n",
    "\n",
    "There is actually another way to define a list than just listing all its elements or appending elements one by one. Instead, we can define a list by describing all of its element using another list that was previously defined : this is called **list comprehension**.<br>\n",
    "<br>\n",
    "The syntax to define a list by comprehension is as follows :\n",
    "\n",
    "```python\n",
    "new_list = [...... for element in sequence]\n",
    "```\n",
    "\n",
    "Eventually, we can add several lists or even conditions as you'll see in the examples below."
   ]
  },
  {
   "cell_type": "markdown",
   "id": "cc984445",
   "metadata": {},
   "source": [
    "### Exercise 8\n",
    "Try to guess the lists generated by the following list comprehensions."
   ]
  },
  {
   "cell_type": "code",
   "execution_count": 14,
   "id": "ffe3b7a6",
   "metadata": {},
   "outputs": [
    {
     "data": {
      "text/plain": [
       "[0, 1, 4, 9, 16, 25, 36, 49, 64, 81]"
      ]
     },
     "execution_count": 14,
     "metadata": {},
     "output_type": "execute_result"
    }
   ],
   "source": [
    "[x**2 for x in range(10)]"
   ]
  },
  {
   "cell_type": "code",
   "execution_count": 15,
   "id": "32df5f7f",
   "metadata": {},
   "outputs": [
    {
     "data": {
      "text/plain": [
       "['delicious apple',\n",
       " 'delicious banana',\n",
       " 'delicious coconut',\n",
       " 'delicious durian',\n",
       " 'delicious lemon',\n",
       " 'delicious orange']"
      ]
     },
     "execution_count": 15,
     "metadata": {},
     "output_type": "execute_result"
    }
   ],
   "source": [
    "fruits = ['apple', 'banana', 'coconut', 'durian', 'lemon', 'orange']\n",
    "['delicious ' + fruit for fruit in fruits]"
   ]
  },
  {
   "cell_type": "code",
   "execution_count": 19,
   "id": "5dffe850",
   "metadata": {},
   "outputs": [
    {
     "data": {
      "text/plain": [
       "[1, 25, 81]"
      ]
     },
     "execution_count": 19,
     "metadata": {},
     "output_type": "execute_result"
    }
   ],
   "source": [
    "[x**2 for x in range(10) if x % 4 == 1]"
   ]
  },
  {
   "cell_type": "code",
   "execution_count": 20,
   "id": "b0e1c66f",
   "metadata": {},
   "outputs": [
    {
     "data": {
      "text/plain": [
       "[2, 4, 6, 6, 12, 18, 10, 20, 30]"
      ]
     },
     "execution_count": 20,
     "metadata": {},
     "output_type": "execute_result"
    }
   ],
   "source": [
    "a, b = [1,3,5], [2,4,6]\n",
    "[x*y for x in a for y in b]"
   ]
  },
  {
   "cell_type": "code",
   "execution_count": 22,
   "id": "dc66b7e7",
   "metadata": {},
   "outputs": [
    {
     "data": {
      "text/plain": [
       "[(3, 4, 5),\n",
       " (5, 12, 13),\n",
       " (6, 8, 10),\n",
       " (7, 24, 25),\n",
       " (8, 15, 17),\n",
       " (9, 12, 15),\n",
       " (9, 40, 41),\n",
       " (10, 24, 26),\n",
       " (12, 16, 20),\n",
       " (12, 35, 37),\n",
       " (15, 20, 25),\n",
       " (15, 36, 39),\n",
       " (16, 30, 34),\n",
       " (18, 24, 30),\n",
       " (20, 21, 29),\n",
       " (21, 28, 35),\n",
       " (24, 32, 40),\n",
       " (27, 36, 45)]"
      ]
     },
     "execution_count": 22,
     "metadata": {},
     "output_type": "execute_result"
    }
   ],
   "source": [
    "[(x,y,z) for x in range(1,50) for y in range(x,50) for z in range(y,50) if x**2 + y**2 == z**2]"
   ]
  }
 ],
 "metadata": {
  "kernelspec": {
   "display_name": "Python 3 (ipykernel)",
   "language": "python",
   "name": "python3"
  },
  "language_info": {
   "codemirror_mode": {
    "name": "ipython",
    "version": 3
   },
   "file_extension": ".py",
   "mimetype": "text/x-python",
   "name": "python",
   "nbconvert_exporter": "python",
   "pygments_lexer": "ipython3",
   "version": "3.9.12"
  }
 },
 "nbformat": 4,
 "nbformat_minor": 5
}
