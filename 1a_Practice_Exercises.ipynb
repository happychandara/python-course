{
 "cells": [
  {
   "cell_type": "markdown",
   "id": "f936df13",
   "metadata": {},
   "source": [
    "# Python Course - Chapter 1 : Introduction to Python\n",
    "\n",
    "## Practice Exercises"
   ]
  },
  {
   "cell_type": "markdown",
   "id": "4ea17c40",
   "metadata": {},
   "source": [
    "### Exercise 1 - Using variables in the print function\n",
    "For each block of code, predict what it will display when executed :<br>\n",
    "<br>\n",
    "**1\\)**\n",
    "```python\n",
    "print(\"1 + 1 =\", 1 + 1)\n",
    "```\n",
    "\n",
    "**2\\)**\n",
    "```python\n",
    "age = 18\n",
    "print('I am', age, 'years old.')\n",
    "```\n",
    "\n",
    "**3\\)**\n",
    "```python\n",
    "n_brothers, n_sisters = 2, 3\n",
    "print('I have', n_sisters, 'sisters and', n_brothers, 'brothers!')\n",
    "```"
   ]
  },
  {
   "cell_type": "code",
   "execution_count": null,
   "id": "a04766a9-33f6-4bb4-b040-80a38f886e5a",
   "metadata": {},
   "outputs": [],
   "source": []
  },
  {
   "cell_type": "markdown",
   "id": "9a6ae8df",
   "metadata": {},
   "source": [
    "### Exercise 2 - Evaluating boolean expression\n",
    "We assign the following values to three variables. For each boolean expression, predict their value.\n",
    "\n",
    "```python\n",
    "a, b, c = 5, 3, 8\n",
    "```\n",
    "\n",
    "**1)** `a < c`<br>\n",
    "**2)** `2 * a**2 + 2 * b**2 <= c**2`<br>\n",
    "**3)** `not a != b or 2*(a + b) == c and 1 != 2`<br>\n",
    "**4)** `not not a != b and c == a + b`<br>\n",
    "**5)** `a == b or c != a + b or 1 == 2 or b**2 - 2 == c`"
   ]
  },
  {
   "cell_type": "code",
   "execution_count": null,
   "id": "419b837b",
   "metadata": {},
   "outputs": [],
   "source": []
  },
  {
   "cell_type": "markdown",
   "id": "1cfdaee7",
   "metadata": {},
   "source": [
    "### Exercise 3 - Testing a function from the numpy module\n",
    "From the `numpy` module, import the function `rint`. Try applying it to various numbers (not only integers !) and guess what it does."
   ]
  },
  {
   "cell_type": "code",
   "execution_count": null,
   "id": "95934d03",
   "metadata": {},
   "outputs": [],
   "source": []
  },
  {
   "cell_type": "markdown",
   "id": "1da4175a",
   "metadata": {},
   "source": [
    "### Lesson - User input\n",
    "In Python, you can request the user to give an **input** using the function `input`. This function takes in argument a `string` type object which is the message displayed to the user when asking for his input.<br>\n",
    "Here is an example :"
   ]
  },
  {
   "cell_type": "code",
   "execution_count": 1,
   "id": "2d5080f4",
   "metadata": {},
   "outputs": [
    {
     "name": "stdin",
     "output_type": "stream",
     "text": [
      "How are you today ?  Fine\n"
     ]
    },
    {
     "name": "stdout",
     "output_type": "stream",
     "text": [
      "Okay !\n"
     ]
    }
   ],
   "source": [
    "input('How are you today ? ')\n",
    "print('Okay !')"
   ]
  },
  {
   "cell_type": "markdown",
   "id": "23e48751",
   "metadata": {},
   "source": [
    "You can store the value of the input in a **variable** to use it in the code later. Just keep in mind that the value the user gives will **ALWAYS** be a **`string`** ! If you want the user to give an `int` or a `float` value, you will have to use **explicit conversion** with the `int` or the `float` functions !"
   ]
  },
  {
   "cell_type": "code",
   "execution_count": 2,
   "id": "14b2760f",
   "metadata": {},
   "outputs": [
    {
     "name": "stdin",
     "output_type": "stream",
     "text": [
      "Give me a number.  54\n"
     ]
    },
    {
     "name": "stdout",
     "output_type": "stream",
     "text": [
      "The double of your number is 5454 !\n"
     ]
    }
   ],
   "source": [
    "n = input('Give me a number. ')\n",
    "print('The double of your number is', 2*n, '!')"
   ]
  },
  {
   "cell_type": "code",
   "execution_count": 3,
   "id": "5e9ee5bf",
   "metadata": {},
   "outputs": [
    {
     "name": "stdin",
     "output_type": "stream",
     "text": [
      "Give me a number.  54\n"
     ]
    },
    {
     "name": "stdout",
     "output_type": "stream",
     "text": [
      "The double of your number is 108 !\n"
     ]
    }
   ],
   "source": [
    "n = int(input('Give me a number. ')) \n",
    "print('The double of your number is', 2*n, '!')"
   ]
  },
  {
   "cell_type": "markdown",
   "id": "2940b2e7",
   "metadata": {},
   "source": [
    "### Exercise 4 - Temperature conversion\n",
    "Write a program that asks the user to give a temperature in Celsius degrees, and then prints the associated temperature in Farenheit degrees.<br>\n",
    "Here is the formula to convert temparature from Celsius degrees to Farenheit degrees :\n",
    "$$T_{\\text{°F}} = \\frac{9}{5} T_{\\text{°C}} + 32.$$"
   ]
  },
  {
   "cell_type": "code",
   "execution_count": null,
   "id": "ca0f7dbb",
   "metadata": {},
   "outputs": [],
   "source": []
  },
  {
   "cell_type": "markdown",
   "id": "0ed0c751-c782-4eca-b304-437a42c90a81",
   "metadata": {},
   "source": [
    "### Exercise 5 - Furniture Salesperson\n",
    "As the manager of a small furnitures sale business, you often need to calculate the price of an order of chairs, tables and lamps for custommers. Here is the table containing the prices of each item :\n",
    "\n",
    "| Chair | Table | Lamp |\n",
    "| :-: | :-: | :-: |\n",
    "| 10\\$ | 30\\$ | 7\\$ |\n",
    "\n",
    "Write a program that asks the user how many chairs, tables and lamps he wants and prints the total price of the order."
   ]
  },
  {
   "cell_type": "code",
   "execution_count": null,
   "id": "bd80c017",
   "metadata": {},
   "outputs": [],
   "source": []
  },
  {
   "cell_type": "markdown",
   "id": "dde18985",
   "metadata": {},
   "source": [
    "### Exercise 6 - A not so magical trick\n",
    "A magician comes to you saying he can guess what number you're thinking of !<br>\n",
    "<br>\n",
    "_\"Think of your age and calculate its double and its triple. You have two numbers now : add 10 to the first one and multiply it by 3, then substract 6 from the second one and multiply it by 2. Now take the difference between the first number and the second number... You're thinking of the number 42, right ?\"_<br>\n",
    "<br>\n",
    "Write a program that asks for an age and then prints the results of the calculation the magician asked you to do. Test it for different values for the age : what do you notice ?<br>\n",
    "Can you prove mathematically why this happens ?"
   ]
  },
  {
   "cell_type": "code",
   "execution_count": null,
   "id": "b1eed43f",
   "metadata": {},
   "outputs": [],
   "source": []
  },
  {
   "cell_type": "markdown",
   "id": "979e4f30",
   "metadata": {},
   "source": [
    "### Exercise 7 - Area of a triangle &#9733;\n",
    "Write a program that asks the user the lengths of the three sides of a triangle and prints its area.<br>\n",
    "To calculate the area of a triangle of sides $a$, $b$, and $c$, we can use Heron's formula :<br>\n",
    "<br>\n",
    "$$ \\mathcal{A} = \\sqrt{s(s-a)(s-b)(s-c)},\\space \\text{where} \\space s = \\tfrac{a+b+c}{2} \\space \\text{is the semi-perimeter of the triangle}.$$\n",
    "<br>\n",
    "*Bonus : Feel free to try to prove this formula !*"
   ]
  },
  {
   "cell_type": "code",
   "execution_count": null,
   "id": "e2be709a",
   "metadata": {},
   "outputs": [],
   "source": []
  },
  {
   "cell_type": "markdown",
   "id": "e9f3e0b8",
   "metadata": {},
   "source": [
    "### Exercise 8 - Interchanging variables without parallel assignment &#9733;\n",
    "Assign the values `0` and `1` to two variables `a` and `b` and exchange the values of `a` and `b` without using parallel assignment."
   ]
  },
  {
   "cell_type": "code",
   "execution_count": null,
   "id": "1b7adc48",
   "metadata": {},
   "outputs": [],
   "source": []
  }
 ],
 "metadata": {
  "kernelspec": {
   "display_name": "Python 3 (ipykernel)",
   "language": "python",
   "name": "python3"
  },
  "language_info": {
   "codemirror_mode": {
    "name": "ipython",
    "version": 3
   },
   "file_extension": ".py",
   "mimetype": "text/x-python",
   "name": "python",
   "nbconvert_exporter": "python",
   "pygments_lexer": "ipython3",
   "version": "3.12.7"
  }
 },
 "nbformat": 4,
 "nbformat_minor": 5
}
