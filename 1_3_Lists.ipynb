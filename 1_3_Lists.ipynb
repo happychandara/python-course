{
 "cells": [
  {
   "cell_type": "markdown",
   "id": "af338973",
   "metadata": {},
   "source": [
    "# Python Course - Chapter 3 : Lists\n",
    "\n",
    "## 1) Focus on string objects\n",
    "\n",
    "In Chapter 1, we introduced the `string` type and in Chapter 2, we discovered some operations that could be performed on `string` objects. In this chapter, we will learn even more operations with these objects.<br>\n",
    "<br>\n",
    "Another way to see `string` objects is to consider that they are a list of individual characters. The length of this list can be accessed throught the function `len`.<br>\n",
    "It is possible to access individual characters of a string `s` at an index `i` using the method `s[i]`. Be careful, the numbering of indexes starts at 0 ! For instance, his means the second character of `s` is the character of index 1, and can be accessed using `s[1]` (and not `s[2]` !)."
   ]
  },
  {
   "cell_type": "markdown",
   "id": "518576ac",
   "metadata": {},
   "source": [
    "### Exercise 1\n",
    "Try to guess the result of each of the following programs."
   ]
  },
  {
   "cell_type": "code",
   "execution_count": 8,
   "id": "af50d2a0",
   "metadata": {},
   "outputs": [
    {
     "data": {
      "text/plain": [
       "'o'"
      ]
     },
     "execution_count": 8,
     "metadata": {},
     "output_type": "execute_result"
    }
   ],
   "source": [
    "s = \"Hello, world!\"\n",
    "s[4]"
   ]
  },
  {
   "cell_type": "code",
   "execution_count": 9,
   "id": "25926f71",
   "metadata": {},
   "outputs": [
    {
     "data": {
      "text/plain": [
       "'@'"
      ]
     },
     "execution_count": 9,
     "metadata": {},
     "output_type": "execute_result"
    }
   ],
   "source": [
    "\"H@ppy Chandar@ School\"[13]"
   ]
  },
  {
   "cell_type": "code",
   "execution_count": 10,
   "id": "983b6a7e",
   "metadata": {},
   "outputs": [
    {
     "data": {
      "text/plain": [
       "'b'"
      ]
     },
     "execution_count": 10,
     "metadata": {},
     "output_type": "execute_result"
    }
   ],
   "source": [
    "s = 'abc' * 1000\n",
    "s[289]"
   ]
  },
  {
   "cell_type": "code",
   "execution_count": 23,
   "id": "6c2f751b",
   "metadata": {},
   "outputs": [
    {
     "data": {
      "text/plain": [
       "'!'"
      ]
     },
     "execution_count": 23,
     "metadata": {},
     "output_type": "execute_result"
    }
   ],
   "source": [
    "s = 'Hello, world!'\n",
    "s[-1]"
   ]
  },
  {
   "cell_type": "code",
   "execution_count": 29,
   "id": "9297067e",
   "metadata": {},
   "outputs": [
    {
     "data": {
      "text/plain": [
       "'HCS'"
      ]
     },
     "execution_count": 29,
     "metadata": {},
     "output_type": "execute_result"
    }
   ],
   "source": [
    "s = 'Happy Chandara School'\n",
    "s[0] + s[6] + s[15]"
   ]
  },
  {
   "cell_type": "markdown",
   "id": "3718494e",
   "metadata": {},
   "source": [
    "More than simply accessing single characters of a string, we can actually access any sub-string of a string using **slicing**. When slicing a string `s`, the syntax is as follows :\n",
    "\n",
    "```python\n",
    "s[start:stop]\n",
    "```\n",
    "\n",
    "You may notice that the syntax is very similar to the syntax for the `range` function, only with colons ':' instead of commas ',' to separate parameters. The role of each parameter is similar : `start` defines the index of the first character to include in the slicing and `stop` defines the index of the first character that is not included in the slicing.<br>\n",
    "Actually, we can add a third optional variable `step` that has the same role as in the `range` function.<br>\n",
    "<br>\n",
    "In fact, we can even skip indicating the `start` or the `stop` variables to start from the beginning or go until the end of the string."
   ]
  },
  {
   "cell_type": "markdown",
   "id": "48165782",
   "metadata": {},
   "source": [
    "### Exercise 2\n",
    "Try to guess the result of each of the following programs."
   ]
  },
  {
   "cell_type": "code",
   "execution_count": 12,
   "id": "f3317473",
   "metadata": {},
   "outputs": [
    {
     "data": {
      "text/plain": [
       "'world'"
      ]
     },
     "execution_count": 12,
     "metadata": {},
     "output_type": "execute_result"
    }
   ],
   "source": [
    "s = 'Hello, world!'\n",
    "s[7:12]"
   ]
  },
  {
   "cell_type": "code",
   "execution_count": 18,
   "id": "3de649f2",
   "metadata": {},
   "outputs": [
    {
     "data": {
      "text/plain": [
       "'pyCad'"
      ]
     },
     "execution_count": 18,
     "metadata": {},
     "output_type": "execute_result"
    }
   ],
   "source": [
    "s = 'Happy Chandara School'\n",
    "s[2:11:2]"
   ]
  },
  {
   "cell_type": "code",
   "execution_count": 21,
   "id": "68298105",
   "metadata": {},
   "outputs": [
    {
     "data": {
      "text/plain": [
       "'School'"
      ]
     },
     "execution_count": 21,
     "metadata": {},
     "output_type": "execute_result"
    }
   ],
   "source": [
    "s = 'Happy Chandara School'\n",
    "s[15:]"
   ]
  },
  {
   "cell_type": "code",
   "execution_count": 15,
   "id": "da980ced",
   "metadata": {},
   "outputs": [
    {
     "data": {
      "text/plain": [
       "'I like cat'"
      ]
     },
     "execution_count": 15,
     "metadata": {},
     "output_type": "execute_result"
    }
   ],
   "source": [
    "s = 'I like caterpillars'\n",
    "s[:10]"
   ]
  },
  {
   "cell_type": "code",
   "execution_count": 89,
   "id": "4e7f7e25",
   "metadata": {},
   "outputs": [
    {
     "data": {
      "text/plain": [
       "'It makes more sense now'"
      ]
     },
     "execution_count": 89,
     "metadata": {},
     "output_type": "execute_result"
    }
   ],
   "source": [
    "s = 'IMt! Am6aXk!eIs6 Pm4oRrYeO !sUe9nTsle! qn!oew!'\n",
    "s[::2]"
   ]
  },
  {
   "cell_type": "code",
   "execution_count": 44,
   "id": "d5b64192",
   "metadata": {},
   "outputs": [
    {
     "data": {
      "text/plain": [
       "'wolf'"
      ]
     },
     "execution_count": 44,
     "metadata": {},
     "output_type": "execute_result"
    }
   ],
   "source": [
    "s = 'flow'\n",
    "s[::-1]"
   ]
  },
  {
   "cell_type": "code",
   "execution_count": 45,
   "id": "bb0ab7ed",
   "metadata": {},
   "outputs": [
    {
     "data": {
      "text/plain": [
       "'amp'"
      ]
     },
     "execution_count": 45,
     "metadata": {},
     "output_type": "execute_result"
    }
   ],
   "source": [
    "s = 'Example'\n",
    "s[2:-2]"
   ]
  },
  {
   "cell_type": "markdown",
   "id": "3b125754",
   "metadata": {},
   "source": [
    "## 2) Creating lists\n",
    "\n",
    "A **list** is a linear data structure : it is a collection of objects that are enclosed by square brackets and separated by commas. For instance,\n",
    "```python\n",
    "l = [1, 'a', True, 75.3, 'bc', -5]\n",
    "```\n",
    "is a list containing 6 elements. As you can see, a list can contain different types of elements. They can even contain other lists (since lists are an object just like any other one !).<br>\n",
    "<br>\n",
    "The same operations that work on `string` objects can be used for list : concatenation of two list via + and replication via \\*.<br>\n",
    "<br>\n",
    "We can access individual elements using the same syntax as for `string` object : `l[i]` corresponds to the element of index `i` in the list `l`.<br>\n",
    "Similarly to the `string` objects, we can know the length of a list using the function `len`.<br>\n",
    "<br>\n",
    "The main advantage of `list` objects compared to `string` objects is that we can modify the value of the elements at each index `i` using the syntax :\n",
    "```python\n",
    "l[i] = new_value\n",
    "```"
   ]
  },
  {
   "cell_type": "markdown",
   "id": "5dd87ee4",
   "metadata": {},
   "source": [
    "### Exercise 3\n",
    "Try to guess the result of each of the following programs."
   ]
  },
  {
   "cell_type": "code",
   "execution_count": 32,
   "id": "4174c5c3",
   "metadata": {},
   "outputs": [
    {
     "data": {
      "text/plain": [
       "3"
      ]
     },
     "execution_count": 32,
     "metadata": {},
     "output_type": "execute_result"
    }
   ],
   "source": [
    "l = [1,2,3,4]\n",
    "l[2]"
   ]
  },
  {
   "cell_type": "code",
   "execution_count": 33,
   "id": "3a2fb2dc",
   "metadata": {},
   "outputs": [
    {
     "ename": "IndexError",
     "evalue": "list index out of range",
     "output_type": "error",
     "traceback": [
      "\u001b[1;31m---------------------------------------------------------------------------\u001b[0m",
      "\u001b[1;31mIndexError\u001b[0m                                Traceback (most recent call last)",
      "Input \u001b[1;32mIn [33]\u001b[0m, in \u001b[0;36m<cell line: 2>\u001b[1;34m()\u001b[0m\n\u001b[0;32m      1\u001b[0m l \u001b[38;5;241m=\u001b[39m [\u001b[38;5;241m1\u001b[39m,\u001b[38;5;241m2\u001b[39m,\u001b[38;5;241m3\u001b[39m,\u001b[38;5;241m4\u001b[39m]\n\u001b[1;32m----> 2\u001b[0m \u001b[43ml\u001b[49m\u001b[43m[\u001b[49m\u001b[38;5;241;43m4\u001b[39;49m\u001b[43m]\u001b[49m\n",
      "\u001b[1;31mIndexError\u001b[0m: list index out of range"
     ]
    }
   ],
   "source": [
    "l = [1,2,3,4]\n",
    "l[4]"
   ]
  },
  {
   "cell_type": "code",
   "execution_count": 34,
   "id": "b2c1365d",
   "metadata": {},
   "outputs": [
    {
     "data": {
      "text/plain": [
       "4"
      ]
     },
     "execution_count": 34,
     "metadata": {},
     "output_type": "execute_result"
    }
   ],
   "source": [
    "a = [[0,1], [2,4], [5,7]]\n",
    "a[1][1]"
   ]
  },
  {
   "cell_type": "code",
   "execution_count": 35,
   "id": "17cf61a5",
   "metadata": {},
   "outputs": [
    {
     "data": {
      "text/plain": [
       "3"
      ]
     },
     "execution_count": 35,
     "metadata": {},
     "output_type": "execute_result"
    }
   ],
   "source": [
    "a = [[0,1], [2,4], [5,7]]\n",
    "len(a)"
   ]
  },
  {
   "cell_type": "code",
   "execution_count": 36,
   "id": "ba90b71f",
   "metadata": {},
   "outputs": [
    {
     "data": {
      "text/plain": [
       "[2, 1]"
      ]
     },
     "execution_count": 36,
     "metadata": {},
     "output_type": "execute_result"
    }
   ],
   "source": [
    "b = [0,1]\n",
    "b[0] = 2\n",
    "b"
   ]
  },
  {
   "cell_type": "code",
   "execution_count": 37,
   "id": "f912b886",
   "metadata": {},
   "outputs": [
    {
     "data": {
      "text/plain": [
       "[0, 0, 2, 2, 4, 4, 6, 6, 8, 8]"
      ]
     },
     "execution_count": 37,
     "metadata": {},
     "output_type": "execute_result"
    }
   ],
   "source": [
    "c = [0,1,2,3,4,5,6,7,8,9]\n",
    "for k in range(1,10,2):\n",
    "    c[k] = c[k-1]\n",
    "c"
   ]
  },
  {
   "cell_type": "markdown",
   "id": "f92aab91",
   "metadata": {},
   "source": [
    "Just like for `string` objects, we can use **slicing** with lists to create sub-lists. The syntax to slice a list `l` is exactely the same :\n",
    "```python\n",
    "l[start:stop:step=1]\n",
    "```\n",
    "We can skip parameters as for `string` slicing if needed.<br>\n",
    "<br>\n",
    "One notable thing from list slicing is that it creates a completely new list, and not a pointer that refers to the same object in memory. Let's use the next exercise to explain what this means."
   ]
  },
  {
   "cell_type": "markdown",
   "id": "9580fdbd",
   "metadata": {},
   "source": [
    "### Exercise 4\n",
    "Try to understand what happens in the following examples."
   ]
  },
  {
   "cell_type": "code",
   "execution_count": 46,
   "id": "47bf0ada",
   "metadata": {},
   "outputs": [
    {
     "data": {
      "text/plain": [
       "2"
      ]
     },
     "execution_count": 46,
     "metadata": {},
     "output_type": "execute_result"
    }
   ],
   "source": [
    "a = [0,1]\n",
    "b = a\n",
    "a[0] = 2\n",
    "b[0]"
   ]
  },
  {
   "cell_type": "code",
   "execution_count": 47,
   "id": "eaaab998",
   "metadata": {},
   "outputs": [
    {
     "data": {
      "text/plain": [
       "0"
      ]
     },
     "execution_count": 47,
     "metadata": {},
     "output_type": "execute_result"
    }
   ],
   "source": [
    "a = [0,1]\n",
    "b = a[::]\n",
    "a[0] = 2\n",
    "b[0]"
   ]
  },
  {
   "cell_type": "code",
   "execution_count": 48,
   "id": "4823d66a",
   "metadata": {},
   "outputs": [
    {
     "data": {
      "text/plain": [
       "0"
      ]
     },
     "execution_count": 48,
     "metadata": {},
     "output_type": "execute_result"
    }
   ],
   "source": [
    "a = [0,1]\n",
    "b = a.copy()\n",
    "a[0] = 2\n",
    "b[0]"
   ]
  },
  {
   "cell_type": "markdown",
   "id": "0b1f51fc",
   "metadata": {},
   "source": [
    "Slicing can even be used to modify multiple elements at a time, using the syntax \n",
    "```python\n",
    "l[i:j] = t\n",
    "```\n",
    "replaces all elements of indexes `i` to `j-1` with the elements of the sequence `t` (which can be another list, a tuple, a range, a string, ...).<br>\n",
    "Note that these sequences (tuple, range, string) can be converted to a list by using the function `list`.<br>\n",
    "<br>\n",
    "Here are some examples :"
   ]
  },
  {
   "cell_type": "code",
   "execution_count": 81,
   "id": "d8cfa673",
   "metadata": {},
   "outputs": [
    {
     "data": {
      "text/plain": [
       "[0, 1, 7, 8, 9, 5, 6, 7, 8, 9]"
      ]
     },
     "execution_count": 81,
     "metadata": {},
     "output_type": "execute_result"
    }
   ],
   "source": [
    "l = list(range(10))\n",
    "l[2:5] = l[7:10] # with a list\n",
    "l"
   ]
  },
  {
   "cell_type": "code",
   "execution_count": 82,
   "id": "89c7283d",
   "metadata": {},
   "outputs": [
    {
     "data": {
      "text/plain": [
       "[0, 1, True, False, True, 5, 6, 7, 8, 9]"
      ]
     },
     "execution_count": 82,
     "metadata": {},
     "output_type": "execute_result"
    }
   ],
   "source": [
    "l = list(range(10))\n",
    "l[2:5] = (True, False, True) # with a tuple\n",
    "l"
   ]
  },
  {
   "cell_type": "code",
   "execution_count": 83,
   "id": "28a92b14",
   "metadata": {},
   "outputs": [
    {
     "data": {
      "text/plain": [
       "[0, 1, 0, 1, 2, 5, 6, 7, 8, 9]"
      ]
     },
     "execution_count": 83,
     "metadata": {},
     "output_type": "execute_result"
    }
   ],
   "source": [
    "l = list(range(10))\n",
    "l[2:5] = range(3) # with a range\n",
    "l"
   ]
  },
  {
   "cell_type": "code",
   "execution_count": 84,
   "id": "d3ee53bc",
   "metadata": {},
   "outputs": [
    {
     "data": {
      "text/plain": [
       "[0, 1, 'a', 'b', 'c', 5, 6, 7, 8, 9]"
      ]
     },
     "execution_count": 84,
     "metadata": {},
     "output_type": "execute_result"
    }
   ],
   "source": [
    "l = list(range(10))\n",
    "l[2:5] = 'abc' # with a string\n",
    "l"
   ]
  },
  {
   "cell_type": "markdown",
   "id": "8383c7e7",
   "metadata": {},
   "source": [
    "## 3) Methods with lists\n",
    "\n",
    "Some function have to be placed at the end of the name of the variable and modify the value of the variable without creating a new one : such functions are called **methods**. We'll see some of them that can be applied to lists.<br>\n",
    "<br>\n",
    "One of the most used methods with lists is the `append` method : it adds an element at the end of a list using the syntax :\n",
    "```python\n",
    "l.append(element)\n",
    "```\n",
    "If we want to add an element somewhere else than at the very end of a list, we can instead use the method `insert` to add an element at a specific index in a list :\n",
    "```python\n",
    "l.insert(index, element)\n",
    "```"
   ]
  },
  {
   "cell_type": "markdown",
   "id": "de55e5bd",
   "metadata": {},
   "source": [
    "### Exercise 5\n",
    "Try to guess the result of each of the following programs."
   ]
  },
  {
   "cell_type": "code",
   "execution_count": 49,
   "id": "281bfa4a",
   "metadata": {},
   "outputs": [],
   "source": [
    "a = ['a', 'b', 'c', 'd']\n",
    "a.append('x')"
   ]
  },
  {
   "cell_type": "code",
   "execution_count": 50,
   "id": "a712d30b",
   "metadata": {},
   "outputs": [
    {
     "data": {
      "text/plain": [
       "['a', 'b', 'c', 'd', 'x']"
      ]
     },
     "execution_count": 50,
     "metadata": {},
     "output_type": "execute_result"
    }
   ],
   "source": [
    "a = ['a', 'b', 'c', 'd']\n",
    "a.append('x')\n",
    "a"
   ]
  },
  {
   "cell_type": "code",
   "execution_count": 51,
   "id": "69fd7c83",
   "metadata": {},
   "outputs": [
    {
     "ename": "TypeError",
     "evalue": "insert expected 2 arguments, got 1",
     "output_type": "error",
     "traceback": [
      "\u001b[1;31m---------------------------------------------------------------------------\u001b[0m",
      "\u001b[1;31mTypeError\u001b[0m                                 Traceback (most recent call last)",
      "Input \u001b[1;32mIn [51]\u001b[0m, in \u001b[0;36m<cell line: 2>\u001b[1;34m()\u001b[0m\n\u001b[0;32m      1\u001b[0m a \u001b[38;5;241m=\u001b[39m [\u001b[38;5;124m'\u001b[39m\u001b[38;5;124ma\u001b[39m\u001b[38;5;124m'\u001b[39m, \u001b[38;5;124m'\u001b[39m\u001b[38;5;124mb\u001b[39m\u001b[38;5;124m'\u001b[39m, \u001b[38;5;124m'\u001b[39m\u001b[38;5;124mc\u001b[39m\u001b[38;5;124m'\u001b[39m, \u001b[38;5;124m'\u001b[39m\u001b[38;5;124md\u001b[39m\u001b[38;5;124m'\u001b[39m]\n\u001b[1;32m----> 2\u001b[0m \u001b[43ma\u001b[49m\u001b[38;5;241;43m.\u001b[39;49m\u001b[43minsert\u001b[49m\u001b[43m(\u001b[49m\u001b[38;5;124;43m'\u001b[39;49m\u001b[38;5;124;43mx\u001b[39;49m\u001b[38;5;124;43m'\u001b[39;49m\u001b[43m)\u001b[49m\n\u001b[0;32m      3\u001b[0m a\n",
      "\u001b[1;31mTypeError\u001b[0m: insert expected 2 arguments, got 1"
     ]
    }
   ],
   "source": [
    "a = ['a', 'b', 'c', 'd']\n",
    "a.insert('x')\n",
    "a"
   ]
  },
  {
   "cell_type": "code",
   "execution_count": 61,
   "id": "2ac7d246",
   "metadata": {},
   "outputs": [
    {
     "data": {
      "text/plain": [
       "['a', 'b', 'x', 'c', 'd']"
      ]
     },
     "execution_count": 61,
     "metadata": {},
     "output_type": "execute_result"
    }
   ],
   "source": [
    "a = ['a', 'b', 'c', 'd']\n",
    "a.insert(2,'x')\n",
    "a"
   ]
  },
  {
   "cell_type": "code",
   "execution_count": 67,
   "id": "98cce4e5",
   "metadata": {},
   "outputs": [
    {
     "data": {
      "text/plain": [
       "['a', 'x', 'b', 'x', 'c', 'd']"
      ]
     },
     "execution_count": 67,
     "metadata": {},
     "output_type": "execute_result"
    }
   ],
   "source": [
    "a = ['a', 'b', 'c', 'd']\n",
    "a.insert(1,'x')\n",
    "a.insert(3,'x')\n",
    "a"
   ]
  },
  {
   "cell_type": "code",
   "execution_count": 69,
   "id": "53206cce",
   "metadata": {},
   "outputs": [
    {
     "data": {
      "text/plain": [
       "[0, 1, 2, 3, 4, 5, 'test']"
      ]
     },
     "execution_count": 69,
     "metadata": {},
     "output_type": "execute_result"
    }
   ],
   "source": [
    "b = [0, 1, 2, 3, 4, 5]\n",
    "b.insert(727, 'test')\n",
    "b"
   ]
  },
  {
   "cell_type": "markdown",
   "id": "b1e57c8e",
   "metadata": {},
   "source": [
    "On top of adding elements to a list, we can also delete some elements from one.<br>\n",
    "To delete the element of index `i` in a list, we can use the `pop` method : `l.pop(i)`. Note that this method actually returns the element that was deleted as a result, meaning it is possible to store it in a variable if needed !<br>\n",
    "<br>\n",
    "To delete the first apparition of the value `x` in a list, we can instead use the `remove` method : `l.remove(x)`. This method however just has an effect and doesn't return any value. If the value `x` isn't found in the list, this method simply does nothing."
   ]
  },
  {
   "cell_type": "code",
   "execution_count": null,
   "id": "b3e3bd1e",
   "metadata": {},
   "outputs": [],
   "source": []
  }
 ],
 "metadata": {
  "kernelspec": {
   "display_name": "Python 3 (ipykernel)",
   "language": "python",
   "name": "python3"
  },
  "language_info": {
   "codemirror_mode": {
    "name": "ipython",
    "version": 3
   },
   "file_extension": ".py",
   "mimetype": "text/x-python",
   "name": "python",
   "nbconvert_exporter": "python",
   "pygments_lexer": "ipython3",
   "version": "3.9.12"
  }
 },
 "nbformat": 4,
 "nbformat_minor": 5
}
