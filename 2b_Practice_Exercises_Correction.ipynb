{
 "cells": [
  {
   "cell_type": "markdown",
   "id": "81f6f142",
   "metadata": {},
   "source": [
    "# Python Course - Chapter 2 : Functions and Iteration\n",
    "\n",
    "## Practice Exercises - Correction"
   ]
  },
  {
   "cell_type": "markdown",
   "id": "d5482049",
   "metadata": {},
   "source": [
    "### Exercise 1 - Optional parameters\n",
    "In geometry, we can calculate the euclidian norm of a vector $\\vec{v}$ of coordinates\n",
    "$\\begin{bmatrix}\n",
    "    x \\\\\n",
    "    y\n",
    "\\end{bmatrix}$ using the formula : $||\\vec{v}|| = (x^2 + y^2)^{1/2}$.\n",
    "\n",
    "**1)** Write a function `norm(x, y)`that takes in parameters two coordinates `x` and `y` and returns the euclidian norm of the associated vector.<br>\n",
    "<br>\n",
    "In fact, there are other ways to define a norm. For any integer $k \\geq 1$, we can define the k-norm by :\n",
    "$$||\\vec{v}||_k = (x^k + y^k)^{1/k}.$$\n",
    "\n",
    "**2)** Adapt the function from the previous question to define a function `norm(x, y, k)` that returns the k-norm of the vector of coordinates `x` and `y`.<br>\n",
    "<br>\n",
    "The issue with this new function is that we usually don't bother indicating the parameter `k` and simply write `norm(x, y)` when asking for the euclidian norm.<br>\n",
    "<br>\n",
    "**3)** Try replacing `norm(x, y, k)` by `norm(x, y, k = 2)` in the definition of the function. What happens now when calculating `norm(x,y)` without precising the value of `k` ?"
   ]
  },
  {
   "cell_type": "code",
   "execution_count": null,
   "id": "9057dcd8",
   "metadata": {},
   "outputs": [],
   "source": [
    "# Solution\n",
    "\n",
    "# 1)\n",
    "def norm1(x, y):\n",
    "    '''\n",
    "    Parameters : floats x, y\n",
    "    Result : euclidian norm of the vector of coordinates (x, y)\n",
    "    '''\n",
    "    return (x**2 + y**2)**(1/2)\n",
    "\n",
    "# 2)\n",
    "def norm2(x, y, k):\n",
    "    '''\n",
    "    Parameters : floats x, y ; int k > 0\n",
    "    Result : k-norm of the vector of coordinates (x, y)\n",
    "    '''\n",
    "    return (x**k + y**k)**(1/k)\n",
    "\n",
    "# 3)\n",
    "def norm3(x, y, k=2):\n",
    "    '''\n",
    "    Parameters : floats x, y ; int k > 0 (default k=2)\n",
    "    Result : k-norm of the vector of coordinates (x, y) (default euclidian norm)\n",
    "    '''\n",
    "    return (x**k + y**k)**(1/k)\n",
    "\n",
    "# Test\n",
    "\n",
    "print(norm3(2, 2, 3))\n",
    "print(norm3(2, 2))"
   ]
  },
  {
   "cell_type": "markdown",
   "id": "be31b651",
   "metadata": {},
   "source": [
    "### Exercise 2 - Leap years\n",
    "A leap year is a year that is a multiple of 4, except for years dividible by 100 but not by 400.<br>\n",
    "Write a program that asks the user to enter a year number then prints \"{year} is a leap year !\" if the year entered is a leap year or prints \"{year} is not a leap year...\" if the year enterd is not one."
   ]
  },
  {
   "cell_type": "code",
   "execution_count": null,
   "id": "4797222c",
   "metadata": {},
   "outputs": [],
   "source": [
    "# Solution\n",
    "\n",
    "year = int(input(\"Choose a year : \"))\n",
    "if year % 4 == 0 and (year % 100 != 0 or year % 400 == 0):\n",
    "    print(year, \"is a leap year !\")\n",
    "else:\n",
    "    print(year, \"is not a leap year...\")"
   ]
  },
  {
   "cell_type": "markdown",
   "id": "5381ecd7",
   "metadata": {},
   "source": [
    "### Exercise 3 - Rectangle triangles\n",
    "Write a function that takes in parameter three integers `a`, `b` and `c` and returns True if the triangle of sides a, b and c is rectangle, and False otherwise."
   ]
  },
  {
   "cell_type": "code",
   "execution_count": null,
   "id": "a931d381",
   "metadata": {},
   "outputs": [],
   "source": [
    "# Solution\n",
    "\n",
    "def is_rectangle(a, b, c):\n",
    "    '''\n",
    "    Parameters : ints a, b, c\n",
    "    Result : True if the triangle of lengths a,b,c is rectangle, False otherwise\n",
    "    '''\n",
    "    return a**2 + b**2 == c**2 or a**2 + c**2 == b**2 or b**2 + c**2 == a**2\n",
    "\n",
    "# Test\n",
    "\n",
    "print(is_rectangle(3,6,7))\n",
    "print(is_rectangle(3,4,5))"
   ]
  },
  {
   "cell_type": "markdown",
   "id": "55049116",
   "metadata": {},
   "source": [
    "### Exercise 4 - Solutions of a quadratic equation\n",
    "Write a function that takes in parameter three floats `a`, `b` and `c` and returns the amount of real solutions to the quadratic equation $ax^2 + bx + c = 0$."
   ]
  },
  {
   "cell_type": "code",
   "execution_count": null,
   "id": "82221e0a",
   "metadata": {},
   "outputs": [],
   "source": [
    "# Solution\n",
    "\n",
    "def nb_solutions(a,b,c):\n",
    "    '''\n",
    "    Parameters : floats a, b, c\n",
    "    Result : amount of real solutions to the quadratic equation ax^2 + bx + c = 0\n",
    "    '''\n",
    "    delta = b**2 - 4*a*c\n",
    "    if delta > 0:\n",
    "        return 2\n",
    "    elif delta == 0:\n",
    "        return 1\n",
    "    else:\n",
    "        return 0\n",
    "\n",
    "# Test\n",
    "\n",
    "print(nb_solutions(1.,0.,1.)) # x^2 + 1 = 0 --> 0 real solutions\n",
    "print(nb_solutions(1.,-2.,1.)) # x^2 - 2x + 1 = 0 --> 1 real solution (1)\n",
    "print(nb_solutions(1.,0.,-4.)) # x^2 - 4 = 0 --> 2 real solutions (-2 and 2)"
   ]
  },
  {
   "cell_type": "markdown",
   "id": "8540dcce",
   "metadata": {},
   "source": [
    "### Exercise 5 - Factorial function\n",
    "The factorial of a natural number $n$, written $n!$, is defined by $0! = 1$ and $n! = 1 \\times 2 \\times \\dots \\times n$ for every natural number $n \\geq 1$.\n",
    "Write a function `factorial(n)` that takes a naturel number `n` as parameter and returns the factorial of n."
   ]
  },
  {
   "cell_type": "code",
   "execution_count": null,
   "id": "26c39bb4",
   "metadata": {},
   "outputs": [],
   "source": [
    "# Solution\n",
    "\n",
    "def factorial(n):\n",
    "    '''\n",
    "    Parameter : int n\n",
    "    Result : factorial of n\n",
    "    '''\n",
    "    res = 1\n",
    "    for k in range(2, n+1):\n",
    "        res = res * k\n",
    "    return res\n",
    "\n",
    "# Test\n",
    "\n",
    "for n in range(10):\n",
    "    print(n,'! = ',factorial(n), sep='')"
   ]
  },
  {
   "cell_type": "markdown",
   "id": "d3b91899",
   "metadata": {},
   "source": [
    "### Lesson - Operations with string objects\n",
    "\n",
    "Just like with integer, we can use operations with `string` objects. However, there are only two operations available with string objects : **concatenation** (with the symbol **+**) and **replication** (with the symbol **\\***).<br>\n",
    "Here are a few examples to understand how these operations work :"
   ]
  },
  {
   "cell_type": "code",
   "execution_count": null,
   "id": "25ea07f2",
   "metadata": {},
   "outputs": [],
   "source": [
    "'a' + 'b'"
   ]
  },
  {
   "cell_type": "code",
   "execution_count": null,
   "id": "6d783d05",
   "metadata": {},
   "outputs": [],
   "source": [
    "'Happy ' + 'Chandara ' + 'School'"
   ]
  },
  {
   "cell_type": "code",
   "execution_count": null,
   "id": "7bef2405",
   "metadata": {
    "scrolled": true
   },
   "outputs": [],
   "source": [
    "'a' * 6"
   ]
  },
  {
   "cell_type": "code",
   "execution_count": null,
   "id": "241d99d8",
   "metadata": {},
   "outputs": [],
   "source": [
    "'a' + 'b' * 3"
   ]
  },
  {
   "cell_type": "code",
   "execution_count": null,
   "id": "cd1730dd",
   "metadata": {},
   "outputs": [],
   "source": [
    "('a' + 'b') * 3"
   ]
  },
  {
   "cell_type": "code",
   "execution_count": null,
   "id": "258519ab",
   "metadata": {},
   "outputs": [],
   "source": [
    "'happy ' * 3 + '!'"
   ]
  },
  {
   "cell_type": "markdown",
   "id": "c9fe5979",
   "metadata": {},
   "source": [
    "`string` objects can also be used to define a for loop. Instead of browsing a range of number with `range(x,y)`, we can browse a `string` object : the iterator will then take the value of every character in the string one by one.<br>\n",
    "Here are two examples :"
   ]
  },
  {
   "cell_type": "code",
   "execution_count": null,
   "id": "728a37c7",
   "metadata": {},
   "outputs": [],
   "source": [
    "for c in 'Hello, World!':\n",
    "    print(c)"
   ]
  },
  {
   "cell_type": "code",
   "execution_count": null,
   "id": "e8f25937",
   "metadata": {},
   "outputs": [],
   "source": [
    "for c in 'Hello, World!':\n",
    "    print(c, '*', sep='', end='')"
   ]
  },
  {
   "cell_type": "markdown",
   "id": "90bc1f08",
   "metadata": {},
   "source": [
    "In this last example, we used the optional parameters `sep` and `end` from the function `print()`. Try to guess what they are used for and experiment by changing their values !<br>\n",
    "<br>\n",
    "Finally, the length of a `string` object can be obtained using the function `len` :"
   ]
  },
  {
   "cell_type": "code",
   "execution_count": 10,
   "id": "89c11889",
   "metadata": {},
   "outputs": [
    {
     "data": {
      "text/plain": [
       "5"
      ]
     },
     "execution_count": 10,
     "metadata": {},
     "output_type": "execute_result"
    }
   ],
   "source": [
    "len('hello')"
   ]
  },
  {
   "cell_type": "code",
   "execution_count": 11,
   "id": "87d5edc8",
   "metadata": {},
   "outputs": [
    {
     "data": {
      "text/plain": [
       "0"
      ]
     },
     "execution_count": 11,
     "metadata": {},
     "output_type": "execute_result"
    }
   ],
   "source": [
    "len('')"
   ]
  },
  {
   "cell_type": "code",
   "execution_count": 12,
   "id": "a60ff7f3",
   "metadata": {},
   "outputs": [
    {
     "data": {
      "text/plain": [
       "21"
      ]
     },
     "execution_count": 12,
     "metadata": {},
     "output_type": "execute_result"
    }
   ],
   "source": [
    "len('Happy Chandara School')"
   ]
  },
  {
   "cell_type": "markdown",
   "id": "1c72c8fd",
   "metadata": {},
   "source": [
    "### Exercise 6 - Finding a character in a string\n",
    "Write a function `seek(c,s)` that takes in parameter a string `c` of length 1 (a character) and another string `s` then returns True if the character\n",
    "c is present in the string s, and False otherwise."
   ]
  },
  {
   "cell_type": "code",
   "execution_count": null,
   "id": "6a603b4d",
   "metadata": {},
   "outputs": [],
   "source": [
    "# Solution\n",
    "\n",
    "def seek(c,s):\n",
    "    for x in s:\n",
    "        if x == c:\n",
    "            return True\n",
    "    return False\n",
    "\n",
    "# Test\n",
    "\n",
    "print(seek('a', 'Happy Chandara School'))\n",
    "print(seek('z', 'Happy Chandara School'))"
   ]
  },
  {
   "cell_type": "markdown",
   "id": "21b8f1de",
   "metadata": {},
   "source": [
    "### Exercise 7 - Drawing with Python\n",
    "\n",
    "**1)** Write a function `triangle1(n)` that prints a rectangle triangle over n lines in the shell wwith stars and spaces in between two stars.<br>\n",
    "For instance, `triangle1(5)` should print the following figure :\n",
    "\n",
    "```\n",
    "*\n",
    "* *\n",
    "* * *\n",
    "* * * *\n",
    "* * * * *\n",
    "```\n",
    "\n",
    "**2)** Write a function `triangle2(n)` that prints the same triangle upside down.<br>\n",
    "<br>\n",
    "**3)** Write a function `pyramid(n)` that prints a pyramid over n lines in the shell.<br>\n",
    "For instance, `pyramid(5)` should print the following figure :\n",
    "\n",
    "```\n",
    "    *\n",
    "   * *\n",
    "  * * *\n",
    " * * * *\n",
    "* * * * *\n",
    "```"
   ]
  },
  {
   "cell_type": "code",
   "execution_count": null,
   "id": "9cf1aec8",
   "metadata": {},
   "outputs": [],
   "source": [
    "# Solution\n",
    "\n",
    "# 1)\n",
    "def triangle1(n):\n",
    "    '''\n",
    "    Prints a triangle on n lines with * characters\n",
    "    '''\n",
    "    for k in range(1, n+1):\n",
    "        print('* ' * k)\n",
    "\n",
    "# 2)\n",
    "def triangle2(n):\n",
    "    '''\n",
    "    Prints an upside-down triangle on n lines with * characters\n",
    "    '''\n",
    "    for k in range(1, n+1):\n",
    "        print('* ' * (n-k+1))\n",
    "\n",
    "# 3)\n",
    "def pyramid(n):\n",
    "    '''\n",
    "    Prints a pyramid on n lines with * characters\n",
    "    '''\n",
    "    for k in range(1, n+1):\n",
    "        print(' ' * (n-k) + '* ' * k)\n",
    "\n",
    "# Test\n",
    "\n",
    "print(\"Question 1 :\\n\")\n",
    "triangle1(5)\n",
    "\n",
    "print(\"\\n\\nQuestion 2 :\\n\")\n",
    "triangle2(5)\n",
    "\n",
    "print(\"\\n\\nQuestion 3 :\\n\")\n",
    "pyramid(5)"
   ]
  },
  {
   "cell_type": "markdown",
   "id": "6dffae0d",
   "metadata": {},
   "source": [
    "### Exercise 8 - Fibonacci sequence\n",
    "The Fibonacci sequence is a sequence of integers defined by\n",
    "$$F_0 = 0, \\space \\space \\space  F_1 = 1 \\space \\space \\space \\text{and} \\space \\space \\space \\forall n \\in \\mathbb{N}, F_{n+2} = F_{n+1} + F_n.$$\n",
    "\n",
    "**1)** Write a function `fibo(n)` that takes in parameter a natural number `n` and returns the value of $F_n$.<br>\n",
    "<br>\n",
    "**2)** Determiner the index of the first number in the Fibonacci sequence that has 4 242 digits or more."
   ]
  },
  {
   "cell_type": "code",
   "execution_count": 7,
   "id": "f0449253",
   "metadata": {},
   "outputs": [
    {
     "name": "stdout",
     "output_type": "stream",
     "text": [
      "20300\n"
     ]
    }
   ],
   "source": [
    "# Solution\n",
    "\n",
    "# 1)\n",
    "def fibo(n):\n",
    "    '''\n",
    "    Parameter : int n\n",
    "    Result : value of the n-th number of the Fibonacci sequence\n",
    "    '''\n",
    "    if n == 0:\n",
    "        return 0\n",
    "    if n == 1:\n",
    "        return 1\n",
    "    a, b = 0, 1\n",
    "    for k in range(2, n+1):\n",
    "        a, b = b, a+b\n",
    "    return b\n",
    "\n",
    "# 2)\n",
    "n = 1\n",
    "a, b = 0, 1\n",
    "while b < 10**4242:\n",
    "    n += 1\n",
    "    a, b = b, a+b\n",
    "print(n)"
   ]
  },
  {
   "cell_type": "markdown",
   "id": "33c083c2",
   "metadata": {},
   "source": [
    "### Exercise 9 - Prime numbers\n",
    "A prime number is a natural number that has exactly two positive divisors : 1 and itself. For instance, 2, 5, 17 and 241 are prime numbers.<br>\n",
    "To determine if a number is a prime number or not, we can use the following criteria :<br>\n",
    "$p$ is prime if and only if $p \\geq 2$ and $p$ is not dividible by any integer $k \\geq 2$ such that $k^2 \\leq p$.<br>\n",
    "<br>\n",
    "**1)** Write a function `is_prime(p)` that takes a natural number `p` as parameter and returns `True` if p is prime and `False` if not.<br>\n",
    "<br>\n",
    "**2)** Using this function, write a program that prints the 1 000 first prime numbers.<br>\n",
    "<br>\n",
    "**3)** The mathematician Golbach conjectured that any even integer greater than 3 can be written as the sum of two prime numbers. Verify that this conjecture is true for all even integers inferior to 1 000."
   ]
  },
  {
   "cell_type": "code",
   "execution_count": null,
   "id": "227db62f",
   "metadata": {},
   "outputs": [],
   "source": [
    "# Solution\n",
    "\n",
    "# 1)\n",
    "def is_prime(p):\n",
    "    '''\n",
    "    Parameter : int p\n",
    "    Result : True if p is prime, False otherwise\n",
    "    '''\n",
    "    if p < 2:\n",
    "        return False\n",
    "    k = 2\n",
    "    while k**2 <= p:\n",
    "        if p % k == 0:\n",
    "            return False\n",
    "        k += 1\n",
    "    return True\n",
    "\n",
    "# 2)\n",
    "print(\"Question 2 :\\n\")\n",
    "\n",
    "prime_count = 0\n",
    "p = 2\n",
    "while prime_count < 1000:\n",
    "    if is_prime(p):\n",
    "        print(p, end='; ')\n",
    "        prime_count += 1\n",
    "    p += 1\n",
    "\n",
    "# 3)\n",
    "print(\"\\n\\n\\nQuestion 3 :\\n\")\n",
    "\n",
    "for N in range(2,1001,2):\n",
    "    for p in range(2, N-1):\n",
    "        if is_prime(p) and is_prime(N-p):\n",
    "            print(N, '=', p, '+', N-p)\n",
    "            break # If we know there is one way to write N as two primes, we don't seek for other ways to write the sum"
   ]
  },
  {
   "cell_type": "markdown",
   "id": "f39c26cc",
   "metadata": {},
   "source": [
    "### Exercise 10 - Amicable numbers (Project Euler #21)\n",
    "\n",
    "**1)** Write a function `divsum(n)` that takes in parameter a natural number `n` and returns the sum of all the divisors of n (except n itself).<br>\n",
    "<br>\n",
    "For a natural number $n$, we will note $\\sigma(n)$ the sum of the divisors of $n$ (expect itself). We say that two natural numbers $a \\neq b$ are **amicable** if and only if $\\sigma(a) = b$ and $\\sigma(b) = a$.<br>\n",
    "For instance, 220 and 284 are amicable numbers (verify this using your `divsum` function).<br>\n",
    "<br>\n",
    "**2)** Write a function `amicable(n)` that takes in parameter a naturel number `n` and returns True if the number n is amicable or False otherwise.<br>\n",
    "<br>\n",
    "**3)** Evaluate the sum of all amicable numbers that are inferior or equal to 10 000."
   ]
  },
  {
   "cell_type": "code",
   "execution_count": null,
   "id": "a175a275",
   "metadata": {},
   "outputs": [],
   "source": [
    "# Solution\n",
    "\n",
    "# 1)\n",
    "def divsum(n):\n",
    "    '''\n",
    "    Parameter : int n\n",
    "    Result : sum of the proper divisors of n\n",
    "    '''\n",
    "    res = 0\n",
    "    for d in range(1,n):\n",
    "        if n % d == 0:\n",
    "            res += d\n",
    "    return res\n",
    "\n",
    "# 2)\n",
    "print(\"Question 2 :\\n\")\n",
    "\n",
    "def amicable(n):\n",
    "    '''\n",
    "    Parameter : int n\n",
    "    Result : True if n is amicable, False otherwise\n",
    "    '''\n",
    "    sigma = divsum(n)\n",
    "    if sigma == n:\n",
    "        return False\n",
    "    return divsum(sigma) == n\n",
    "\n",
    "print(amicable(220))\n",
    "\n",
    "# 3)\n",
    "print(\"\\n\\nQuestion 3 :\\n\")\n",
    "\n",
    "res = 0\n",
    "for n in range(1, 10001):\n",
    "    if amicable(n):\n",
    "        res += n\n",
    "print(res)"
   ]
  },
  {
   "cell_type": "markdown",
   "id": "ec146c5b",
   "metadata": {},
   "source": [
    "### Exercise 11 - Collatz's sequence &#9733;\n",
    "A Collatz's sequence is defined as follows :\n",
    "\n",
    "$$u_0 = N \\in \\mathbb{N}^* \\space \\space \\text{ and } \\space \\space \\forall n \\in \\mathbb{N}, u_{n+1} = \n",
    "    \\begin{cases} \n",
    "      3u_n + 1 & \\text{if } u_n \\text{ is odd}\\\\\n",
    "      u_n^{} \\space / \\space 2^{} & \\text{if } u_n \\text{ is even}\n",
    "   \\end{cases}.$$\n",
    "\n",
    "**1)** Write a function that takes an integer as parameter and returns the next term in the Collatz's sequence.<br>\n",
    "<br>\n",
    "Notice that when a sequence reaches 1, it loops endlessly : 1 &#8594; 4 &#8594; 2 &#8594; 1 &#8594; 4 &#8594; 2 &#8594; 1 &#8594; ...<br>\n",
    "It is conjectured by Collatz that no matter the starting point, the sequence will always reach 1. He defined the length of the Collatz's sequence of a starting number as the amount of iteration needed to reach 1.<br>\n",
    "<br>\n",
    "For instance, the sequence of starting point 13 is of length 9 since there is 9 steps before reaching 1 :<br>\n",
    "13 &#8594; 40 &#8594; 20 &#8594; 10 &#8594; 5 &#8594; 16 &#8594; 8 &#8594; 4 &#8594; 2 &#8594; 1.<br>\n",
    "<br>\n",
    "**2)** Write a function that takes an integer as parameter and returns the length of the Collatz's sequence starting from this integer.<br>\n",
    "<br>\n",
    "**3)** Determine the longest Collatz's sequence starting with an integer inferior or equal to 1 000 000.<br>\n",
    "<br>"
   ]
  },
  {
   "cell_type": "code",
   "execution_count": 9,
   "id": "a99736cc",
   "metadata": {},
   "outputs": [
    {
     "name": "stdout",
     "output_type": "stream",
     "text": [
      "The longest Collatz's is the one starting from 837799 of length 524 (starting point <= 1 000 000)\n"
     ]
    }
   ],
   "source": [
    "# Solution\n",
    "\n",
    "# 1)\n",
    "def collatz(n):\n",
    "    '''\n",
    "    Parameter : int n\n",
    "    Result : next term in the Collatz's sequence\n",
    "    '''\n",
    "    if n % 2 == 1:\n",
    "        return 3*n + 1\n",
    "    else:\n",
    "        return n // 2\n",
    "\n",
    "# 2)\n",
    "def collatz_length(n):\n",
    "    '''\n",
    "    Parameter : int n\n",
    "    Result : length of the Collatz's sequence starting from n\n",
    "    '''\n",
    "    length = 0\n",
    "    while n != 1:\n",
    "        n = collatz(n)\n",
    "        length += 1\n",
    "    return length\n",
    "\n",
    "# 3)\n",
    "n_max = 0\n",
    "max_length = 0\n",
    "for n in range(1, 1000001, 2):\n",
    "    length = collatz_length(n)\n",
    "    if length > max_length:\n",
    "        max_length = length\n",
    "        n_max = n\n",
    "\n",
    "\n",
    "\n",
    "print(\"The longest Collatz's is the one starting from\", n_max, \"of length\", max_length, \"(starting point <= 1 000 000)\")"
   ]
  },
  {
   "cell_type": "markdown",
   "id": "47bd6fd1",
   "metadata": {},
   "source": [
    "### Exercise 12 - Conway's look-and-say sequence &#9733;\n",
    "Conway's look-and-say sequence is a sequence obtained by starting from the number 1 and describing out loud the different digits.<br>\n",
    "The first values are : 1 &#8594; 11 &#8594; 21 &#8594; 1211 &#8594; 111221 &#8594; 312211 &#8594; 13112221 &#8594; 1113213211 &#8594; ...<br>\n",
    "For instance, when describing **1211** out loud, we say **\"one 1, one 2, two 1\"** which gives **111221** for the next term.<br>\n",
    "<br>\n",
    "**1)** Write a function `lookandsay(s)` which takes in parameter a string `s` containing a number and returns the next term in the look-and-say sequence as a string.<br>\n",
    "<br>\n",
    "**2)** Using this function, print the first 20 terms of the look-and-say sequence. <br>\n",
    "<br>\n",
    "It was proven that if we denote by $u_n$ the length of the n-th term in the look-and-say sequence, the ratio $u_{n+1} \\space / \\space u_n$ converges towards a constant number called **Conway's constant**.<br>\n",
    "<br>\n",
    "**3)** Try calculating an approximation of the Conway's constant. Try using different starting point for the sequence : does the value of the constant seem to change ?"
   ]
  },
  {
   "cell_type": "code",
   "execution_count": 50,
   "id": "2e0d4357",
   "metadata": {},
   "outputs": [
    {
     "name": "stdout",
     "output_type": "stream",
     "text": [
      "Question 2 :\n",
      "\n",
      "1 ;\n",
      "11 ;\n",
      "21 ;\n",
      "1211 ;\n",
      "111221 ;\n",
      "312211 ;\n",
      "13112221 ;\n",
      "1113213211 ;\n",
      "31131211131221 ;\n",
      "13211311123113112211 ;\n",
      "11131221133112132113212221 ;\n",
      "3113112221232112111312211312113211 ;\n",
      "1321132132111213122112311311222113111221131221 ;\n",
      "11131221131211131231121113112221121321132132211331222113112211 ;\n",
      "311311222113111231131112132112311321322112111312211312111322212311322113212221 ;\n",
      "132113213221133112132113311211131221121321131211132221123113112221131112311332111213211322211312113211 ;\n",
      "11131221131211132221232112111312212321123113112221121113122113111231133221121321132132211331121321231231121113122113322113111221131221 ;\n",
      "31131122211311123113321112131221123113112211121312211213211321322112311311222113311213212322211211131221131211132221232112111312111213111213211231131122212322211331222113112211 ;\n",
      "1321132132211331121321231231121113112221121321132122311211131122211211131221131211132221121321132132212321121113121112133221123113112221131112311332111213122112311311123112111331121113122112132113213211121332212311322113212221 ;\n",
      "11131221131211132221232112111312111213111213211231132132211211131221131211221321123113213221123113112221131112311332211211131221131211132211121312211231131112311211232221121321132132211331121321231231121113112221121321133112132112312321123113112221121113122113121113123112112322111213211322211312113211 ;\n",
      "\n",
      "\n",
      "Question 3 :\n",
      "\n",
      "1.3037298502882633\n"
     ]
    }
   ],
   "source": [
    "# Solution\n",
    "\n",
    "# 1)\n",
    "def lookandsay(s):\n",
    "    '''\n",
    "    Parameter : string s\n",
    "    Result : next term in the look-and-say sequence after s\n",
    "    '''\n",
    "    current_digit = ''\n",
    "    count = 0\n",
    "    res = ''\n",
    "    for c in s:\n",
    "        if c == current_digit:\n",
    "            count += 1\n",
    "        else:\n",
    "            if count > 0:\n",
    "                res = res + str(count) + current_digit\n",
    "            current_digit = c\n",
    "            count = 1\n",
    "    res = res + str(count) + current_digit\n",
    "    return res\n",
    "\n",
    "# 2)\n",
    "print(\"Question 2 :\\n\")\n",
    "\n",
    "s = '1'\n",
    "print(s, ';')\n",
    "for _ in range(19):\n",
    "    s = lookandsay(s)\n",
    "    print(s, ';')\n",
    "\n",
    "# 3)\n",
    "print(\"\\n\\nQuestion 3 :\\n\")\n",
    "\n",
    "s1 = '1' # Changing this starting point doesn't affect the value on the Conway's constant\n",
    "s2 = lookandsay(s1)\n",
    "N = 50\n",
    "for _ in range(N):\n",
    "    s1, s2 = s2, lookandsay(s2)\n",
    "print(len(s2) / len(s1))"
   ]
  },
  {
   "cell_type": "code",
   "execution_count": null,
   "id": "8f03f8f3",
   "metadata": {},
   "outputs": [],
   "source": []
  }
 ],
 "metadata": {
  "kernelspec": {
   "display_name": "Python 3 (ipykernel)",
   "language": "python",
   "name": "python3"
  },
  "language_info": {
   "codemirror_mode": {
    "name": "ipython",
    "version": 3
   },
   "file_extension": ".py",
   "mimetype": "text/x-python",
   "name": "python",
   "nbconvert_exporter": "python",
   "pygments_lexer": "ipython3",
   "version": "3.12.7"
  }
 },
 "nbformat": 4,
 "nbformat_minor": 5
}
