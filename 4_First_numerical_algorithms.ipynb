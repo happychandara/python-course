{
 "cells": [
  {
   "cell_type": "markdown",
   "id": "45d7812b",
   "metadata": {},
   "source": [
    "# Python Course - Chapter 4 : First numerical algorithms\n",
    "\n",
    "## 1) Introductory example : solving a second degree equation\n",
    "\n",
    "This first introductory example will illustrate that testing an equality of `float` variables is complicated. Since a lot of approximations are made when calculating using `float` variables, the condition `x == y` doesn't make much sense and will generally always be false : we prefer testing the condition that `x` and `y` are \"close from each other\" in a sense we will precise later.<br>\n",
    "<br>\n",
    "For now, we will illustrate this issue concerning equality of floats by trying to write a function that solves a second degree equation of the form $$ax^2 + bx + c = 0.$$<br>\n",
    "Here is a first naive solution of the problem :"
   ]
  },
  {
   "cell_type": "code",
   "execution_count": 36,
   "id": "def635a6",
   "metadata": {},
   "outputs": [
    {
     "name": "stdout",
     "output_type": "stream",
     "text": [
      "Two solutions : -10.000000131708903 and -9.999999868291098\n",
      "No real solutions\n"
     ]
    }
   ],
   "source": [
    "from numpy import sqrt\n",
    "\n",
    "def solve_naive(a, b, c):\n",
    "    '''\n",
    "    Parameters : floats a, b, c\n",
    "    Result : solution(s) of the equation ax^2 + bx + c = 0\n",
    "    '''\n",
    "    delta = b**2 - 4*a*c\n",
    "    if delta < 0:\n",
    "        print('No real solutions')\n",
    "    elif delta > 0:\n",
    "        x1, x2 = (-b-sqrt(delta))/(2*a), (-b+sqrt(delta))/(2*a)\n",
    "        print('Two solutions :', x1, 'and', x2)\n",
    "    else:\n",
    "        x = -b/(2*a)\n",
    "        print('One solution :', x)\n",
    "\n",
    "solve_naive(0.01, 0.2, 1)\n",
    "solve_naive(0.011025, 0.21, 1)"
   ]
  },
  {
   "cell_type": "markdown",
   "id": "86b9f2e1",
   "metadata": {},
   "source": [
    "As you can see, this algorithms concludes that $0.01x^2 + 0.2x + 1 = 0$ has two real solutions and that the equation $0.011025x^2 + 0.21x + 1$ has none.<br>\n",
    "However, both of these equations are such that $\\Delta = 0$ and have one unique solution.<br>\n",
    "<br>\n",
    "The reason why the algorithm doesn't return the current answer is because the variable `delta` is rarely equal to 0 in value. Due to `float` approximations, it is very close to 0 but not equal to it.<br>\n",
    "The solution to tackle this issue is to define a very small value $\\varepsilon$ and consider that the discriminant $\\Delta$ is equal to 0 when it is very small compared to $b^2$ : $\\vert \\Delta \\vert \\leq \\varepsilon b^2$.<br>\n",
    "<br>\n",
    "For $\\varepsilon = 2^{-52}$, our algorithm becomes :"
   ]
  },
  {
   "cell_type": "code",
   "execution_count": 37,
   "id": "874be5e9",
   "metadata": {},
   "outputs": [
    {
     "name": "stdout",
     "output_type": "stream",
     "text": [
      "Delta : 6.938893903907228e-18\n",
      "One solution : -10.0\n",
      "Delta : -6.938893903907228e-18\n",
      "One solution : -9.523809523809524\n"
     ]
    }
   ],
   "source": [
    "from numpy import sqrt\n",
    "\n",
    "def solve(a, b, c, epsilon = 2**(-52)):\n",
    "    '''\n",
    "    Parameters : floats a, b, c, float epsilon\n",
    "    Result : solution(s) of the equation ax^2 + bx + c = 0\n",
    "    '''\n",
    "    delta = b**2 - 4*a*c\n",
    "    print('Delta :', delta)\n",
    "    if delta < - epsilon * b**2:\n",
    "        print('No real solutions')\n",
    "    elif delta > epsilon * b**2:\n",
    "        x1, x2 = (-b-sqrt(delta))/(2*a), (-b+sqrt(delta))/(2*a)\n",
    "        print('Two solutions :', x1, 'and', x2)\n",
    "    else:\n",
    "        x = -b/(2*a)\n",
    "        print('One solution :', x)\n",
    "\n",
    "solve(0.01, 0.2, 1)\n",
    "solve(0.011025, 0.21, 1)"
   ]
  },
  {
   "cell_type": "markdown",
   "id": "695ee8ec",
   "metadata": {},
   "source": [
    "This value of $\\varepsilon = 2^{-52}$ isn't chosen randomy : it is actually the **machine epsilon**. It is an upper bound of the error due to rounding `float` : it is such that $x - \\varepsilon \\vert x \\vert$ and $x + \\varepsilon \\vert x \\vert$ are indistinguishable by the machine.<br>\n",
    "Taking a smaller value for the variable `epsilon` will result in the same issue as what we had in the first function :"
   ]
  },
  {
   "cell_type": "code",
   "execution_count": 38,
   "id": "7e5c1c10",
   "metadata": {},
   "outputs": [
    {
     "name": "stdout",
     "output_type": "stream",
     "text": [
      "Delta : 6.938893903907228e-18\n",
      "Two solutions : -10.000000131708903 and -9.999999868291098\n",
      "Delta : -6.938893903907228e-18\n",
      "No real solutions\n"
     ]
    }
   ],
   "source": [
    "solve(0.01, 0.2, 1, epsilon = 2**(-53))\n",
    "solve(0.011025, 0.21, 1, epsilon = 2**(-53))"
   ]
  },
  {
   "cell_type": "markdown",
   "id": "d404f746",
   "metadata": {},
   "source": [
    "From now on, when writing algorithms to find solutions to equations, we will only look for approximate solutions as we are limited by the machine's precision."
   ]
  },
  {
   "cell_type": "markdown",
   "id": "ab5c65d6",
   "metadata": {},
   "source": [
    "## 2) Bisection method\n",
    "\n",
    "The **bisection method** is an algorithm to **find roots of functions** which means finding the solution of an equation of the form $f(x) = 0$ where $f$ is a continuous function.<br>\n",
    "The fact that $f$ is continuous is important because this method relies on the **itermediate value theorem** stating, in particular, that if $a < b$ are two real numbers such that $f(a)$ and $f(b)$ are of different signs, there exists $x \\in [a,b]$ such that $f(x) = 0$.<br>\n",
    "The condition that $f(a)$ and $f(b)$ are of different signs can be written $f(a)f(b) < 0$, which is the condition we will consider in our Python algorithm.<br>\n",
    "<br>\n",
    "The key idea of the bisection method is to separate $[a,b]$ into two sub-segments $[a,m]$ and $[m,b]$ where $m = (a+b)/2$ is the middle of the segment $[a,b]$. There are now two possibilities :\n",
    "\n",
    "- If $f(a)f(m) < 0$ : This means that the root is inside the segment $[a,m]$ and we can restrict our search there.\n",
    "- If $f(a)f(m) \\geq 0$ : This means that the root is inside the segment $[m,b]$ and we can restrict our search there.\n",
    "\n",
    "We keep splitting the new segment again and repeat the process until we are close enough to the root, which means when the segment is of length inferior to the precision $\\varepsilon$ we want.<br>\n",
    "<br>\n",
    "Note that this algorithm only works if the is a **unique root inside the segment $[a,b]$** !"
   ]
  },
  {
   "cell_type": "code",
   "execution_count": 62,
   "id": "83bea4e8",
   "metadata": {},
   "outputs": [],
   "source": [
    "def bisect(f, a, b, epsilon = 1e-9):\n",
    "    '''\n",
    "    Parameter : function f, floats a, b, float epsilon\n",
    "    Result : zero of the function f in the segment [a,b]\n",
    "    '''\n",
    "    while b - a > 2 * epsilon:\n",
    "        m = (a+b) / 2\n",
    "        if f(a)*f(m) < 0:\n",
    "            a, b = a, m\n",
    "        else:\n",
    "            a, b = m, b\n",
    "    return (a + b) / 2"
   ]
  },
  {
   "cell_type": "markdown",
   "id": "1efa1e23",
   "metadata": {},
   "source": [
    "Let's try using this algorithm to approximate the positive solution of the equation $e^x = x^2 + 2$. Looking at the graph of $y = e^x - x^2 - 2$, we notice that the solution is in the interval $[0,2]$ : we can pick $a = 0$ and $b = 2$"
   ]
  },
  {
   "cell_type": "code",
   "execution_count": 65,
   "id": "d631c5a6",
   "metadata": {},
   "outputs": [
    {
     "name": "stdout",
     "output_type": "stream",
     "text": [
      "1.3190736761316657\n",
      "1.3190736768573652\n"
     ]
    }
   ],
   "source": [
    "from math import exp\n",
    "\n",
    "print(bisect(lambda x : exp(x) - x**2 - 2, 0, 2))\n",
    "print(bisect(lambda x : exp(x) - x**2 - 2, 0, 2, 1e-15))"
   ]
  },
  {
   "cell_type": "markdown",
   "id": "279bcdac",
   "metadata": {},
   "source": [
    "There is actually a Python library, named `scipy` that is dedicated to numerical calculations. A similar function using the bisection method to approximate the zero of a function can be found under the name `bisect` in the library `scipy.optimize`.<br>\n",
    "The only difference is that it returns an error when exceeding a certain maximum iteration amount `max_iter` in the while loop to ensure the algorithm doesn't loop endlessly. We can change our own `bisect` function to include this behavior too !"
   ]
  },
  {
   "cell_type": "code",
   "execution_count": 66,
   "id": "9ec00f32",
   "metadata": {},
   "outputs": [],
   "source": [
    "def bisect(f, a, b, epsilon = 1e-9, max_iter = 100):\n",
    "    '''\n",
    "    Parameter : function f, floats a, b, float epsilon\n",
    "    Result : zero of the function f in the segment [a,b]\n",
    "    '''\n",
    "    n_iter = 0\n",
    "    while b - a > 2 * epsilon:\n",
    "        n_iter += 1\n",
    "        if n_iter > max_iter:\n",
    "            message = 'Failure after ' + str(max_iter) + ' iterations.'\n",
    "            raise RunTimeError(message)\n",
    "        m = (a + b) / 2\n",
    "        if f(a)*f(m) < 0:\n",
    "            a, b = a, m\n",
    "        else:\n",
    "            a, b = m, b\n",
    "    return (a + b) / 2"
   ]
  },
  {
   "cell_type": "markdown",
   "id": "583ccffb",
   "metadata": {},
   "source": [
    "Now, the function cannot loop forever, even if we take a value $\\varepsilon$ that is too small for the algorithm to distinguish (a+b)/2 from a or b"
   ]
  },
  {
   "cell_type": "markdown",
   "id": "3510ae59",
   "metadata": {},
   "source": [
    "## 3) Rectangle method\n",
    "\n",
    "The **rectangle method** is an algorithm to approximate integrals. For a continuous function $f$ over a segment $[a,b]$, the Riemann integral of $f$ over $[a,b]$ is defined by\n",
    "$$\\int_{a}^{b}f(x)dx := \\lim_{N → +\\infty} \\sum_{k=0}^{N-1} \\frac{b-a}{N} f\\left(a + \\frac{k(b-a)}{N}\\right).$$\n",
    "\n",
    "Therefore, we can approximate integrals by calculating the sum of the right hand side for big values of $N$ :\n",
    "$$\\int_{a}^{b}f(x)dx \\approx \\sum_{k=0}^{N-1} \\frac{b-a}{N} f\\left(a + \\frac{k(b-a)}{N}\\right).$$\n",
    "\n",
    "It is then very easy to implement this method in Python :"
   ]
  },
  {
   "cell_type": "code",
   "execution_count": 96,
   "id": "b033b31f",
   "metadata": {},
   "outputs": [],
   "source": [
    "def rectangle(f, a, b, N):\n",
    "    '''\n",
    "    Parameters : function f, floats a, b, int N\n",
    "    Result : approximation of the integral of f over [a,b] with a sum of N rectangles\n",
    "    '''\n",
    "    res = 0\n",
    "    dx = (b - a) / N\n",
    "    for k in range(N):\n",
    "        x = a + k*(b-a)/N\n",
    "        res += f(x) * dx\n",
    "    return res"
   ]
  },
  {
   "cell_type": "markdown",
   "id": "2138864b",
   "metadata": {},
   "source": [
    "We'll use this algorithm to approximate $\\pi$ with the following integral, representing the area of a semi-circle of radius 1 :\n",
    "$$ \\int_{-1}^{1} \\sqrt{1-x^2} dx = \\frac{\\pi}{2}$$"
   ]
  },
  {
   "cell_type": "code",
   "execution_count": 97,
   "id": "ee9c0a1d",
   "metadata": {},
   "outputs": [
    {
     "name": "stdout",
     "output_type": "stream",
     "text": [
      "Rectangle method for N = 1 000 : 3.141487477002142\n",
      "Rectangle method for N = 1 000 000 : 3.1415926502634544\n"
     ]
    }
   ],
   "source": [
    "from math import sqrt\n",
    "\n",
    "N = 1000\n",
    "print('Rectangle method for N = 1 000 :', 2 * rectangle(lambda x : sqrt(1 - x**2), -1, 1, N))\n",
    "\n",
    "N = 1000000\n",
    "print('Rectangle method for N = 1 000 000 :', 2 * rectangle(lambda x : sqrt(1 - x**2), -1, 1, N))"
   ]
  },
  {
   "cell_type": "markdown",
   "id": "b7d1ce97",
   "metadata": {},
   "source": [
    "As we can see, for N = 1 000 000, we already obtain 8 correct decimals of $\\pi$ !<br>\n",
    "<br>\n",
    "We can easily improve this method by \"centering\" the rectangles used in the Riemann sum :\n",
    "$$\\int_{a}^{b}f(x)dx \\approx \\sum_{k=0}^{N-1} \\frac{b-a}{N} f\\left(a + \\frac{(k+1/2)(b-a)}{N}\\right).$$"
   ]
  },
  {
   "cell_type": "code",
   "execution_count": 100,
   "id": "6c4cd69f",
   "metadata": {},
   "outputs": [
    {
     "name": "stdout",
     "output_type": "stream",
     "text": [
      "Centered rectangle method for N = 1 000 : 3.1416234568199135\n",
      "Centered rectangle method for N = 1 000 000 : 3.1415926545640898\n"
     ]
    }
   ],
   "source": [
    "def rectangle_centered(f, a, b, N):\n",
    "    '''\n",
    "    Parameters : function f, floats a, b, int N\n",
    "    Result : approximation of the integral of f over [a,b] with a sum of N rectangles\n",
    "    '''\n",
    "    res = 0\n",
    "    dx = (b - a) / N\n",
    "    for k in range(N):\n",
    "        x = a + (k+1/2)*(b-a)/N\n",
    "        res += f(x) * dx\n",
    "    return res\n",
    "\n",
    "from math import sqrt\n",
    "\n",
    "N = 1000\n",
    "print('Centered rectangle method for N = 1 000 :', 2 * rectangle_centered(lambda x : sqrt(1 - x**2), -1, 1, N))\n",
    "\n",
    "N = 1000000\n",
    "print('Centered rectangle method for N = 1 000 000 :', 2 * rectangle_centered(lambda x : sqrt(1 - x**2), -1, 1, N))"
   ]
  },
  {
   "cell_type": "markdown",
   "id": "8c754c46",
   "metadata": {},
   "source": [
    "As we can see, it's even better than the first rectangle method ! There exists other method to approximate integrals by selecting other points and using polynomial curves instead or simply straight lines to fit the curve of $f$ but we won't cover these methods."
   ]
  }
 ],
 "metadata": {
  "kernelspec": {
   "display_name": "Python 3 (ipykernel)",
   "language": "python",
   "name": "python3"
  },
  "language_info": {
   "codemirror_mode": {
    "name": "ipython",
    "version": 3
   },
   "file_extension": ".py",
   "mimetype": "text/x-python",
   "name": "python",
   "nbconvert_exporter": "python",
   "pygments_lexer": "ipython3",
   "version": "3.9.12"
  }
 },
 "nbformat": 4,
 "nbformat_minor": 5
}
