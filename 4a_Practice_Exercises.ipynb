{
 "cells": [
  {
   "cell_type": "markdown",
   "id": "ee1546cf",
   "metadata": {},
   "source": [
    "# Python Course - Chapter 4 : First numerical algorithms\n",
    "\n",
    "## Practice Exercises"
   ]
  },
  {
   "cell_type": "markdown",
   "id": "86dda2ef",
   "metadata": {},
   "source": [
    "### Exercise 1 - Solving an equation\n",
    "\n",
    "Show that the equation $x\\ln(x) = 1$ has a unique solution in $\\mathbb{R}_+^*$. Calculate an approximate value of the solution."
   ]
  },
  {
   "cell_type": "code",
   "execution_count": null,
   "id": "d8ec739b",
   "metadata": {},
   "outputs": [],
   "source": []
  },
  {
   "cell_type": "markdown",
   "id": "e16190bd",
   "metadata": {},
   "source": [
    "### Exercise 2 - Approximating roots of numbers\n",
    "\n",
    "**1)** Using the bisection method, find an approximate value of $\\sqrt{2}$.<br>\n",
    "<br>\n",
    "**2)** Generalize this method and write a function that calculates an approximate value of $\\sqrt[p]{n}$."
   ]
  },
  {
   "cell_type": "code",
   "execution_count": null,
   "id": "e875368d",
   "metadata": {},
   "outputs": [],
   "source": []
  },
  {
   "cell_type": "markdown",
   "id": "b6d458f1",
   "metadata": {},
   "source": [
    "### Exercise 3 - \n",
    "\n"
   ]
  },
  {
   "cell_type": "code",
   "execution_count": null,
   "id": "f0f698dd",
   "metadata": {},
   "outputs": [],
   "source": []
  },
  {
   "cell_type": "markdown",
   "id": "c9267343",
   "metadata": {},
   "source": [
    "### Exercise 4 - Approximation of $\\ln(2)$\n",
    "\n",
    "Choosing an appropriate integral and using the rectangle method, calculate an approximate value of $\\ln(2)$."
   ]
  },
  {
   "cell_type": "code",
   "execution_count": null,
   "id": "c4c2da98",
   "metadata": {},
   "outputs": [],
   "source": []
  },
  {
   "cell_type": "markdown",
   "id": "459d0e7f",
   "metadata": {},
   "source": [
    "### Exercise 5 - Gaussian integral\n",
    "\n",
    "Find an approximate value of the following integral :\n",
    "$$ \\int_{-\\infty}^{+\\infty} \\exp(-x^2)dx.$$\n",
    "\n",
    "Compare the obtained value to $\\sqrt{\\pi}$."
   ]
  },
  {
   "cell_type": "code",
   "execution_count": null,
   "id": "39f4c6fd",
   "metadata": {},
   "outputs": [],
   "source": []
  },
  {
   "cell_type": "markdown",
   "id": "23cbc9fb",
   "metadata": {},
   "source": [
    "### Exercise - Calculating a derivative\n",
    "\n"
   ]
  },
  {
   "cell_type": "code",
   "execution_count": null,
   "id": "f15b0b25",
   "metadata": {},
   "outputs": [],
   "source": []
  }
 ],
 "metadata": {
  "kernelspec": {
   "display_name": "Python 3 (ipykernel)",
   "language": "python",
   "name": "python3"
  },
  "language_info": {
   "codemirror_mode": {
    "name": "ipython",
    "version": 3
   },
   "file_extension": ".py",
   "mimetype": "text/x-python",
   "name": "python",
   "nbconvert_exporter": "python",
   "pygments_lexer": "ipython3",
   "version": "3.9.12"
  }
 },
 "nbformat": 4,
 "nbformat_minor": 5
}
